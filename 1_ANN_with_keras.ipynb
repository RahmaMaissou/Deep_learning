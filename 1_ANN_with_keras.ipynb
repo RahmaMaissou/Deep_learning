{
  "nbformat": 4,
  "nbformat_minor": 0,
  "metadata": {
    "kernelspec": {
      "display_name": "Python 3",
      "language": "python",
      "name": "python3"
    },
    "language_info": {
      "codemirror_mode": {
        "name": "ipython",
        "version": 3
      },
      "file_extension": ".py",
      "mimetype": "text/x-python",
      "name": "python",
      "nbconvert_exporter": "python",
      "pygments_lexer": "ipython3",
      "version": "3.6.1"
    },
    "nav_menu": {
      "height": "264px",
      "width": "369px"
    },
    "toc": {
      "navigate_menu": true,
      "number_sections": true,
      "sideBar": true,
      "threshold": 6,
      "toc_cell": false,
      "toc_section_display": "block",
      "toc_window_display": false
    },
    "colab": {
      "name": "Copie de Copie de ANN_with_keras.ipynb",
      "provenance": [],
      "collapsed_sections": []
    }
  },
  "cells": [
    {
      "cell_type": "markdown",
      "metadata": {
        "id": "gqXfwLlP1lkc"
      },
      "source": [
        "# Artificial Neural Networks with Keras"
      ]
    },
    {
      "cell_type": "markdown",
      "metadata": {
        "id": "5h0ThjxC1lkd"
      },
      "source": [
        "<table align=\"left\">\n",
        "  <td>\n",
        "    <a target=\"_blank\" href=\"https://colab.research.google.com/github/AbdelMahm/INPT-2020/blob/master/Notebooks_DL/ANN_with_keras.ipynb\"><img src=\"https://colab.research.google.com/img/colab_favicon_256px.png\" />Run in Google Colab</a>\n",
        "  </td>\n",
        "</table>"
      ]
    },
    {
      "cell_type": "markdown",
      "metadata": {
        "id": "hxi74YC61lke"
      },
      "source": [
        "# Setup"
      ]
    },
    {
      "cell_type": "code",
      "metadata": {
        "id": "SL45xNiS1lke"
      },
      "source": [
        "Firstly, let's import a few common modules, ensure MatplotLib plots figures inline and prepare a function to save the figures. We also check that Python 3.5 or later is installed (although Python 2.x may work, it is deprecated so we strongly recommend you use Python 3 instead), as well as Scikit-Learn ≥0.20 and TensorFlow ≥2.0."
      ],
      "execution_count": null,
      "outputs": []
    },
    {
      "cell_type": "code",
      "metadata": {
        "id": "j8-U7uVY1lke"
      },
      "source": [
        "# TensorFlow ≥2.0 is required\n",
        "import tensorflow as tf\n",
        "\n",
        "# Common imports\n",
        "import numpy as np\n",
        "import os\n",
        "\n",
        "# to make this notebook's output stable across runs\n",
        "np.random.seed(42)\n",
        "\n",
        "# To plot pretty figures\n",
        "%matplotlib inline\n",
        "import matplotlib as mpl\n",
        "import matplotlib.pyplot as plt\n",
        "mpl.rc('axes', labelsize=14)\n",
        "mpl.rc('xtick', labelsize=12)\n",
        "mpl.rc('ytick', labelsize=12)\n",
        "\n",
        "# Ignore useless warnings (see SciPy issue #5998)\n",
        "import warnings\n",
        "warnings.filterwarnings(action=\"ignore\", message=\"^internal gelsd\")"
      ],
      "execution_count": 6,
      "outputs": []
    },
    {
      "cell_type": "markdown",
      "metadata": {
        "id": "l7IDelFU1lkf"
      },
      "source": [
        "# Building an Image Classifier"
      ]
    },
    {
      "cell_type": "markdown",
      "metadata": {
        "id": "PKChjZAR1lkf"
      },
      "source": [
        "First let's import TensorFlow and Keras."
      ]
    },
    {
      "cell_type": "code",
      "metadata": {
        "id": "jt-iRmW21lkf"
      },
      "source": [
        "import tensorflow as tf\n",
        "from tensorflow import keras"
      ],
      "execution_count": 1,
      "outputs": []
    },
    {
      "cell_type": "code",
      "metadata": {
        "colab": {
          "base_uri": "https://localhost:8080/",
          "height": 36
        },
        "id": "Pi5qIgTZ1lkf",
        "outputId": "de506488-5f57-4871-cded-090648a437b0"
      },
      "source": [
        "tf.__version__"
      ],
      "execution_count": null,
      "outputs": [
        {
          "output_type": "execute_result",
          "data": {
            "application/vnd.google.colaboratory.intrinsic+json": {
              "type": "string"
            },
            "text/plain": [
              "'2.3.0'"
            ]
          },
          "metadata": {
            "tags": []
          },
          "execution_count": 3
        }
      ]
    },
    {
      "cell_type": "markdown",
      "metadata": {
        "id": "ZxyRS8Eg1lkf"
      },
      "source": [
        "Let's start by loading the fashion MNIST dataset. Keras has a number of functions to load popular datasets in `keras.datasets`. The dataset is already split for you between a training set and a test set, but it can be useful to split the training set further to have a validation set:"
      ]
    },
    {
      "cell_type": "code",
      "metadata": {
        "colab": {
          "base_uri": "https://localhost:8080/"
        },
        "id": "DmN7zPRu1lkg",
        "outputId": "08329979-e214-4fa3-8b4e-c27a6bc2edef"
      },
      "source": [
        "fashion_mnist = keras.datasets.fashion_mnist\n",
        "(X_train_full, y_train_full), (X_test, y_test) = fashion_mnist.load_data()"
      ],
      "execution_count": 2,
      "outputs": [
        {
          "output_type": "stream",
          "text": [
            "Downloading data from https://storage.googleapis.com/tensorflow/tf-keras-datasets/train-labels-idx1-ubyte.gz\n",
            "32768/29515 [=================================] - 0s 0us/step\n",
            "Downloading data from https://storage.googleapis.com/tensorflow/tf-keras-datasets/train-images-idx3-ubyte.gz\n",
            "26427392/26421880 [==============================] - 0s 0us/step\n",
            "Downloading data from https://storage.googleapis.com/tensorflow/tf-keras-datasets/t10k-labels-idx1-ubyte.gz\n",
            "8192/5148 [===============================================] - 0s 0us/step\n",
            "Downloading data from https://storage.googleapis.com/tensorflow/tf-keras-datasets/t10k-images-idx3-ubyte.gz\n",
            "4423680/4422102 [==============================] - 0s 0us/step\n"
          ],
          "name": "stdout"
        }
      ]
    },
    {
      "cell_type": "markdown",
      "metadata": {
        "id": "PXjTCLse1lkh"
      },
      "source": [
        "The training set contains 60,000 grayscale images, each 28x28 pixels:"
      ]
    },
    {
      "cell_type": "code",
      "metadata": {
        "colab": {
          "base_uri": "https://localhost:8080/"
        },
        "id": "fQ3SmmKM1lkh",
        "outputId": "eeda8d79-4418-41fa-f1e9-2178cd073c65"
      },
      "source": [
        "X_train_full.shape"
      ],
      "execution_count": null,
      "outputs": [
        {
          "output_type": "execute_result",
          "data": {
            "text/plain": [
              "(60000, 28, 28)"
            ]
          },
          "metadata": {
            "tags": []
          },
          "execution_count": 4
        }
      ]
    },
    {
      "cell_type": "markdown",
      "metadata": {
        "id": "9IzBgT0g1lkh"
      },
      "source": [
        "Each pixel intensity is represented as a byte (0 to 255):"
      ]
    },
    {
      "cell_type": "code",
      "metadata": {
        "colab": {
          "base_uri": "https://localhost:8080/"
        },
        "id": "4SbBrbFR1lki",
        "outputId": "de3ac0e5-e54f-423c-f7fd-65d50f4d3db5"
      },
      "source": [
        "X_train_full.dtype"
      ],
      "execution_count": null,
      "outputs": [
        {
          "output_type": "execute_result",
          "data": {
            "text/plain": [
              "dtype('uint8')"
            ]
          },
          "metadata": {
            "tags": []
          },
          "execution_count": 5
        }
      ]
    },
    {
      "cell_type": "markdown",
      "metadata": {
        "id": "fO0YneI_1lki"
      },
      "source": [
        "Let's split the full training set into a validation set and a (smaller) training set. We also scale the pixel intensities down to the 0-1 range and convert them to floats, by dividing by 255."
      ]
    },
    {
      "cell_type": "code",
      "metadata": {
        "id": "744uaWpW1lki"
      },
      "source": [
        "X_valid, X_train = X_train_full[:5000] / 255., X_train_full[5000:] / 255.\n",
        "y_valid, y_train = y_train_full[:5000], y_train_full[5000:]\n",
        "X_test = X_test / 255."
      ],
      "execution_count": 3,
      "outputs": []
    },
    {
      "cell_type": "code",
      "metadata": {
        "colab": {
          "base_uri": "https://localhost:8080/"
        },
        "id": "3tKXJuSn8Plo",
        "outputId": "744f4150-3ecb-465a-c416-3ae6d6177dbc"
      },
      "source": [
        "X_train.shape"
      ],
      "execution_count": null,
      "outputs": [
        {
          "output_type": "execute_result",
          "data": {
            "text/plain": [
              "(55000, 28, 28)"
            ]
          },
          "metadata": {
            "tags": []
          },
          "execution_count": 9
        }
      ]
    },
    {
      "cell_type": "code",
      "metadata": {
        "colab": {
          "base_uri": "https://localhost:8080/"
        },
        "id": "VSo--7s4QBN2",
        "outputId": "3304dc94-d384-43a2-a6f3-65f960624b69"
      },
      "source": [
        "X_train"
      ],
      "execution_count": null,
      "outputs": [
        {
          "output_type": "execute_result",
          "data": {
            "text/plain": [
              "array([[[0., 0., 0., ..., 0., 0., 0.],\n",
              "        [0., 0., 0., ..., 0., 0., 0.],\n",
              "        [0., 0., 0., ..., 0., 0., 0.],\n",
              "        ...,\n",
              "        [0., 0., 0., ..., 0., 0., 0.],\n",
              "        [0., 0., 0., ..., 0., 0., 0.],\n",
              "        [0., 0., 0., ..., 0., 0., 0.]],\n",
              "\n",
              "       [[0., 0., 0., ..., 0., 0., 0.],\n",
              "        [0., 0., 0., ..., 0., 0., 0.],\n",
              "        [0., 0., 0., ..., 0., 0., 0.],\n",
              "        ...,\n",
              "        [0., 0., 0., ..., 0., 0., 0.],\n",
              "        [0., 0., 0., ..., 0., 0., 0.],\n",
              "        [0., 0., 0., ..., 0., 0., 0.]],\n",
              "\n",
              "       [[0., 0., 0., ..., 0., 0., 0.],\n",
              "        [0., 0., 0., ..., 0., 0., 0.],\n",
              "        [0., 0., 0., ..., 0., 0., 0.],\n",
              "        ...,\n",
              "        [0., 0., 0., ..., 0., 0., 0.],\n",
              "        [0., 0., 0., ..., 0., 0., 0.],\n",
              "        [0., 0., 0., ..., 0., 0., 0.]],\n",
              "\n",
              "       ...,\n",
              "\n",
              "       [[0., 0., 0., ..., 0., 0., 0.],\n",
              "        [0., 0., 0., ..., 0., 0., 0.],\n",
              "        [0., 0., 0., ..., 0., 0., 0.],\n",
              "        ...,\n",
              "        [0., 0., 0., ..., 0., 0., 0.],\n",
              "        [0., 0., 0., ..., 0., 0., 0.],\n",
              "        [0., 0., 0., ..., 0., 0., 0.]],\n",
              "\n",
              "       [[0., 0., 0., ..., 0., 0., 0.],\n",
              "        [0., 0., 0., ..., 0., 0., 0.],\n",
              "        [0., 0., 0., ..., 0., 0., 0.],\n",
              "        ...,\n",
              "        [0., 0., 0., ..., 0., 0., 0.],\n",
              "        [0., 0., 0., ..., 0., 0., 0.],\n",
              "        [0., 0., 0., ..., 0., 0., 0.]],\n",
              "\n",
              "       [[0., 0., 0., ..., 0., 0., 0.],\n",
              "        [0., 0., 0., ..., 0., 0., 0.],\n",
              "        [0., 0., 0., ..., 0., 0., 0.],\n",
              "        ...,\n",
              "        [0., 0., 0., ..., 0., 0., 0.],\n",
              "        [0., 0., 0., ..., 0., 0., 0.],\n",
              "        [0., 0., 0., ..., 0., 0., 0.]]])"
            ]
          },
          "metadata": {
            "tags": []
          },
          "execution_count": 10
        }
      ]
    },
    {
      "cell_type": "markdown",
      "metadata": {
        "id": "ZF6JwA0e1lki"
      },
      "source": [
        "You can plot an image using Matplotlib's `imshow()` function, with a `'binary'`\n",
        " color map:"
      ]
    },
    {
      "cell_type": "code",
      "metadata": {
        "colab": {
          "base_uri": "https://localhost:8080/",
          "height": 248
        },
        "id": "AJo-fQ_u1lki",
        "outputId": "5be67aa2-7955-414a-d23e-7cd26807fb2e"
      },
      "source": [
        "plt.imshow(X_train[0], cmap=\"binary\")\n",
        "plt.axis('off')\n",
        "plt.show()"
      ],
      "execution_count": null,
      "outputs": [
        {
          "output_type": "display_data",
          "data": {
            "image/png": "[encoded data removed]",
            "text/plain": [
              "<Figure size 432x288 with 1 Axes>"
            ]
          },
          "metadata": {
            "tags": [],
            "needs_background": "light"
          }
        }
      ]
    },
    {
      "cell_type": "code",
      "metadata": {
        "colab": {
          "base_uri": "https://localhost:8080/",
          "height": 248
        },
        "id": "p6VfF9rtQQvq",
        "outputId": "b011fa1a-aa5d-46e5-e599-079a7dd91d6c"
      },
      "source": [
        "plt.imshow(X_train[3], cmap=\"binary\")\n",
        "plt.axis('off')\n",
        "plt.show()"
      ],
      "execution_count": null,
      "outputs": [
        {
          "output_type": "display_data",
          "data": {
            "image/png": "[encoded data removed]",
            "text/plain": [
              "<Figure size 432x288 with 1 Axes>"
            ]
          },
          "metadata": {
            "tags": [],
            "needs_background": "light"
          }
        }
      ]
    },
    {
      "cell_type": "code",
      "metadata": {
        "colab": {
          "base_uri": "https://localhost:8080/",
          "height": 248
        },
        "id": "c0_H2ky7Qmqt",
        "outputId": "9ccc2edf-8691-4200-e2c3-e51544c80c0b"
      },
      "source": [
        "plt.imshow(X_train[9], cmap=\"binary\")\n",
        "plt.axis('off')\n",
        "plt.show()"
      ],
      "execution_count": null,
      "outputs": [
        {
          "output_type": "display_data",
          "data": {
            "image/png": "[encoded data removed]",
            "text/plain": [
              "<Figure size 432x288 with 1 Axes>"
            ]
          },
          "metadata": {
            "tags": [],
            "needs_background": "light"
          }
        }
      ]
    },
    {
      "cell_type": "markdown",
      "metadata": {
        "id": "FnmLEOVN1lki"
      },
      "source": [
        "The labels are the class IDs (represented as uint8), from 0 to 9:"
      ]
    },
    {
      "cell_type": "code",
      "metadata": {
        "colab": {
          "base_uri": "https://localhost:8080/"
        },
        "id": "SXhmhFoL1lki",
        "outputId": "1911c02a-ebf2-4e47-e3fe-851a8fa0e9e8"
      },
      "source": [
        "y_train"
      ],
      "execution_count": null,
      "outputs": [
        {
          "output_type": "execute_result",
          "data": {
            "text/plain": [
              "array([4, 0, 7, ..., 3, 0, 5], dtype=uint8)"
            ]
          },
          "metadata": {
            "tags": []
          },
          "execution_count": 13
        }
      ]
    },
    {
      "cell_type": "markdown",
      "metadata": {
        "id": "dw_vLZBe1lkj"
      },
      "source": [
        "Here are the corresponding class names:"
      ]
    },
    {
      "cell_type": "code",
      "metadata": {
        "id": "RoNS9MXM1lkj"
      },
      "source": [
        "class_names = [\"T-shirt/top\", \"Trouser\", \"Pullover\", \"Dress\", \"Coat\",\n",
        "               \"Sandal\", \"Shirt\", \"Sneaker\", \"Bag\", \"Ankle boot\"]"
      ],
      "execution_count": 22,
      "outputs": []
    },
    {
      "cell_type": "markdown",
      "metadata": {
        "id": "U0HC59RW1lkj"
      },
      "source": [
        "So the first image in the training set is a coat:"
      ]
    },
    {
      "cell_type": "code",
      "metadata": {
        "colab": {
          "base_uri": "https://localhost:8080/",
          "height": 36
        },
        "id": "oOs0Ht411lkj",
        "outputId": "3ccdc833-b681-4cc7-bd6c-5a2a79f8f085"
      },
      "source": [
        "class_names[y_train[0]]"
      ],
      "execution_count": null,
      "outputs": [
        {
          "output_type": "execute_result",
          "data": {
            "application/vnd.google.colaboratory.intrinsic+json": {
              "type": "string"
            },
            "text/plain": [
              "'Coat'"
            ]
          },
          "metadata": {
            "tags": []
          },
          "execution_count": 15
        }
      ]
    },
    {
      "cell_type": "code",
      "metadata": {
        "colab": {
          "base_uri": "https://localhost:8080/",
          "height": 36
        },
        "id": "MgHe4Mr7RJOq",
        "outputId": "27d3b40c-1652-487b-bb99-1c8e2ca39729"
      },
      "source": [
        "class_names[y_train[3]]"
      ],
      "execution_count": null,
      "outputs": [
        {
          "output_type": "execute_result",
          "data": {
            "application/vnd.google.colaboratory.intrinsic+json": {
              "type": "string"
            },
            "text/plain": [
              "'Ankle boot'"
            ]
          },
          "metadata": {
            "tags": []
          },
          "execution_count": 16
        }
      ]
    },
    {
      "cell_type": "markdown",
      "metadata": {
        "id": "gnFGdzZ81lkj"
      },
      "source": [
        "The validation set contains 5,000 images, and the test set contains 10,000 images:"
      ]
    },
    {
      "cell_type": "code",
      "metadata": {
        "colab": {
          "base_uri": "https://localhost:8080/"
        },
        "id": "4O_X43W-1lkj",
        "outputId": "e25edbfd-03f6-4e8e-f185-519f51e19a78"
      },
      "source": [
        "X_valid.shape"
      ],
      "execution_count": null,
      "outputs": [
        {
          "output_type": "execute_result",
          "data": {
            "text/plain": [
              "(5000, 28, 28)"
            ]
          },
          "metadata": {
            "tags": []
          },
          "execution_count": 17
        }
      ]
    },
    {
      "cell_type": "code",
      "metadata": {
        "colab": {
          "base_uri": "https://localhost:8080/"
        },
        "id": "Em6bLXci1lkj",
        "outputId": "99b68f49-a13f-4c31-ce95-4609c2a23518"
      },
      "source": [
        "X_test.shape"
      ],
      "execution_count": null,
      "outputs": [
        {
          "output_type": "execute_result",
          "data": {
            "text/plain": [
              "(10000, 28, 28)"
            ]
          },
          "metadata": {
            "tags": []
          },
          "execution_count": 18
        }
      ]
    },
    {
      "cell_type": "markdown",
      "metadata": {
        "id": "y7ZoKpJF1lkj"
      },
      "source": [
        "Let's take a look at a sample of the images in the dataset:"
      ]
    },
    {
      "cell_type": "code",
      "metadata": {
        "colab": {
          "base_uri": "https://localhost:8080/",
          "height": 308
        },
        "id": "1f8Sdr-s1lkj",
        "outputId": "5e3e9eef-52c9-43c4-bde4-1fa09da258e6"
      },
      "source": [
        "n_rows = 4\n",
        "n_cols = 10\n",
        "plt.figure(figsize=(n_cols * 1.2, n_rows * 1.2))\n",
        "for row in range(n_rows):\n",
        "    for col in range(n_cols):\n",
        "        index = n_cols * row + col\n",
        "        plt.subplot(n_rows, n_cols, index + 1)\n",
        "        plt.imshow(X_train[index], cmap=\"binary\", interpolation=\"nearest\")\n",
        "        plt.axis('off')\n",
        "        plt.title(class_names[y_train[index]], fontsize=12)\n",
        "plt.subplots_adjust(wspace=0.2, hspace=0.5)\n",
        "plt.show()"
      ],
      "execution_count": null,
      "outputs": [
        {
          "output_type": "display_data",
          "data": {
            "image/png": "[encoded data removed]",
            "text/plain": [
              "<Figure size 864x345.6 with 40 Axes>"
            ]
          },
          "metadata": {
            "tags": [],
            "needs_background": "light"
          }
        }
      ]
    },
    {
      "cell_type": "markdown",
      "metadata": {
        "id": "eBjK2w-a1lkj"
      },
      "source": [
        "## Construct a Model"
      ]
    },
    {
      "cell_type": "code",
      "metadata": {
        "id": "LRBDJqvA1lkj"
      },
      "source": [
        "model = keras.models.Sequential()\n",
        "model.add(keras.layers.Flatten(input_shape=[28, 28]))\n",
        "model.add(keras.layers.Dense(300, activation=\"relu\"))\n",
        "model.add(keras.layers.Dense(100, activation=\"relu\"))\n",
        "model.add(keras.layers.Dense(10, activation=\"softmax\"))"
      ],
      "execution_count": 7,
      "outputs": []
    },
    {
      "cell_type": "code",
      "metadata": {
        "id": "tSHvGs471lkj"
      },
      "source": [
        "keras.backend.clear_session()\n",
        "np.random.seed(42)"
      ],
      "execution_count": 8,
      "outputs": []
    },
    {
      "cell_type": "markdown",
      "metadata": {
        "id": "13SKDkLK1lkj"
      },
      "source": [
        "### or using the folowing method"
      ]
    },
    {
      "cell_type": "code",
      "metadata": {
        "id": "6dJz4KEO1lkj"
      },
      "source": [
        "model = keras.models.Sequential([\n",
        "    keras.layers.Flatten(input_shape=[28, 28]),\n",
        "    keras.layers.Dense(300, activation=\"relu\"),\n",
        "    keras.layers.Dense(100, activation=\"relu\"),\n",
        "    keras.layers.Dense(10, activation=\"softmax\")\n",
        "])"
      ],
      "execution_count": 9,
      "outputs": []
    },
    {
      "cell_type": "code",
      "metadata": {
        "colab": {
          "base_uri": "https://localhost:8080/"
        },
        "id": "XNR_XNvp1lkj",
        "outputId": "67096cf7-cbde-45f4-fa69-fb3e1be7120b"
      },
      "source": [
        "model.layers"
      ],
      "execution_count": 10,
      "outputs": [
        {
          "output_type": "execute_result",
          "data": {
            "text/plain": [
              "[<tensorflow.python.keras.layers.core.Flatten at 0x7ff8524bb668>,\n",
              " <tensorflow.python.keras.layers.core.Dense at 0x7ff8524bb7f0>,\n",
              " <tensorflow.python.keras.layers.core.Dense at 0x7ff8524bba58>,\n",
              " <tensorflow.python.keras.layers.core.Dense at 0x7ff8524bbcc0>]"
            ]
          },
          "metadata": {
            "tags": []
          },
          "execution_count": 10
        }
      ]
    },
    {
      "cell_type": "code",
      "metadata": {
        "colab": {
          "base_uri": "https://localhost:8080/"
        },
        "id": "W5R3SADH1lkj",
        "outputId": "ddd59267-d10a-44fc-a4b4-d68ece731808"
      },
      "source": [
        "model.summary()"
      ],
      "execution_count": null,
      "outputs": [
        {
          "output_type": "stream",
          "text": [
            "Model: \"sequential\"\n",
            "_________________________________________________________________\n",
            "Layer (type)                 Output Shape              Param #   \n",
            "=================================================================\n",
            "flatten (Flatten)            (None, 784)               0         \n",
            "_________________________________________________________________\n",
            "dense (Dense)                (None, 300)               235500    \n",
            "_________________________________________________________________\n",
            "dense_1 (Dense)              (None, 100)               30100     \n",
            "_________________________________________________________________\n",
            "dense_2 (Dense)              (None, 10)                1010      \n",
            "=================================================================\n",
            "Total params: 266,610\n",
            "Trainable params: 266,610\n",
            "Non-trainable params: 0\n",
            "_________________________________________________________________\n"
          ],
          "name": "stdout"
        }
      ]
    },
    {
      "cell_type": "code",
      "metadata": {
        "colab": {
          "base_uri": "https://localhost:8080/",
          "height": 533
        },
        "id": "U8yBEUvD1lkk",
        "outputId": "1b04a54c-2e1f-4532-eb3b-99271b8dc5df"
      },
      "source": [
        "keras.utils.plot_model(model, \"my_mnist_model.png\", show_shapes=True)"
      ],
      "execution_count": null,
      "outputs": [
        {
          "output_type": "execute_result",
          "data": {
            "image/png": "[encoded data removed]",
            "text/plain": [
              "<IPython.core.display.Image object>"
            ]
          },
          "metadata": {
            "tags": []
          },
          "execution_count": 27
        }
      ]
    },
    {
      "cell_type": "code",
      "metadata": {
        "colab": {
          "base_uri": "https://localhost:8080/",
          "height": 36
        },
        "id": "ruIJF80e1lkk",
        "outputId": "2c66b061-e32c-4fed-8ccd-8a7174ccf6dc"
      },
      "source": [
        "hidden1 = model.layers[1]\n",
        "hidden1.name"
      ],
      "execution_count": null,
      "outputs": [
        {
          "output_type": "execute_result",
          "data": {
            "application/vnd.google.colaboratory.intrinsic+json": {
              "type": "string"
            },
            "text/plain": [
              "'dense'"
            ]
          },
          "metadata": {
            "tags": []
          },
          "execution_count": 28
        }
      ]
    },
    {
      "cell_type": "code",
      "metadata": {
        "colab": {
          "base_uri": "https://localhost:8080/",
          "height": 36
        },
        "id": "7yoJmjKm_o2u",
        "outputId": "e874dcee-cb66-4638-a936-29511cf56a5d"
      },
      "source": [
        "hidden0 = model.layers[0]\n",
        "hidden0.name"
      ],
      "execution_count": null,
      "outputs": [
        {
          "output_type": "execute_result",
          "data": {
            "application/vnd.google.colaboratory.intrinsic+json": {
              "type": "string"
            },
            "text/plain": [
              "'flatten'"
            ]
          },
          "metadata": {
            "tags": []
          },
          "execution_count": 29
        }
      ]
    },
    {
      "cell_type": "code",
      "metadata": {
        "colab": {
          "base_uri": "https://localhost:8080/"
        },
        "id": "_ScqlNcJ1lkk",
        "outputId": "9a10d663-f410-44a6-de87-4cff9ef529c9"
      },
      "source": [
        "model.get_layer(hidden1.name) is hidden1"
      ],
      "execution_count": null,
      "outputs": [
        {
          "output_type": "execute_result",
          "data": {
            "text/plain": [
              "True"
            ]
          },
          "metadata": {
            "tags": []
          },
          "execution_count": 30
        }
      ]
    },
    {
      "cell_type": "code",
      "metadata": {
        "id": "rKWAXj7h1lkk"
      },
      "source": [
        "weights, biases = hidden1.get_weights()"
      ],
      "execution_count": null,
      "outputs": []
    },
    {
      "cell_type": "code",
      "metadata": {
        "colab": {
          "base_uri": "https://localhost:8080/"
        },
        "id": "TWx03DxE1lkk",
        "outputId": "c14c4472-2f96-4a67-f955-fa305a994d29"
      },
      "source": [
        "weights"
      ],
      "execution_count": null,
      "outputs": [
        {
          "output_type": "execute_result",
          "data": {
            "text/plain": [
              "array([[-0.02579143, -0.02607693,  0.03013101, ..., -0.03498784,\n",
              "         0.03756991,  0.03728417],\n",
              "       [-0.02371168, -0.00984675,  0.05386323, ...,  0.05078243,\n",
              "        -0.04730336,  0.02780786],\n",
              "       [-0.06755311, -0.0645785 ,  0.03675468, ..., -0.05215848,\n",
              "        -0.05664575,  0.02238189],\n",
              "       ...,\n",
              "       [ 0.05764285, -0.04284463, -0.04632498, ...,  0.04677754,\n",
              "         0.03847817, -0.05916373],\n",
              "       [-0.01780958,  0.02644382,  0.00049515, ..., -0.04858703,\n",
              "        -0.03182134,  0.04628294],\n",
              "       [-0.07413887, -0.02229052,  0.01250377, ...,  0.01042654,\n",
              "        -0.01371431, -0.05936766]], dtype=float32)"
            ]
          },
          "metadata": {
            "tags": []
          },
          "execution_count": 32
        }
      ]
    },
    {
      "cell_type": "code",
      "metadata": {
        "colab": {
          "base_uri": "https://localhost:8080/"
        },
        "id": "wI3VsODy1lkk",
        "outputId": "8f478148-15ad-4335-a487-322250a5c0f1"
      },
      "source": [
        "weights.shape"
      ],
      "execution_count": null,
      "outputs": [
        {
          "output_type": "execute_result",
          "data": {
            "text/plain": [
              "(784, 300)"
            ]
          },
          "metadata": {
            "tags": []
          },
          "execution_count": 33
        }
      ]
    },
    {
      "cell_type": "code",
      "metadata": {
        "colab": {
          "base_uri": "https://localhost:8080/"
        },
        "id": "1OXmqvID1lkk",
        "outputId": "a4572bbc-7d9e-4218-c8bc-4fb0fb2bedc6"
      },
      "source": [
        "biases"
      ],
      "execution_count": null,
      "outputs": [
        {
          "output_type": "execute_result",
          "data": {
            "text/plain": [
              "array([0., 0., 0., 0., 0., 0., 0., 0., 0., 0., 0., 0., 0., 0., 0., 0., 0.,\n",
              "       0., 0., 0., 0., 0., 0., 0., 0., 0., 0., 0., 0., 0., 0., 0., 0., 0.,\n",
              "       0., 0., 0., 0., 0., 0., 0., 0., 0., 0., 0., 0., 0., 0., 0., 0., 0.,\n",
              "       0., 0., 0., 0., 0., 0., 0., 0., 0., 0., 0., 0., 0., 0., 0., 0., 0.,\n",
              "       0., 0., 0., 0., 0., 0., 0., 0., 0., 0., 0., 0., 0., 0., 0., 0., 0.,\n",
              "       0., 0., 0., 0., 0., 0., 0., 0., 0., 0., 0., 0., 0., 0., 0., 0., 0.,\n",
              "       0., 0., 0., 0., 0., 0., 0., 0., 0., 0., 0., 0., 0., 0., 0., 0., 0.,\n",
              "       0., 0., 0., 0., 0., 0., 0., 0., 0., 0., 0., 0., 0., 0., 0., 0., 0.,\n",
              "       0., 0., 0., 0., 0., 0., 0., 0., 0., 0., 0., 0., 0., 0., 0., 0., 0.,\n",
              "       0., 0., 0., 0., 0., 0., 0., 0., 0., 0., 0., 0., 0., 0., 0., 0., 0.,\n",
              "       0., 0., 0., 0., 0., 0., 0., 0., 0., 0., 0., 0., 0., 0., 0., 0., 0.,\n",
              "       0., 0., 0., 0., 0., 0., 0., 0., 0., 0., 0., 0., 0., 0., 0., 0., 0.,\n",
              "       0., 0., 0., 0., 0., 0., 0., 0., 0., 0., 0., 0., 0., 0., 0., 0., 0.,\n",
              "       0., 0., 0., 0., 0., 0., 0., 0., 0., 0., 0., 0., 0., 0., 0., 0., 0.,\n",
              "       0., 0., 0., 0., 0., 0., 0., 0., 0., 0., 0., 0., 0., 0., 0., 0., 0.,\n",
              "       0., 0., 0., 0., 0., 0., 0., 0., 0., 0., 0., 0., 0., 0., 0., 0., 0.,\n",
              "       0., 0., 0., 0., 0., 0., 0., 0., 0., 0., 0., 0., 0., 0., 0., 0., 0.,\n",
              "       0., 0., 0., 0., 0., 0., 0., 0., 0., 0., 0.], dtype=float32)"
            ]
          },
          "metadata": {
            "tags": []
          },
          "execution_count": 34
        }
      ]
    },
    {
      "cell_type": "code",
      "metadata": {
        "colab": {
          "base_uri": "https://localhost:8080/"
        },
        "id": "SqZnoEhf1lkk",
        "outputId": "f8d686c2-b7e2-4b2a-937c-ebaf7e590d06"
      },
      "source": [
        "biases.shape"
      ],
      "execution_count": null,
      "outputs": [
        {
          "output_type": "execute_result",
          "data": {
            "text/plain": [
              "(300,)"
            ]
          },
          "metadata": {
            "tags": []
          },
          "execution_count": 35
        }
      ]
    },
    {
      "cell_type": "markdown",
      "metadata": {
        "id": "0GgzgcBp1lkl"
      },
      "source": [
        "### Compile the Model\n",
        "Here you can chose the loss function, the optimizer, the performance metric, etc. check Keras documentation for further details."
      ]
    },
    {
      "cell_type": "code",
      "metadata": {
        "id": "Nd2g7Tny1lkl"
      },
      "source": [
        "model.compile(loss=\"sparse_categorical_crossentropy\",\n",
        "              optimizer=\"sgd\",\n",
        "              metrics=[\"accuracy\"])"
      ],
      "execution_count": 11,
      "outputs": []
    },
    {
      "cell_type": "markdown",
      "metadata": {
        "id": "r2gaLRON1lkl"
      },
      "source": [
        "This is equivalent to:"
      ]
    },
    {
      "cell_type": "markdown",
      "metadata": {
        "id": "5CcQXLO51lkm"
      },
      "source": [
        "```python\n",
        "model.compile(loss=keras.losses.sparse_categorical_crossentropy,\n",
        "              optimizer=keras.optimizers.SGD(),\n",
        "              metrics=[keras.metrics.sparse_categorical_accuracy])\n",
        "```"
      ]
    },
    {
      "cell_type": "markdown",
      "metadata": {
        "id": "V9LYARfE1lkm"
      },
      "source": [
        "### Train the model\n",
        "Here you can chose how many epochs you need and the batch size."
      ]
    },
    {
      "cell_type": "code",
      "metadata": {
        "colab": {
          "base_uri": "https://localhost:8080/"
        },
        "id": "ngesxm4c1lkm",
        "outputId": "5d3cd407-8cc1-4035-ebb7-4600539dcdd7"
      },
      "source": [
        "history = model.fit(X_train, y_train, batch_size=32, epochs=30,\n",
        "                    validation_data=(X_valid, y_valid))"
      ],
      "execution_count": 12,
      "outputs": [
        {
          "output_type": "stream",
          "text": [
            "Epoch 1/30\n",
            "1719/1719 [==============================] - 4s 3ms/step - loss: 0.7147 - accuracy: 0.7668 - val_loss: 0.4963 - val_accuracy: 0.8354\n",
            "Epoch 2/30\n",
            "1719/1719 [==============================] - 4s 2ms/step - loss: 0.4840 - accuracy: 0.8312 - val_loss: 0.4452 - val_accuracy: 0.8466\n",
            "Epoch 3/30\n",
            "1719/1719 [==============================] - 4s 2ms/step - loss: 0.4401 - accuracy: 0.8463 - val_loss: 0.4282 - val_accuracy: 0.8508\n",
            "Epoch 4/30\n",
            "1719/1719 [==============================] - 4s 2ms/step - loss: 0.4143 - accuracy: 0.8539 - val_loss: 0.3952 - val_accuracy: 0.8626\n",
            "Epoch 5/30\n",
            "1719/1719 [==============================] - 4s 2ms/step - loss: 0.3942 - accuracy: 0.8610 - val_loss: 0.3780 - val_accuracy: 0.8690\n",
            "Epoch 6/30\n",
            "1719/1719 [==============================] - 4s 2ms/step - loss: 0.3796 - accuracy: 0.8657 - val_loss: 0.3602 - val_accuracy: 0.8736\n",
            "Epoch 7/30\n",
            "1719/1719 [==============================] - 4s 2ms/step - loss: 0.3657 - accuracy: 0.8702 - val_loss: 0.3764 - val_accuracy: 0.8676\n",
            "Epoch 8/30\n",
            "1719/1719 [==============================] - 4s 2ms/step - loss: 0.3538 - accuracy: 0.8742 - val_loss: 0.3578 - val_accuracy: 0.8730\n",
            "Epoch 9/30\n",
            "1719/1719 [==============================] - 4s 2ms/step - loss: 0.3446 - accuracy: 0.8773 - val_loss: 0.3542 - val_accuracy: 0.8758\n",
            "Epoch 10/30\n",
            "1719/1719 [==============================] - 4s 2ms/step - loss: 0.3355 - accuracy: 0.8792 - val_loss: 0.3483 - val_accuracy: 0.8740\n",
            "Epoch 11/30\n",
            "1719/1719 [==============================] - 4s 2ms/step - loss: 0.3261 - accuracy: 0.8837 - val_loss: 0.3467 - val_accuracy: 0.8752\n",
            "Epoch 12/30\n",
            "1719/1719 [==============================] - 4s 2ms/step - loss: 0.3182 - accuracy: 0.8862 - val_loss: 0.3365 - val_accuracy: 0.8816\n",
            "Epoch 13/30\n",
            "1719/1719 [==============================] - 4s 2ms/step - loss: 0.3106 - accuracy: 0.8899 - val_loss: 0.3253 - val_accuracy: 0.8854\n",
            "Epoch 14/30\n",
            "1719/1719 [==============================] - 4s 2ms/step - loss: 0.3035 - accuracy: 0.8912 - val_loss: 0.3234 - val_accuracy: 0.8848\n",
            "Epoch 15/30\n",
            "1719/1719 [==============================] - 4s 2ms/step - loss: 0.2974 - accuracy: 0.8927 - val_loss: 0.3279 - val_accuracy: 0.8814\n",
            "Epoch 16/30\n",
            "1719/1719 [==============================] - 4s 2ms/step - loss: 0.2906 - accuracy: 0.8959 - val_loss: 0.3381 - val_accuracy: 0.8770\n",
            "Epoch 17/30\n",
            "1719/1719 [==============================] - 4s 2ms/step - loss: 0.2853 - accuracy: 0.8970 - val_loss: 0.3218 - val_accuracy: 0.8810\n",
            "Epoch 18/30\n",
            "1719/1719 [==============================] - 5s 3ms/step - loss: 0.2796 - accuracy: 0.8993 - val_loss: 0.3240 - val_accuracy: 0.8858\n",
            "Epoch 19/30\n",
            "1719/1719 [==============================] - 4s 3ms/step - loss: 0.2736 - accuracy: 0.9007 - val_loss: 0.3061 - val_accuracy: 0.8886\n",
            "Epoch 20/30\n",
            "1719/1719 [==============================] - 4s 2ms/step - loss: 0.2691 - accuracy: 0.9023 - val_loss: 0.3107 - val_accuracy: 0.8882\n",
            "Epoch 21/30\n",
            "1719/1719 [==============================] - 4s 2ms/step - loss: 0.2642 - accuracy: 0.9048 - val_loss: 0.3031 - val_accuracy: 0.8908\n",
            "Epoch 22/30\n",
            "1719/1719 [==============================] - 4s 2ms/step - loss: 0.2592 - accuracy: 0.9063 - val_loss: 0.3149 - val_accuracy: 0.8864\n",
            "Epoch 23/30\n",
            "1719/1719 [==============================] - 4s 2ms/step - loss: 0.2541 - accuracy: 0.9082 - val_loss: 0.3055 - val_accuracy: 0.8886\n",
            "Epoch 24/30\n",
            "1719/1719 [==============================] - 4s 2ms/step - loss: 0.2501 - accuracy: 0.9089 - val_loss: 0.3108 - val_accuracy: 0.8914\n",
            "Epoch 25/30\n",
            "1719/1719 [==============================] - 4s 2ms/step - loss: 0.2452 - accuracy: 0.9111 - val_loss: 0.2997 - val_accuracy: 0.8910\n",
            "Epoch 26/30\n",
            "1719/1719 [==============================] - 4s 2ms/step - loss: 0.2414 - accuracy: 0.9128 - val_loss: 0.2991 - val_accuracy: 0.8904\n",
            "Epoch 27/30\n",
            "1719/1719 [==============================] - 4s 2ms/step - loss: 0.2367 - accuracy: 0.9144 - val_loss: 0.2990 - val_accuracy: 0.8902\n",
            "Epoch 28/30\n",
            "1719/1719 [==============================] - 4s 2ms/step - loss: 0.2328 - accuracy: 0.9164 - val_loss: 0.2965 - val_accuracy: 0.8924\n",
            "Epoch 29/30\n",
            "1719/1719 [==============================] - 4s 2ms/step - loss: 0.2297 - accuracy: 0.9183 - val_loss: 0.3000 - val_accuracy: 0.8922\n",
            "Epoch 30/30\n",
            "1719/1719 [==============================] - 4s 2ms/step - loss: 0.2261 - accuracy: 0.9196 - val_loss: 0.3147 - val_accuracy: 0.8896\n"
          ],
          "name": "stdout"
        }
      ]
    },
    {
      "cell_type": "code",
      "metadata": {
        "colab": {
          "base_uri": "https://localhost:8080/"
        },
        "id": "oCCzgVGa1lkm",
        "outputId": "98730f7c-87bf-4aee-ba42-dd91c66ab9af"
      },
      "source": [
        "history.params"
      ],
      "execution_count": 13,
      "outputs": [
        {
          "output_type": "execute_result",
          "data": {
            "text/plain": [
              "{'epochs': 30, 'steps': 1719, 'verbose': 1}"
            ]
          },
          "metadata": {
            "tags": []
          },
          "execution_count": 13
        }
      ]
    },
    {
      "cell_type": "code",
      "metadata": {
        "colab": {
          "base_uri": "https://localhost:8080/"
        },
        "id": "fG-gsS3v1lkm",
        "outputId": "fafa5c17-0d27-47bb-accc-d6769497f3c7"
      },
      "source": [
        "print(history.epoch)"
      ],
      "execution_count": 14,
      "outputs": [
        {
          "output_type": "stream",
          "text": [
            "[0, 1, 2, 3, 4, 5, 6, 7, 8, 9, 10, 11, 12, 13, 14, 15, 16, 17, 18, 19, 20, 21, 22, 23, 24, 25, 26, 27, 28, 29]\n"
          ],
          "name": "stdout"
        }
      ]
    },
    {
      "cell_type": "code",
      "metadata": {
        "colab": {
          "base_uri": "https://localhost:8080/"
        },
        "id": "ykTNO1S11lkm",
        "outputId": "c6dd35be-4b77-41f7-d0f3-4247f8060fc3"
      },
      "source": [
        "history.history.keys()"
      ],
      "execution_count": 15,
      "outputs": [
        {
          "output_type": "execute_result",
          "data": {
            "text/plain": [
              "dict_keys(['loss', 'accuracy', 'val_loss', 'val_accuracy'])"
            ]
          },
          "metadata": {
            "tags": []
          },
          "execution_count": 15
        }
      ]
    },
    {
      "cell_type": "markdown",
      "metadata": {
        "id": "MyW583DR1lkm"
      },
      "source": [
        "### Plot learning Curves"
      ]
    },
    {
      "cell_type": "code",
      "metadata": {
        "colab": {
          "base_uri": "https://localhost:8080/",
          "height": 339
        },
        "id": "Ohn9zfdX1lkm",
        "outputId": "a3d255da-6be6-42f3-ffa3-d1b3f0fa044d"
      },
      "source": [
        "import pandas as pd\n",
        "\n",
        "pd.DataFrame(history.history).plot(figsize=(8, 5), title=('sgd'))\n",
        "plt.grid(True)\n",
        "plt.gca().set_ylim(0, 1)\n",
        "plt.show()"
      ],
      "execution_count": 39,
      "outputs": [
        {
          "output_type": "display_data",
          "data": {
            "image/png": "[encoded data removed]",
            "text/plain": [
              "<Figure size 576x360 with 1 Axes>"
            ]
          },
          "metadata": {
            "tags": [],
            "needs_background": "light"
          }
        }
      ]
    },
    {
      "cell_type": "code",
      "metadata": {
        "colab": {
          "base_uri": "https://localhost:8080/"
        },
        "id": "FvUiNdgZ1lkm",
        "outputId": "84cfb11a-09a8-48a3-c322-25416a11ace0"
      },
      "source": [
        "model.evaluate(X_test, y_test)"
      ],
      "execution_count": 17,
      "outputs": [
        {
          "output_type": "stream",
          "text": [
            "313/313 [==============================] - 0s 1ms/step - loss: 0.3490 - accuracy: 0.8782\n"
          ],
          "name": "stdout"
        },
        {
          "output_type": "execute_result",
          "data": {
            "text/plain": [
              "[0.3489637076854706, 0.8781999945640564]"
            ]
          },
          "metadata": {
            "tags": []
          },
          "execution_count": 17
        }
      ]
    },
    {
      "cell_type": "code",
      "metadata": {
        "colab": {
          "base_uri": "https://localhost:8080/"
        },
        "id": "bDlS2Eot1lkm",
        "outputId": "fc88ae0f-8367-43db-9471-e0a5e33061f3"
      },
      "source": [
        "X_new = X_test[:3]\n",
        "y_proba = model.predict(X_new)\n",
        "y_proba.round(2)"
      ],
      "execution_count": 19,
      "outputs": [
        {
          "output_type": "execute_result",
          "data": {
            "text/plain": [
              "array([[0.  , 0.  , 0.  , 0.  , 0.  , 0.  , 0.  , 0.01, 0.  , 0.98],\n",
              "       [0.  , 0.  , 0.96, 0.  , 0.04, 0.  , 0.  , 0.  , 0.  , 0.  ],\n",
              "       [0.  , 1.  , 0.  , 0.  , 0.  , 0.  , 0.  , 0.  , 0.  , 0.  ]],\n",
              "      dtype=float32)"
            ]
          },
          "metadata": {
            "tags": []
          },
          "execution_count": 19
        }
      ]
    },
    {
      "cell_type": "code",
      "metadata": {
        "colab": {
          "base_uri": "https://localhost:8080/"
        },
        "id": "TqmceUX21lkm",
        "outputId": "75f74484-b02b-4f67-cd57-3208c42b35af"
      },
      "source": [
        "y_pred = model.predict_classes(X_new)\n",
        "y_pred"
      ],
      "execution_count": 20,
      "outputs": [
        {
          "output_type": "stream",
          "text": [
            "WARNING:tensorflow:From <ipython-input-20-81ace37e545f>:1: Sequential.predict_classes (from tensorflow.python.keras.engine.sequential) is deprecated and will be removed after 2021-01-01.\n",
            "Instructions for updating:\n",
            "Please use instead:* `np.argmax(model.predict(x), axis=-1)`,   if your model does multi-class classification   (e.g. if it uses a `softmax` last-layer activation).* `(model.predict(x) > 0.5).astype(\"int32\")`,   if your model does binary classification   (e.g. if it uses a `sigmoid` last-layer activation).\n"
          ],
          "name": "stdout"
        },
        {
          "output_type": "execute_result",
          "data": {
            "text/plain": [
              "array([9, 2, 1])"
            ]
          },
          "metadata": {
            "tags": []
          },
          "execution_count": 20
        }
      ]
    },
    {
      "cell_type": "code",
      "metadata": {
        "colab": {
          "base_uri": "https://localhost:8080/"
        },
        "id": "gjrY3ZwM1lkm",
        "outputId": "2fe754c9-230c-43e6-ae8a-65ef60cf388b"
      },
      "source": [
        "np.array(class_names)[y_pred]"
      ],
      "execution_count": 23,
      "outputs": [
        {
          "output_type": "execute_result",
          "data": {
            "text/plain": [
              "array(['Ankle boot', 'Pullover', 'Trouser'], dtype='<U11')"
            ]
          },
          "metadata": {
            "tags": []
          },
          "execution_count": 23
        }
      ]
    },
    {
      "cell_type": "code",
      "metadata": {
        "colab": {
          "base_uri": "https://localhost:8080/"
        },
        "id": "c7cuMhyu1lkm",
        "outputId": "07f5d3d2-47f0-4411-a458-2b592d3adf1c"
      },
      "source": [
        "y_new = y_test[:3]\n",
        "y_new"
      ],
      "execution_count": 24,
      "outputs": [
        {
          "output_type": "execute_result",
          "data": {
            "text/plain": [
              "array([9, 2, 1], dtype=uint8)"
            ]
          },
          "metadata": {
            "tags": []
          },
          "execution_count": 24
        }
      ]
    },
    {
      "cell_type": "code",
      "metadata": {
        "colab": {
          "base_uri": "https://localhost:8080/",
          "height": 165
        },
        "id": "tnlXEBrH1lkm",
        "outputId": "517cfb72-401d-4fce-bd56-df065520b36b"
      },
      "source": [
        "plt.figure(figsize=(7.2, 2.4))\n",
        "for index, image in enumerate(X_new):\n",
        "    plt.subplot(1, 3, index + 1)\n",
        "    plt.imshow(image, cmap=\"binary\", interpolation=\"nearest\")\n",
        "    plt.axis('off')\n",
        "    plt.title(class_names[y_test[index]], fontsize=12)\n",
        "plt.subplots_adjust(wspace=0.2, hspace=0.5)\n",
        "plt.show()"
      ],
      "execution_count": 25,
      "outputs": [
        {
          "output_type": "display_data",
          "data": {
            "image/png": "[encoded data removed]",
            "text/plain": [
              "<Figure size 518.4x172.8 with 3 Axes>"
            ]
          },
          "metadata": {
            "tags": [],
            "needs_background": "light"
          }
        }
      ]
    },
    {
      "cell_type": "markdown",
      "metadata": {
        "collapsed": true,
        "id": "v9FG0iK11lkm"
      },
      "source": [
        "## Exercise"
      ]
    },
    {
      "cell_type": "markdown",
      "metadata": {
        "id": "bAKqf6eF1lkm"
      },
      "source": [
        "#### 1) Plot Learning curves when using different optimizers\n",
        "#### 2) Plot Learning curves when using different batch size\n",
        "#### 3) Plot Learning curves when using different number of epochs\n",
        "#### 4) Add additional neurons and use Dropout Layer. Plot Learning curves.\n",
        "#### 5) Use Batch Normalisation\n",
        "#### 6) repeat with more layers\n",
        "#### 7) apply on different datasets"
      ]
    },
    {
      "cell_type": "markdown",
      "metadata": {
        "id": "axg8kQM65S69"
      },
      "source": [
        "https://keras.io/api/optimizers/\n",
        "\n",
        "https://keras.io/"
      ]
    },
    {
      "cell_type": "markdown",
      "metadata": {
        "id": "BF-KMLPJWuqY"
      },
      "source": [
        "1) Plot Learning curves when using different **optimizers** 'RMSprop' and 'Adam'\n"
      ]
    },
    {
      "cell_type": "code",
      "metadata": {
        "id": "LTiYPb811lkm"
      },
      "source": [
        "model.compile(loss=\"sparse_categorical_crossentropy\",\n",
        "              optimizer=\"Adam\",\n",
        "              metrics=[\"accuracy\"])"
      ],
      "execution_count": 26,
      "outputs": []
    },
    {
      "cell_type": "code",
      "metadata": {
        "colab": {
          "base_uri": "https://localhost:8080/"
        },
        "id": "LPj1mh5zDynO",
        "outputId": "bb201f7d-c680-430e-f3dd-4774e697364a"
      },
      "source": [
        "history1= model.fit(X_train, y_train, batch_size=32, epochs=30,\n",
        "                    validation_data=(X_valid, y_valid))"
      ],
      "execution_count": 27,
      "outputs": [
        {
          "output_type": "stream",
          "text": [
            "Epoch 1/30\n",
            "1719/1719 [==============================] - 5s 3ms/step - loss: 0.3749 - accuracy: 0.8631 - val_loss: 0.3719 - val_accuracy: 0.8644\n",
            "Epoch 2/30\n",
            "1719/1719 [==============================] - 5s 3ms/step - loss: 0.3292 - accuracy: 0.8790 - val_loss: 0.3738 - val_accuracy: 0.8642\n",
            "Epoch 3/30\n",
            "1719/1719 [==============================] - 5s 3ms/step - loss: 0.3080 - accuracy: 0.8861 - val_loss: 0.3556 - val_accuracy: 0.8776\n",
            "Epoch 4/30\n",
            "1719/1719 [==============================] - 5s 3ms/step - loss: 0.2922 - accuracy: 0.8927 - val_loss: 0.3418 - val_accuracy: 0.8820\n",
            "Epoch 5/30\n",
            "1719/1719 [==============================] - 5s 3ms/step - loss: 0.2730 - accuracy: 0.8985 - val_loss: 0.3499 - val_accuracy: 0.8820\n",
            "Epoch 6/30\n",
            "1719/1719 [==============================] - 5s 3ms/step - loss: 0.2600 - accuracy: 0.9032 - val_loss: 0.3248 - val_accuracy: 0.8868\n",
            "Epoch 7/30\n",
            "1719/1719 [==============================] - 5s 3ms/step - loss: 0.2515 - accuracy: 0.9067 - val_loss: 0.3191 - val_accuracy: 0.8866\n",
            "Epoch 8/30\n",
            "1719/1719 [==============================] - 5s 3ms/step - loss: 0.2396 - accuracy: 0.9097 - val_loss: 0.3038 - val_accuracy: 0.8924\n",
            "Epoch 9/30\n",
            "1719/1719 [==============================] - 6s 3ms/step - loss: 0.2328 - accuracy: 0.9129 - val_loss: 0.2938 - val_accuracy: 0.8906\n",
            "Epoch 10/30\n",
            "1719/1719 [==============================] - 5s 3ms/step - loss: 0.2220 - accuracy: 0.9167 - val_loss: 0.3209 - val_accuracy: 0.8938\n",
            "Epoch 11/30\n",
            "1719/1719 [==============================] - 5s 3ms/step - loss: 0.2155 - accuracy: 0.9179 - val_loss: 0.3353 - val_accuracy: 0.8914\n",
            "Epoch 12/30\n",
            "1719/1719 [==============================] - 5s 3ms/step - loss: 0.2086 - accuracy: 0.9213 - val_loss: 0.2966 - val_accuracy: 0.9010\n",
            "Epoch 13/30\n",
            "1719/1719 [==============================] - 5s 3ms/step - loss: 0.2023 - accuracy: 0.9237 - val_loss: 0.3459 - val_accuracy: 0.8908\n",
            "Epoch 14/30\n",
            "1719/1719 [==============================] - 5s 3ms/step - loss: 0.1946 - accuracy: 0.9264 - val_loss: 0.3217 - val_accuracy: 0.8966\n",
            "Epoch 15/30\n",
            "1719/1719 [==============================] - 5s 3ms/step - loss: 0.1850 - accuracy: 0.9292 - val_loss: 0.3576 - val_accuracy: 0.8970\n",
            "Epoch 16/30\n",
            "1719/1719 [==============================] - 5s 3ms/step - loss: 0.1848 - accuracy: 0.9298 - val_loss: 0.3490 - val_accuracy: 0.8888\n",
            "Epoch 17/30\n",
            "1719/1719 [==============================] - 5s 3ms/step - loss: 0.1765 - accuracy: 0.9320 - val_loss: 0.3305 - val_accuracy: 0.8970\n",
            "Epoch 18/30\n",
            "1719/1719 [==============================] - 5s 3ms/step - loss: 0.1710 - accuracy: 0.9347 - val_loss: 0.3521 - val_accuracy: 0.8950\n",
            "Epoch 19/30\n",
            "1719/1719 [==============================] - 5s 3ms/step - loss: 0.1711 - accuracy: 0.9351 - val_loss: 0.3635 - val_accuracy: 0.8926\n",
            "Epoch 20/30\n",
            "1719/1719 [==============================] - 5s 3ms/step - loss: 0.1626 - accuracy: 0.9373 - val_loss: 0.3741 - val_accuracy: 0.8942\n",
            "Epoch 21/30\n",
            "1719/1719 [==============================] - 5s 3ms/step - loss: 0.1607 - accuracy: 0.9393 - val_loss: 0.3834 - val_accuracy: 0.8954\n",
            "Epoch 22/30\n",
            "1719/1719 [==============================] - 5s 3ms/step - loss: 0.1528 - accuracy: 0.9414 - val_loss: 0.3817 - val_accuracy: 0.8952\n",
            "Epoch 23/30\n",
            "1719/1719 [==============================] - 5s 3ms/step - loss: 0.1504 - accuracy: 0.9424 - val_loss: 0.3883 - val_accuracy: 0.8934\n",
            "Epoch 24/30\n",
            "1719/1719 [==============================] - 5s 3ms/step - loss: 0.1466 - accuracy: 0.9441 - val_loss: 0.3747 - val_accuracy: 0.8950\n",
            "Epoch 25/30\n",
            "1719/1719 [==============================] - 5s 3ms/step - loss: 0.1430 - accuracy: 0.9458 - val_loss: 0.4129 - val_accuracy: 0.8938\n",
            "Epoch 26/30\n",
            "1719/1719 [==============================] - 5s 3ms/step - loss: 0.1397 - accuracy: 0.9463 - val_loss: 0.4158 - val_accuracy: 0.8920\n",
            "Epoch 27/30\n",
            "1719/1719 [==============================] - 5s 3ms/step - loss: 0.1383 - accuracy: 0.9476 - val_loss: 0.4418 - val_accuracy: 0.8952\n",
            "Epoch 28/30\n",
            "1719/1719 [==============================] - 5s 3ms/step - loss: 0.1343 - accuracy: 0.9484 - val_loss: 0.3995 - val_accuracy: 0.9008\n",
            "Epoch 29/30\n",
            "1719/1719 [==============================] - 5s 3ms/step - loss: 0.1341 - accuracy: 0.9495 - val_loss: 0.4324 - val_accuracy: 0.8970\n",
            "Epoch 30/30\n",
            "1719/1719 [==============================] - 5s 3ms/step - loss: 0.1283 - accuracy: 0.9501 - val_loss: 0.4493 - val_accuracy: 0.8940\n"
          ],
          "name": "stdout"
        }
      ]
    },
    {
      "cell_type": "code",
      "metadata": {
        "colab": {
          "base_uri": "https://localhost:8080/"
        },
        "id": "y9b8ddSDEv3S",
        "outputId": "3463fa32-6dc0-4a3f-9041-99e3192576a6"
      },
      "source": [
        "print(history1.epoch)"
      ],
      "execution_count": 30,
      "outputs": [
        {
          "output_type": "stream",
          "text": [
            "[0, 1, 2, 3, 4, 5, 6, 7, 8, 9, 10, 11, 12, 13, 14, 15, 16, 17, 18, 19, 20, 21, 22, 23, 24, 25, 26, 27, 28, 29]\n"
          ],
          "name": "stdout"
        }
      ]
    },
    {
      "cell_type": "code",
      "metadata": {
        "colab": {
          "base_uri": "https://localhost:8080/"
        },
        "id": "OR48CN6wE3Ob",
        "outputId": "6087bbe0-a968-4e36-cc2b-9fbb92e5967c"
      },
      "source": [
        "history1.history.keys()"
      ],
      "execution_count": 31,
      "outputs": [
        {
          "output_type": "execute_result",
          "data": {
            "text/plain": [
              "dict_keys(['loss', 'accuracy', 'val_loss', 'val_accuracy'])"
            ]
          },
          "metadata": {
            "tags": []
          },
          "execution_count": 31
        }
      ]
    },
    {
      "cell_type": "code",
      "metadata": {
        "colab": {
          "base_uri": "https://localhost:8080/",
          "height": 339
        },
        "id": "1Hewn55lE6yh",
        "outputId": "bde5f812-a316-4c86-9df7-70501ea4d6a7"
      },
      "source": [
        "import pandas as pd\n",
        "\n",
        "pd.DataFrame(history1.history).plot(figsize=(8, 5), title=('Adam'))\n",
        "\n",
        "plt.grid(True)\n",
        "plt.gca().set_ylim(0, 1)\n",
        "plt.show()"
      ],
      "execution_count": 32,
      "outputs": [
        {
          "output_type": "display_data",
          "data": {
            "image/png": "[encoded data removed]",
            "text/plain": [
              "<Figure size 576x360 with 1 Axes>"
            ]
          },
          "metadata": {
            "tags": [],
            "needs_background": "light"
          }
        }
      ]
    },
    {
      "cell_type": "code",
      "metadata": {
        "colab": {
          "base_uri": "https://localhost:8080/"
        },
        "id": "qLvuuRY7GcgH",
        "outputId": "9486faff-2f84-40a0-bfe2-1d99df69911c"
      },
      "source": [
        "model.evaluate(X_test, y_test)"
      ],
      "execution_count": 33,
      "outputs": [
        {
          "output_type": "stream",
          "text": [
            "313/313 [==============================] - 0s 1ms/step - loss: 0.4789 - accuracy: 0.8884\n"
          ],
          "name": "stdout"
        },
        {
          "output_type": "execute_result",
          "data": {
            "text/plain": [
              "[0.4789488911628723, 0.8884000182151794]"
            ]
          },
          "metadata": {
            "tags": []
          },
          "execution_count": 33
        }
      ]
    },
    {
      "cell_type": "code",
      "metadata": {
        "id": "vxhwpisrX1di"
      },
      "source": [
        "model.compile(loss=\"sparse_categorical_crossentropy\",\n",
        "              optimizer=\"RMSprop\",\n",
        "              metrics=[\"accuracy\"])"
      ],
      "execution_count": 35,
      "outputs": []
    },
    {
      "cell_type": "code",
      "metadata": {
        "colab": {
          "base_uri": "https://localhost:8080/"
        },
        "id": "_TknmT-lYC-G",
        "outputId": "e35386be-0226-489c-fd73-4726973694a8"
      },
      "source": [
        "history2 = model.fit(X_train, y_train, batch_size=32, epochs=30,\n",
        "                    validation_data=(X_valid, y_valid))"
      ],
      "execution_count": 36,
      "outputs": [
        {
          "output_type": "stream",
          "text": [
            "Epoch 1/30\n",
            "1719/1719 [==============================] - 7s 4ms/step - loss: 0.1311 - accuracy: 0.9516 - val_loss: 0.5809 - val_accuracy: 0.8940\n",
            "Epoch 2/30\n",
            "1719/1719 [==============================] - 7s 4ms/step - loss: 0.1369 - accuracy: 0.9508 - val_loss: 0.6222 - val_accuracy: 0.8978\n",
            "Epoch 3/30\n",
            "1719/1719 [==============================] - 7s 4ms/step - loss: 0.1417 - accuracy: 0.9489 - val_loss: 0.6582 - val_accuracy: 0.8972\n",
            "Epoch 4/30\n",
            "1719/1719 [==============================] - 7s 4ms/step - loss: 0.1491 - accuracy: 0.9473 - val_loss: 0.7468 - val_accuracy: 0.8906\n",
            "Epoch 5/30\n",
            "1719/1719 [==============================] - 7s 4ms/step - loss: 0.1499 - accuracy: 0.9479 - val_loss: 0.7122 - val_accuracy: 0.8876\n",
            "Epoch 6/30\n",
            "1719/1719 [==============================] - 7s 4ms/step - loss: 0.1565 - accuracy: 0.9467 - val_loss: 0.8135 - val_accuracy: 0.8890\n",
            "Epoch 7/30\n",
            "1719/1719 [==============================] - 7s 4ms/step - loss: 0.1573 - accuracy: 0.9468 - val_loss: 0.8355 - val_accuracy: 0.8950\n",
            "Epoch 8/30\n",
            "1719/1719 [==============================] - 7s 4ms/step - loss: 0.1648 - accuracy: 0.9447 - val_loss: 0.8282 - val_accuracy: 0.8908\n",
            "Epoch 9/30\n",
            "1719/1719 [==============================] - 7s 4ms/step - loss: 0.1697 - accuracy: 0.9439 - val_loss: 0.8685 - val_accuracy: 0.8954\n",
            "Epoch 10/30\n",
            "1719/1719 [==============================] - 7s 4ms/step - loss: 0.1682 - accuracy: 0.9445 - val_loss: 0.8599 - val_accuracy: 0.8996\n",
            "Epoch 11/30\n",
            "1719/1719 [==============================] - 7s 4ms/step - loss: 0.1735 - accuracy: 0.9442 - val_loss: 0.9229 - val_accuracy: 0.8864\n",
            "Epoch 12/30\n",
            "1719/1719 [==============================] - 7s 4ms/step - loss: 0.1736 - accuracy: 0.9433 - val_loss: 0.8959 - val_accuracy: 0.8952\n",
            "Epoch 13/30\n",
            "1719/1719 [==============================] - 7s 4ms/step - loss: 0.1830 - accuracy: 0.9427 - val_loss: 0.9098 - val_accuracy: 0.8934\n",
            "Epoch 14/30\n",
            "1719/1719 [==============================] - 7s 4ms/step - loss: 0.1821 - accuracy: 0.9424 - val_loss: 1.0184 - val_accuracy: 0.8886\n",
            "Epoch 15/30\n",
            "1719/1719 [==============================] - 7s 4ms/step - loss: 0.1788 - accuracy: 0.9427 - val_loss: 0.9740 - val_accuracy: 0.8938\n",
            "Epoch 16/30\n",
            "1719/1719 [==============================] - 7s 4ms/step - loss: 0.1872 - accuracy: 0.9418 - val_loss: 1.0034 - val_accuracy: 0.8936\n",
            "Epoch 17/30\n",
            "1719/1719 [==============================] - 7s 4ms/step - loss: 0.1804 - accuracy: 0.9419 - val_loss: 0.9969 - val_accuracy: 0.8916\n",
            "Epoch 18/30\n",
            "1719/1719 [==============================] - 7s 4ms/step - loss: 0.1802 - accuracy: 0.9420 - val_loss: 0.9517 - val_accuracy: 0.8884\n",
            "Epoch 19/30\n",
            "1719/1719 [==============================] - 7s 4ms/step - loss: 0.1858 - accuracy: 0.9425 - val_loss: 0.9973 - val_accuracy: 0.8846\n",
            "Epoch 20/30\n",
            "1719/1719 [==============================] - 7s 4ms/step - loss: 0.1831 - accuracy: 0.9429 - val_loss: 1.0068 - val_accuracy: 0.8908\n",
            "Epoch 21/30\n",
            "1719/1719 [==============================] - 7s 4ms/step - loss: 0.1884 - accuracy: 0.9425 - val_loss: 1.2099 - val_accuracy: 0.8944\n",
            "Epoch 22/30\n",
            "1719/1719 [==============================] - 7s 4ms/step - loss: 0.1833 - accuracy: 0.9428 - val_loss: 1.1938 - val_accuracy: 0.8800\n",
            "Epoch 23/30\n",
            "1719/1719 [==============================] - 7s 4ms/step - loss: 0.1891 - accuracy: 0.9427 - val_loss: 1.1162 - val_accuracy: 0.8936\n",
            "Epoch 24/30\n",
            "1719/1719 [==============================] - 7s 4ms/step - loss: 0.1888 - accuracy: 0.9432 - val_loss: 1.2013 - val_accuracy: 0.8860\n",
            "Epoch 25/30\n",
            "1719/1719 [==============================] - 7s 4ms/step - loss: 0.1849 - accuracy: 0.9431 - val_loss: 1.1196 - val_accuracy: 0.8890\n",
            "Epoch 26/30\n",
            "1719/1719 [==============================] - 7s 4ms/step - loss: 0.1873 - accuracy: 0.9450 - val_loss: 1.2137 - val_accuracy: 0.8846\n",
            "Epoch 27/30\n",
            "1719/1719 [==============================] - 7s 4ms/step - loss: 0.1814 - accuracy: 0.9450 - val_loss: 1.2453 - val_accuracy: 0.8958\n",
            "Epoch 28/30\n",
            "1719/1719 [==============================] - 7s 4ms/step - loss: 0.1918 - accuracy: 0.9444 - val_loss: 1.2416 - val_accuracy: 0.8880\n",
            "Epoch 29/30\n",
            "1719/1719 [==============================] - 7s 4ms/step - loss: 0.1821 - accuracy: 0.9460 - val_loss: 1.2138 - val_accuracy: 0.8902\n",
            "Epoch 30/30\n",
            "1719/1719 [==============================] - 7s 4ms/step - loss: 0.1884 - accuracy: 0.9435 - val_loss: 1.1766 - val_accuracy: 0.8898\n"
          ],
          "name": "stdout"
        }
      ]
    },
    {
      "cell_type": "code",
      "metadata": {
        "colab": {
          "base_uri": "https://localhost:8080/",
          "height": 339
        },
        "id": "JzGBMAH_gIN5",
        "outputId": "4a826c34-7ec3-4bda-df11-39be1e34cc5a"
      },
      "source": [
        "import pandas as pd\n",
        "\n",
        "pd.DataFrame(history2.history).plot(figsize=(8, 5), title=('RMSprop'))\n",
        "\n",
        "plt.grid(True)\n",
        "plt.gca().set_ylim(0, 1)\n",
        "plt.show()"
      ],
      "execution_count": 37,
      "outputs": [
        {
          "output_type": "display_data",
          "data": {
            "image/png": "[encoded data removed]",
            "text/plain": [
              "<Figure size 576x360 with 1 Axes>"
            ]
          },
          "metadata": {
            "tags": [],
            "needs_background": "light"
          }
        }
      ]
    },
    {
      "cell_type": "code",
      "metadata": {
        "colab": {
          "base_uri": "https://localhost:8080/"
        },
        "id": "cBahEoJjjXwL",
        "outputId": "6cadbbe3-a5e7-47e9-de04-acaf81fa60d9"
      },
      "source": [
        "model.evaluate(X_test, y_test)"
      ],
      "execution_count": 38,
      "outputs": [
        {
          "output_type": "stream",
          "text": [
            "313/313 [==============================] - 0s 1ms/step - loss: 1.2515 - accuracy: 0.8808\n"
          ],
          "name": "stdout"
        },
        {
          "output_type": "execute_result",
          "data": {
            "text/plain": [
              "[1.2514894008636475, 0.8808000087738037]"
            ]
          },
          "metadata": {
            "tags": []
          },
          "execution_count": 38
        }
      ]
    },
    {
      "cell_type": "code",
      "metadata": {
        "colab": {
          "base_uri": "https://localhost:8080/",
          "height": 983
        },
        "id": "I-nDaoDO8nw3",
        "outputId": "e69a003d-faa4-4f47-e615-ce4a7c620ca8"
      },
      "source": [
        "pd.DataFrame(history.history).plot(figsize=(8, 5), title=('sgd'))\n",
        "pd.DataFrame(history1.history).plot(figsize=(8, 5), title=('Adam'))\n",
        "pd.DataFrame(history2.history).plot(figsize=(8, 5), title=('RMSprop'))\n",
        "plt.grid(True)\n",
        "plt.gca().set_ylim(0, 1)\n",
        "plt.show()"
      ],
      "execution_count": 41,
      "outputs": [
        {
          "output_type": "display_data",
          "data": {
            "image/png": "[encoded data removed]",
            "text/plain": [
              "<Figure size 576x360 with 1 Axes>"
            ]
          },
          "metadata": {
            "tags": [],
            "needs_background": "light"
          }
        },
        {
          "output_type": "display_data",
          "data": {
            "image/png": "[encoded data removed]",
            "text/plain": [
              "<Figure size 576x360 with 1 Axes>"
            ]
          },
          "metadata": {
            "tags": [],
            "needs_background": "light"
          }
        },
        {
          "output_type": "display_data",
          "data": {
            "image/png": "[encoded data removed]",
            "text/plain": [
              "<Figure size 576x360 with 1 Axes>"
            ]
          },
          "metadata": {
            "tags": [],
            "needs_background": "light"
          }
        }
      ]
    },
    {
      "cell_type": "markdown",
      "metadata": {
        "id": "W9VEGwzbjqb8"
      },
      "source": [
        "2) **Plot Learning curves when using different batch size**"
      ]
    },
    {
      "cell_type": "markdown",
      "metadata": {
        "id": "3dt2D4peCRan"
      },
      "source": [
        "batch_size=5\n"
      ]
    },
    {
      "cell_type": "code",
      "metadata": {
        "id": "b4Ib_R3fHIx9"
      },
      "source": [
        "model.compile(loss=\"sparse_categorical_crossentropy\",\n",
        "              optimizer=\"SGD\",\n",
        "              metrics=[\"accuracy\"])"
      ],
      "execution_count": 42,
      "outputs": []
    },
    {
      "cell_type": "code",
      "metadata": {
        "colab": {
          "base_uri": "https://localhost:8080/"
        },
        "id": "IFwYSegqHil4",
        "outputId": "8354c4a9-94f9-4712-e35f-3756d1f37922"
      },
      "source": [
        "history3 = model.fit(X_train, y_train, batch_size=5, epochs=30,\n",
        "                    validation_data=(X_valid, y_valid))"
      ],
      "execution_count": 46,
      "outputs": [
        {
          "output_type": "stream",
          "text": [
            "Epoch 1/30\n",
            "11000/11000 [==============================] - 18s 2ms/step - loss: 0.1675 - accuracy: 0.9410 - val_loss: 0.4916 - val_accuracy: 0.8886\n",
            "Epoch 2/30\n",
            "11000/11000 [==============================] - 18s 2ms/step - loss: 0.1640 - accuracy: 0.9417 - val_loss: 0.4669 - val_accuracy: 0.8838\n",
            "Epoch 3/30\n",
            "11000/11000 [==============================] - 18s 2ms/step - loss: 0.1563 - accuracy: 0.9442 - val_loss: 0.5170 - val_accuracy: 0.8868\n",
            "Epoch 4/30\n",
            "11000/11000 [==============================] - 18s 2ms/step - loss: 0.1598 - accuracy: 0.9435 - val_loss: 0.4775 - val_accuracy: 0.8912\n",
            "Epoch 5/30\n",
            "11000/11000 [==============================] - 18s 2ms/step - loss: 0.1522 - accuracy: 0.9454 - val_loss: 0.5204 - val_accuracy: 0.8924\n",
            "Epoch 6/30\n",
            "11000/11000 [==============================] - 18s 2ms/step - loss: 0.1498 - accuracy: 0.9476 - val_loss: 0.5208 - val_accuracy: 0.8844\n",
            "Epoch 7/30\n",
            "11000/11000 [==============================] - 18s 2ms/step - loss: 0.1511 - accuracy: 0.9455 - val_loss: 0.5519 - val_accuracy: 0.8902\n",
            "Epoch 8/30\n",
            "11000/11000 [==============================] - 18s 2ms/step - loss: 0.1407 - accuracy: 0.9504 - val_loss: 0.5269 - val_accuracy: 0.8908\n",
            "Epoch 9/30\n",
            "11000/11000 [==============================] - 18s 2ms/step - loss: 0.1391 - accuracy: 0.9504 - val_loss: 0.5418 - val_accuracy: 0.8934\n",
            "Epoch 10/30\n",
            "11000/11000 [==============================] - 18s 2ms/step - loss: 0.1344 - accuracy: 0.9520 - val_loss: 0.5566 - val_accuracy: 0.8930\n",
            "Epoch 11/30\n",
            "11000/11000 [==============================] - 18s 2ms/step - loss: 0.1371 - accuracy: 0.9512 - val_loss: 0.5478 - val_accuracy: 0.8894\n",
            "Epoch 12/30\n",
            "11000/11000 [==============================] - 18s 2ms/step - loss: 0.1304 - accuracy: 0.9533 - val_loss: 0.5433 - val_accuracy: 0.8890\n",
            "Epoch 13/30\n",
            "11000/11000 [==============================] - 18s 2ms/step - loss: 0.1271 - accuracy: 0.9551 - val_loss: 0.5778 - val_accuracy: 0.8858\n",
            "Epoch 14/30\n",
            "11000/11000 [==============================] - 19s 2ms/step - loss: 0.1232 - accuracy: 0.9552 - val_loss: 0.5582 - val_accuracy: 0.8930\n",
            "Epoch 15/30\n",
            "11000/11000 [==============================] - 18s 2ms/step - loss: 0.2656 - accuracy: 0.9228 - val_loss: 0.4464 - val_accuracy: 0.8730\n",
            "Epoch 16/30\n",
            "11000/11000 [==============================] - 18s 2ms/step - loss: 0.2363 - accuracy: 0.9196 - val_loss: 0.5170 - val_accuracy: 0.8826\n",
            "Epoch 17/30\n",
            "11000/11000 [==============================] - 18s 2ms/step - loss: 0.1793 - accuracy: 0.9372 - val_loss: 0.4894 - val_accuracy: 0.8894\n",
            "Epoch 18/30\n",
            "11000/11000 [==============================] - 18s 2ms/step - loss: 0.1555 - accuracy: 0.9456 - val_loss: 0.5643 - val_accuracy: 0.8870\n",
            "Epoch 19/30\n",
            "11000/11000 [==============================] - 18s 2ms/step - loss: 0.1383 - accuracy: 0.9509 - val_loss: 0.5055 - val_accuracy: 0.8896\n",
            "Epoch 20/30\n",
            "11000/11000 [==============================] - 18s 2ms/step - loss: 0.1433 - accuracy: 0.9501 - val_loss: 0.5134 - val_accuracy: 0.8846\n",
            "Epoch 21/30\n",
            "11000/11000 [==============================] - 18s 2ms/step - loss: 0.1310 - accuracy: 0.9535 - val_loss: 0.5074 - val_accuracy: 0.8942\n",
            "Epoch 22/30\n",
            "11000/11000 [==============================] - 18s 2ms/step - loss: 0.1226 - accuracy: 0.9568 - val_loss: 0.5545 - val_accuracy: 0.8900\n",
            "Epoch 23/30\n",
            "11000/11000 [==============================] - 22s 2ms/step - loss: 0.1200 - accuracy: 0.9581 - val_loss: 0.5499 - val_accuracy: 0.8928\n",
            "Epoch 24/30\n",
            "11000/11000 [==============================] - 19s 2ms/step - loss: 0.1140 - accuracy: 0.9607 - val_loss: 0.6212 - val_accuracy: 0.8868\n",
            "Epoch 25/30\n",
            "11000/11000 [==============================] - 18s 2ms/step - loss: 0.1106 - accuracy: 0.9608 - val_loss: 0.5975 - val_accuracy: 0.8964\n",
            "Epoch 26/30\n",
            "11000/11000 [==============================] - 18s 2ms/step - loss: 0.1094 - accuracy: 0.9608 - val_loss: 0.6081 - val_accuracy: 0.8928\n",
            "Epoch 27/30\n",
            "11000/11000 [==============================] - 18s 2ms/step - loss: 0.1064 - accuracy: 0.9627 - val_loss: 0.5933 - val_accuracy: 0.8918\n",
            "Epoch 28/30\n",
            "11000/11000 [==============================] - 18s 2ms/step - loss: 0.1045 - accuracy: 0.9630 - val_loss: 0.6406 - val_accuracy: 0.8934\n",
            "Epoch 29/30\n",
            "11000/11000 [==============================] - 18s 2ms/step - loss: 0.1022 - accuracy: 0.9631 - val_loss: 0.6648 - val_accuracy: 0.8894\n",
            "Epoch 30/30\n",
            "11000/11000 [==============================] - 18s 2ms/step - loss: 0.1034 - accuracy: 0.9630 - val_loss: 0.6286 - val_accuracy: 0.8914\n"
          ],
          "name": "stdout"
        }
      ]
    },
    {
      "cell_type": "code",
      "metadata": {
        "colab": {
          "base_uri": "https://localhost:8080/",
          "height": 328
        },
        "id": "vHbb7NV3qtc2",
        "outputId": "c8a1b819-3a77-43a3-8591-5cf2164bcc5d"
      },
      "source": [
        "import pandas as pd\n",
        "\n",
        "pd.DataFrame(history3.history).plot(figsize=(8, 5))\n",
        "\n",
        "plt.grid(True)\n",
        "plt.gca().set_ylim(0, 1)\n",
        "plt.show()"
      ],
      "execution_count": 47,
      "outputs": [
        {
          "output_type": "display_data",
          "data": {
            "image/png": "[encoded data removed]",
            "text/plain": [
              "<Figure size 576x360 with 1 Axes>"
            ]
          },
          "metadata": {
            "tags": [],
            "needs_background": "light"
          }
        }
      ]
    },
    {
      "cell_type": "markdown",
      "metadata": {
        "id": "gd59IKGRDS0u"
      },
      "source": [
        "batch_size=50"
      ]
    },
    {
      "cell_type": "code",
      "metadata": {
        "colab": {
          "base_uri": "https://localhost:8080/"
        },
        "id": "hDWl0anBCbDj",
        "outputId": "62182907-8c00-474b-ab07-ada6968bf21f"
      },
      "source": [
        "history4 = model.fit(X_train, y_train, batch_size=50, epochs=30,\n",
        "                    validation_data=(X_valid, y_valid))"
      ],
      "execution_count": 48,
      "outputs": [
        {
          "output_type": "stream",
          "text": [
            "Epoch 1/30\n",
            "1100/1100 [==============================] - 4s 4ms/step - loss: 0.0786 - accuracy: 0.9729 - val_loss: 0.6356 - val_accuracy: 0.8932\n",
            "Epoch 2/30\n",
            "1100/1100 [==============================] - 4s 4ms/step - loss: 0.0747 - accuracy: 0.9747 - val_loss: 0.6466 - val_accuracy: 0.8940\n",
            "Epoch 3/30\n",
            "1100/1100 [==============================] - 4s 4ms/step - loss: 0.0737 - accuracy: 0.9748 - val_loss: 0.6464 - val_accuracy: 0.8954\n",
            "Epoch 4/30\n",
            "1100/1100 [==============================] - 4s 4ms/step - loss: 0.0728 - accuracy: 0.9754 - val_loss: 0.6491 - val_accuracy: 0.8952\n",
            "Epoch 5/30\n",
            "1100/1100 [==============================] - 4s 4ms/step - loss: 0.0725 - accuracy: 0.9755 - val_loss: 0.6532 - val_accuracy: 0.8954\n",
            "Epoch 6/30\n",
            "1100/1100 [==============================] - 4s 4ms/step - loss: 0.0718 - accuracy: 0.9758 - val_loss: 0.6568 - val_accuracy: 0.8924\n",
            "Epoch 7/30\n",
            "1100/1100 [==============================] - 4s 4ms/step - loss: 0.0716 - accuracy: 0.9757 - val_loss: 0.6530 - val_accuracy: 0.8930\n",
            "Epoch 8/30\n",
            "1100/1100 [==============================] - 4s 4ms/step - loss: 0.0712 - accuracy: 0.9757 - val_loss: 0.6622 - val_accuracy: 0.8944\n",
            "Epoch 9/30\n",
            "1100/1100 [==============================] - 4s 4ms/step - loss: 0.0708 - accuracy: 0.9762 - val_loss: 0.6684 - val_accuracy: 0.8952\n",
            "Epoch 10/30\n",
            "1100/1100 [==============================] - 4s 4ms/step - loss: 0.0707 - accuracy: 0.9758 - val_loss: 0.6637 - val_accuracy: 0.8960\n",
            "Epoch 11/30\n",
            "1100/1100 [==============================] - 6s 6ms/step - loss: 0.0704 - accuracy: 0.9760 - val_loss: 0.6720 - val_accuracy: 0.8928\n",
            "Epoch 12/30\n",
            "1100/1100 [==============================] - 5s 5ms/step - loss: 0.0698 - accuracy: 0.9765 - val_loss: 0.6710 - val_accuracy: 0.8950\n",
            "Epoch 13/30\n",
            "1100/1100 [==============================] - 4s 4ms/step - loss: 0.0696 - accuracy: 0.9765 - val_loss: 0.6732 - val_accuracy: 0.8948\n",
            "Epoch 14/30\n",
            "1100/1100 [==============================] - 4s 4ms/step - loss: 0.0695 - accuracy: 0.9761 - val_loss: 0.6679 - val_accuracy: 0.8942\n",
            "Epoch 15/30\n",
            "1100/1100 [==============================] - 4s 4ms/step - loss: 0.0690 - accuracy: 0.9772 - val_loss: 0.6708 - val_accuracy: 0.8956\n",
            "Epoch 16/30\n",
            "1100/1100 [==============================] - 4s 4ms/step - loss: 0.0687 - accuracy: 0.9769 - val_loss: 0.6741 - val_accuracy: 0.8936\n",
            "Epoch 17/30\n",
            "1100/1100 [==============================] - 4s 4ms/step - loss: 0.0684 - accuracy: 0.9769 - val_loss: 0.6740 - val_accuracy: 0.8948\n",
            "Epoch 18/30\n",
            "1100/1100 [==============================] - 4s 4ms/step - loss: 0.0683 - accuracy: 0.9772 - val_loss: 0.6798 - val_accuracy: 0.8960\n",
            "Epoch 19/30\n",
            "1100/1100 [==============================] - 4s 4ms/step - loss: 0.0679 - accuracy: 0.9771 - val_loss: 0.6823 - val_accuracy: 0.8946\n",
            "Epoch 20/30\n",
            "1100/1100 [==============================] - 4s 4ms/step - loss: 0.0676 - accuracy: 0.9775 - val_loss: 0.6835 - val_accuracy: 0.8950\n",
            "Epoch 21/30\n",
            "1100/1100 [==============================] - 4s 4ms/step - loss: 0.0673 - accuracy: 0.9770 - val_loss: 0.6776 - val_accuracy: 0.8940\n",
            "Epoch 22/30\n",
            "1100/1100 [==============================] - 4s 4ms/step - loss: 0.0670 - accuracy: 0.9773 - val_loss: 0.6907 - val_accuracy: 0.8950\n",
            "Epoch 23/30\n",
            "1100/1100 [==============================] - 4s 4ms/step - loss: 0.0668 - accuracy: 0.9774 - val_loss: 0.6917 - val_accuracy: 0.8946\n",
            "Epoch 24/30\n",
            "1100/1100 [==============================] - 4s 4ms/step - loss: 0.0665 - accuracy: 0.9774 - val_loss: 0.6914 - val_accuracy: 0.8956\n",
            "Epoch 25/30\n",
            "1100/1100 [==============================] - 4s 4ms/step - loss: 0.0663 - accuracy: 0.9775 - val_loss: 0.6943 - val_accuracy: 0.8952\n",
            "Epoch 26/30\n",
            "1100/1100 [==============================] - 4s 4ms/step - loss: 0.0663 - accuracy: 0.9779 - val_loss: 0.6904 - val_accuracy: 0.8958\n",
            "Epoch 27/30\n",
            "1100/1100 [==============================] - 4s 4ms/step - loss: 0.0659 - accuracy: 0.9780 - val_loss: 0.6987 - val_accuracy: 0.8954\n",
            "Epoch 28/30\n",
            "1100/1100 [==============================] - 4s 4ms/step - loss: 0.0657 - accuracy: 0.9780 - val_loss: 0.6949 - val_accuracy: 0.8954\n",
            "Epoch 29/30\n",
            "1100/1100 [==============================] - 4s 4ms/step - loss: 0.0652 - accuracy: 0.9781 - val_loss: 0.6996 - val_accuracy: 0.8956\n",
            "Epoch 30/30\n",
            "1100/1100 [==============================] - 4s 4ms/step - loss: 0.0650 - accuracy: 0.9781 - val_loss: 0.7019 - val_accuracy: 0.8954\n"
          ],
          "name": "stdout"
        }
      ]
    },
    {
      "cell_type": "code",
      "metadata": {
        "colab": {
          "base_uri": "https://localhost:8080/",
          "height": 328
        },
        "id": "eYTH1HD6DMvU",
        "outputId": "d0226242-fcb7-4a3e-fa9d-57f7ceaefc7b"
      },
      "source": [
        "import pandas as pd\n",
        "\n",
        "pd.DataFrame(history4.history).plot(figsize=(8, 5))\n",
        "\n",
        "plt.grid(True)\n",
        "plt.gca().set_ylim(0, 1)\n",
        "plt.show()"
      ],
      "execution_count": 49,
      "outputs": [
        {
          "output_type": "display_data",
          "data": {
            "image/png": "[encoded data removed]",
            "text/plain": [
              "<Figure size 576x360 with 1 Axes>"
            ]
          },
          "metadata": {
            "tags": [],
            "needs_background": "light"
          }
        }
      ]
    },
    {
      "cell_type": "markdown",
      "metadata": {
        "id": "Yxug3VNMq8yy"
      },
      "source": [
        "3) Plot Learning curves when using different number of **epochs**"
      ]
    },
    {
      "cell_type": "markdown",
      "metadata": {
        "id": "BdpDJGfbEY0a"
      },
      "source": [
        "epochs=10"
      ]
    },
    {
      "cell_type": "code",
      "metadata": {
        "colab": {
          "base_uri": "https://localhost:8080/"
        },
        "id": "bHFXskoHqyTc",
        "outputId": "dae4c127-3a9e-4fac-b51c-26848746b171"
      },
      "source": [
        "history5= model.fit(X_train, y_train, batch_size=32, epochs=10,\n",
        "                    validation_data=(X_valid, y_valid))"
      ],
      "execution_count": 50,
      "outputs": [
        {
          "output_type": "stream",
          "text": [
            "Epoch 1/10\n",
            "1719/1719 [==============================] - 5s 3ms/step - loss: 0.0663 - accuracy: 0.9777 - val_loss: 0.6967 - val_accuracy: 0.8932\n",
            "Epoch 2/10\n",
            "1719/1719 [==============================] - 5s 3ms/step - loss: 0.0658 - accuracy: 0.9779 - val_loss: 0.7053 - val_accuracy: 0.8944\n",
            "Epoch 3/10\n",
            "1719/1719 [==============================] - 5s 3ms/step - loss: 0.0654 - accuracy: 0.9779 - val_loss: 0.7103 - val_accuracy: 0.8964\n",
            "Epoch 4/10\n",
            "1719/1719 [==============================] - 5s 3ms/step - loss: 0.0652 - accuracy: 0.9781 - val_loss: 0.7116 - val_accuracy: 0.8954\n",
            "Epoch 5/10\n",
            "1719/1719 [==============================] - 5s 3ms/step - loss: 0.0648 - accuracy: 0.9784 - val_loss: 0.7128 - val_accuracy: 0.8952\n",
            "Epoch 6/10\n",
            "1719/1719 [==============================] - 5s 3ms/step - loss: 0.0646 - accuracy: 0.9787 - val_loss: 0.7141 - val_accuracy: 0.8960\n",
            "Epoch 7/10\n",
            "1719/1719 [==============================] - 5s 3ms/step - loss: 0.0641 - accuracy: 0.9793 - val_loss: 0.7074 - val_accuracy: 0.8948\n",
            "Epoch 8/10\n",
            "1719/1719 [==============================] - 5s 3ms/step - loss: 0.0638 - accuracy: 0.9784 - val_loss: 0.7211 - val_accuracy: 0.8940\n",
            "Epoch 9/10\n",
            "1719/1719 [==============================] - 5s 3ms/step - loss: 0.0634 - accuracy: 0.9787 - val_loss: 0.7175 - val_accuracy: 0.8940\n",
            "Epoch 10/10\n",
            "1719/1719 [==============================] - 5s 3ms/step - loss: 0.0632 - accuracy: 0.9790 - val_loss: 0.7182 - val_accuracy: 0.8954\n"
          ],
          "name": "stdout"
        }
      ]
    },
    {
      "cell_type": "code",
      "metadata": {
        "colab": {
          "base_uri": "https://localhost:8080/",
          "height": 328
        },
        "id": "coDkkHESrkLQ",
        "outputId": "402b524c-eba2-420e-d7f2-39fbf83473c7"
      },
      "source": [
        "import pandas as pd\n",
        "\n",
        "pd.DataFrame(history5.history).plot(figsize=(8, 5))\n",
        "\n",
        "plt.grid(True)\n",
        "plt.gca().set_ylim(0, 1)\n",
        "plt.show()"
      ],
      "execution_count": 51,
      "outputs": [
        {
          "output_type": "display_data",
          "data": {
            "image/png": "[encoded data removed]",
            "text/plain": [
              "<Figure size 576x360 with 1 Axes>"
            ]
          },
          "metadata": {
            "tags": [],
            "needs_background": "light"
          }
        }
      ]
    },
    {
      "cell_type": "markdown",
      "metadata": {
        "id": "HxyZjwJRFBW-"
      },
      "source": [
        "epochs=40"
      ]
    },
    {
      "cell_type": "code",
      "metadata": {
        "colab": {
          "base_uri": "https://localhost:8080/"
        },
        "id": "oEkO5oX5FDze",
        "outputId": "dbc5e0f4-ea09-41a7-cf6d-5766c90ab63f"
      },
      "source": [
        "history6= model.fit(X_train, y_train, batch_size=32, epochs=40,\n",
        "                    validation_data=(X_valid, y_valid))"
      ],
      "execution_count": 79,
      "outputs": [
        {
          "output_type": "stream",
          "text": [
            "Epoch 1/40\n",
            "1719/1719 [==============================] - 6s 3ms/step - loss: 0.2716 - accuracy: 0.9001 - val_loss: 0.2973 - val_accuracy: 0.8922\n",
            "Epoch 2/40\n",
            "1719/1719 [==============================] - 6s 3ms/step - loss: 0.2712 - accuracy: 0.8999 - val_loss: 0.2820 - val_accuracy: 0.8986\n",
            "Epoch 3/40\n",
            "1719/1719 [==============================] - 6s 3ms/step - loss: 0.2659 - accuracy: 0.9020 - val_loss: 0.3044 - val_accuracy: 0.8926\n",
            "Epoch 4/40\n",
            "1719/1719 [==============================] - 6s 3ms/step - loss: 0.2656 - accuracy: 0.9021 - val_loss: 0.2908 - val_accuracy: 0.8970\n",
            "Epoch 5/40\n",
            "1719/1719 [==============================] - 6s 3ms/step - loss: 0.2628 - accuracy: 0.9036 - val_loss: 0.2855 - val_accuracy: 0.8960\n",
            "Epoch 6/40\n",
            "1719/1719 [==============================] - 6s 4ms/step - loss: 0.2602 - accuracy: 0.9036 - val_loss: 0.2964 - val_accuracy: 0.8936\n",
            "Epoch 7/40\n",
            "1719/1719 [==============================] - 6s 3ms/step - loss: 0.2559 - accuracy: 0.9056 - val_loss: 0.2915 - val_accuracy: 0.8960\n",
            "Epoch 8/40\n",
            "1719/1719 [==============================] - 6s 3ms/step - loss: 0.2522 - accuracy: 0.9061 - val_loss: 0.2949 - val_accuracy: 0.8940\n",
            "Epoch 9/40\n",
            "1719/1719 [==============================] - 6s 3ms/step - loss: 0.2538 - accuracy: 0.9057 - val_loss: 0.2897 - val_accuracy: 0.8952\n",
            "Epoch 10/40\n",
            "1719/1719 [==============================] - 6s 3ms/step - loss: 0.2490 - accuracy: 0.9075 - val_loss: 0.2811 - val_accuracy: 0.8988\n",
            "Epoch 11/40\n",
            "1719/1719 [==============================] - 6s 3ms/step - loss: 0.2505 - accuracy: 0.9071 - val_loss: 0.2699 - val_accuracy: 0.8996\n",
            "Epoch 12/40\n",
            "1719/1719 [==============================] - 6s 3ms/step - loss: 0.2464 - accuracy: 0.9084 - val_loss: 0.2823 - val_accuracy: 0.8976\n",
            "Epoch 13/40\n",
            "1719/1719 [==============================] - 6s 3ms/step - loss: 0.2433 - accuracy: 0.9103 - val_loss: 0.2855 - val_accuracy: 0.8976\n",
            "Epoch 14/40\n",
            "1719/1719 [==============================] - 6s 3ms/step - loss: 0.2426 - accuracy: 0.9115 - val_loss: 0.2748 - val_accuracy: 0.8994\n",
            "Epoch 15/40\n",
            "1719/1719 [==============================] - 6s 3ms/step - loss: 0.2408 - accuracy: 0.9115 - val_loss: 0.2781 - val_accuracy: 0.8988\n",
            "Epoch 16/40\n",
            "1719/1719 [==============================] - 6s 3ms/step - loss: 0.2376 - accuracy: 0.9119 - val_loss: 0.2964 - val_accuracy: 0.8968\n",
            "Epoch 17/40\n",
            "1719/1719 [==============================] - 6s 3ms/step - loss: 0.2352 - accuracy: 0.9131 - val_loss: 0.2848 - val_accuracy: 0.8972\n",
            "Epoch 18/40\n",
            "1719/1719 [==============================] - 6s 3ms/step - loss: 0.2351 - accuracy: 0.9143 - val_loss: 0.2875 - val_accuracy: 0.8970\n",
            "Epoch 19/40\n",
            "1719/1719 [==============================] - 6s 3ms/step - loss: 0.2330 - accuracy: 0.9129 - val_loss: 0.2766 - val_accuracy: 0.8996\n",
            "Epoch 20/40\n",
            "1719/1719 [==============================] - 6s 3ms/step - loss: 0.2310 - accuracy: 0.9140 - val_loss: 0.2973 - val_accuracy: 0.8942\n",
            "Epoch 21/40\n",
            "1719/1719 [==============================] - 6s 3ms/step - loss: 0.2298 - accuracy: 0.9139 - val_loss: 0.2797 - val_accuracy: 0.9006\n",
            "Epoch 22/40\n",
            "1719/1719 [==============================] - 6s 3ms/step - loss: 0.2284 - accuracy: 0.9151 - val_loss: 0.2791 - val_accuracy: 0.8964\n",
            "Epoch 23/40\n",
            "1719/1719 [==============================] - 6s 3ms/step - loss: 0.2280 - accuracy: 0.9155 - val_loss: 0.2810 - val_accuracy: 0.9006\n",
            "Epoch 24/40\n",
            "1719/1719 [==============================] - 6s 3ms/step - loss: 0.2270 - accuracy: 0.9151 - val_loss: 0.2777 - val_accuracy: 0.9022\n",
            "Epoch 25/40\n",
            "1719/1719 [==============================] - 6s 3ms/step - loss: 0.2227 - accuracy: 0.9178 - val_loss: 0.2831 - val_accuracy: 0.8998\n",
            "Epoch 26/40\n",
            "1719/1719 [==============================] - 6s 3ms/step - loss: 0.2188 - accuracy: 0.9186 - val_loss: 0.2778 - val_accuracy: 0.8980\n",
            "Epoch 27/40\n",
            "1719/1719 [==============================] - 6s 3ms/step - loss: 0.2194 - accuracy: 0.9189 - val_loss: 0.2848 - val_accuracy: 0.9012\n",
            "Epoch 28/40\n",
            "1719/1719 [==============================] - 6s 3ms/step - loss: 0.2182 - accuracy: 0.9185 - val_loss: 0.2844 - val_accuracy: 0.8954\n",
            "Epoch 29/40\n",
            "1719/1719 [==============================] - 6s 3ms/step - loss: 0.2163 - accuracy: 0.9199 - val_loss: 0.2864 - val_accuracy: 0.9004\n",
            "Epoch 30/40\n",
            "1719/1719 [==============================] - 6s 3ms/step - loss: 0.2177 - accuracy: 0.9186 - val_loss: 0.2830 - val_accuracy: 0.9004\n",
            "Epoch 31/40\n",
            "1719/1719 [==============================] - 6s 3ms/step - loss: 0.2151 - accuracy: 0.9208 - val_loss: 0.2874 - val_accuracy: 0.9002\n",
            "Epoch 32/40\n",
            "1719/1719 [==============================] - 6s 3ms/step - loss: 0.2133 - accuracy: 0.9214 - val_loss: 0.2824 - val_accuracy: 0.9012\n",
            "Epoch 33/40\n",
            "1719/1719 [==============================] - 6s 3ms/step - loss: 0.2095 - accuracy: 0.9231 - val_loss: 0.2930 - val_accuracy: 0.9004\n",
            "Epoch 34/40\n",
            "1719/1719 [==============================] - 6s 3ms/step - loss: 0.2113 - accuracy: 0.9211 - val_loss: 0.2927 - val_accuracy: 0.8958\n",
            "Epoch 35/40\n",
            "1719/1719 [==============================] - 6s 3ms/step - loss: 0.2093 - accuracy: 0.9217 - val_loss: 0.2911 - val_accuracy: 0.8986\n",
            "Epoch 36/40\n",
            "1719/1719 [==============================] - 6s 4ms/step - loss: 0.2106 - accuracy: 0.9218 - val_loss: 0.2911 - val_accuracy: 0.8962\n",
            "Epoch 37/40\n",
            "1719/1719 [==============================] - 6s 4ms/step - loss: 0.2078 - accuracy: 0.9238 - val_loss: 0.2715 - val_accuracy: 0.9046\n",
            "Epoch 38/40\n",
            "1719/1719 [==============================] - 6s 4ms/step - loss: 0.2036 - accuracy: 0.9244 - val_loss: 0.2867 - val_accuracy: 0.9016\n",
            "Epoch 39/40\n",
            "1719/1719 [==============================] - 6s 4ms/step - loss: 0.2057 - accuracy: 0.9238 - val_loss: 0.2809 - val_accuracy: 0.9016\n",
            "Epoch 40/40\n",
            "1719/1719 [==============================] - 6s 3ms/step - loss: 0.2015 - accuracy: 0.9244 - val_loss: 0.2792 - val_accuracy: 0.9046\n"
          ],
          "name": "stdout"
        }
      ]
    },
    {
      "cell_type": "code",
      "metadata": {
        "colab": {
          "base_uri": "https://localhost:8080/",
          "height": 328
        },
        "id": "75PVn_XmFPSb",
        "outputId": "7f60aa85-7139-4388-fca7-fb66636c63a9"
      },
      "source": [
        "import pandas as pd\n",
        "\n",
        "pd.DataFrame(history6.history).plot(figsize=(8, 5))\n",
        "\n",
        "plt.grid(True)\n",
        "plt.gca().set_ylim(0, 1)\n",
        "plt.show()"
      ],
      "execution_count": 80,
      "outputs": [
        {
          "output_type": "display_data",
          "data": {
            "image/png": "[encoded data removed]",
            "text/plain": [
              "<Figure size 576x360 with 1 Axes>"
            ]
          },
          "metadata": {
            "tags": [],
            "needs_background": "light"
          }
        }
      ]
    },
    {
      "cell_type": "markdown",
      "metadata": {
        "id": "KScIT-zPsK48"
      },
      "source": [
        "**4) Add additional neurons and use Dropout Layer. Plot Learning curves.**"
      ]
    },
    {
      "cell_type": "code",
      "metadata": {
        "id": "8k3GQB_PsR50"
      },
      "source": [
        "from keras.layers import Dropout"
      ],
      "execution_count": 52,
      "outputs": []
    },
    {
      "cell_type": "code",
      "metadata": {
        "id": "B4jrtZCBsYLj"
      },
      "source": [
        "model = keras.models.Sequential()\n",
        "model.add(keras.layers.Flatten(input_shape=[28, 28]))\n",
        "model.add(keras.layers.Dense(600, activation=\"relu\"))\n",
        "model.add((keras.layers.Dropout(0.3)))\n",
        "model.add(keras.layers.Dense(300, activation=\"relu\"))\n",
        "model.add(keras.layers.Dense(50, activation=\"softmax\"))\n"
      ],
      "execution_count": 56,
      "outputs": []
    },
    {
      "cell_type": "code",
      "metadata": {
        "colab": {
          "base_uri": "https://localhost:8080/"
        },
        "id": "QAoQaCFmsxPo",
        "outputId": "16839295-545c-486c-e49f-e823dc9e9574"
      },
      "source": [
        "model.layers"
      ],
      "execution_count": 57,
      "outputs": [
        {
          "output_type": "execute_result",
          "data": {
            "text/plain": [
              "[<tensorflow.python.keras.layers.core.Flatten at 0x7ff84e7eafd0>,\n",
              " <tensorflow.python.keras.layers.core.Dense at 0x7ff84b852978>,\n",
              " <tensorflow.python.keras.layers.core.Dropout at 0x7ff84b852c88>,\n",
              " <tensorflow.python.keras.layers.core.Dense at 0x7ff84e5babe0>,\n",
              " <tensorflow.python.keras.layers.core.Dense at 0x7ff84cd00c88>]"
            ]
          },
          "metadata": {
            "tags": []
          },
          "execution_count": 57
        }
      ]
    },
    {
      "cell_type": "code",
      "metadata": {
        "colab": {
          "base_uri": "https://localhost:8080/"
        },
        "id": "mhSUwuj7sz2c",
        "outputId": "161ef490-0e32-40b9-ceb8-f8302037c53c"
      },
      "source": [
        "model.summary()"
      ],
      "execution_count": 58,
      "outputs": [
        {
          "output_type": "stream",
          "text": [
            "Model: \"sequential_3\"\n",
            "_________________________________________________________________\n",
            "Layer (type)                 Output Shape              Param #   \n",
            "=================================================================\n",
            "flatten_3 (Flatten)          (None, 784)               0         \n",
            "_________________________________________________________________\n",
            "dense_9 (Dense)              (None, 600)               471000    \n",
            "_________________________________________________________________\n",
            "dropout_2 (Dropout)          (None, 600)               0         \n",
            "_________________________________________________________________\n",
            "dense_10 (Dense)             (None, 300)               180300    \n",
            "_________________________________________________________________\n",
            "dense_11 (Dense)             (None, 50)                15050     \n",
            "=================================================================\n",
            "Total params: 666,350\n",
            "Trainable params: 666,350\n",
            "Non-trainable params: 0\n",
            "_________________________________________________________________\n"
          ],
          "name": "stdout"
        }
      ]
    },
    {
      "cell_type": "code",
      "metadata": {
        "colab": {
          "base_uri": "https://localhost:8080/",
          "height": 36
        },
        "id": "RH_dCYS6s8c5",
        "outputId": "5ade4d5c-c637-41b9-8dc1-5d050c31d2a7"
      },
      "source": [
        "hidden1 = model.layers[3]\n",
        "hidden1.name"
      ],
      "execution_count": 59,
      "outputs": [
        {
          "output_type": "execute_result",
          "data": {
            "application/vnd.google.colaboratory.intrinsic+json": {
              "type": "string"
            },
            "text/plain": [
              "'dense_10'"
            ]
          },
          "metadata": {
            "tags": []
          },
          "execution_count": 59
        }
      ]
    },
    {
      "cell_type": "code",
      "metadata": {
        "id": "HtgMCkD3tLQv"
      },
      "source": [
        "weights, biases = hidden1.get_weights()"
      ],
      "execution_count": 60,
      "outputs": []
    },
    {
      "cell_type": "code",
      "metadata": {
        "colab": {
          "base_uri": "https://localhost:8080/"
        },
        "id": "wnu26avAtPb5",
        "outputId": "61282b21-575e-4bcf-d251-e57f423bb859"
      },
      "source": [
        "weights"
      ],
      "execution_count": 61,
      "outputs": [
        {
          "output_type": "execute_result",
          "data": {
            "text/plain": [
              "array([[ 0.05887577, -0.03440785, -0.07797544, ...,  0.05613439,\n",
              "         0.07105143, -0.0561561 ],\n",
              "       [-0.01694702,  0.04249687, -0.06337332, ...,  0.01198722,\n",
              "        -0.07322873, -0.03706126],\n",
              "       [-0.02779901, -0.00968142,  0.05590393, ...,  0.05754134,\n",
              "         0.06104176,  0.01902957],\n",
              "       ...,\n",
              "       [ 0.04489802, -0.0450586 , -0.0261163 , ...,  0.04665022,\n",
              "        -0.04205404,  0.025424  ],\n",
              "       [-0.04680503, -0.06183435, -0.03163639, ...,  0.02761139,\n",
              "         0.05354519,  0.02389123],\n",
              "       [ 0.04371804,  0.0550037 ,  0.00033862, ...,  0.06629032,\n",
              "        -0.00302868, -0.02619923]], dtype=float32)"
            ]
          },
          "metadata": {
            "tags": []
          },
          "execution_count": 61
        }
      ]
    },
    {
      "cell_type": "code",
      "metadata": {
        "colab": {
          "base_uri": "https://localhost:8080/"
        },
        "id": "E0jwiAbJtSiD",
        "outputId": "77c37286-dfcc-4747-fe7c-76d1ae5b8996"
      },
      "source": [
        "weights.shape"
      ],
      "execution_count": 62,
      "outputs": [
        {
          "output_type": "execute_result",
          "data": {
            "text/plain": [
              "(600, 300)"
            ]
          },
          "metadata": {
            "tags": []
          },
          "execution_count": 62
        }
      ]
    },
    {
      "cell_type": "code",
      "metadata": {
        "colab": {
          "base_uri": "https://localhost:8080/"
        },
        "id": "qCTzMqF-tVoe",
        "outputId": "93dc865e-bfe8-4aeb-8217-2c8fedc66050"
      },
      "source": [
        "biases"
      ],
      "execution_count": null,
      "outputs": [
        {
          "output_type": "execute_result",
          "data": {
            "text/plain": [
              "array([0., 0., 0., 0., 0., 0., 0., 0., 0., 0., 0., 0., 0., 0., 0., 0., 0.,\n",
              "       0., 0., 0., 0., 0., 0., 0., 0., 0., 0., 0., 0., 0., 0., 0., 0., 0.,\n",
              "       0., 0., 0., 0., 0., 0., 0., 0., 0., 0., 0., 0., 0., 0., 0., 0., 0.,\n",
              "       0., 0., 0., 0., 0., 0., 0., 0., 0., 0., 0., 0., 0., 0., 0., 0., 0.,\n",
              "       0., 0., 0., 0., 0., 0., 0., 0., 0., 0., 0., 0., 0., 0., 0., 0., 0.,\n",
              "       0., 0., 0., 0., 0., 0., 0., 0., 0., 0., 0., 0., 0., 0., 0.],\n",
              "      dtype=float32)"
            ]
          },
          "metadata": {
            "tags": []
          },
          "execution_count": 117
        }
      ]
    },
    {
      "cell_type": "code",
      "metadata": {
        "id": "o3urGOg8tdQR"
      },
      "source": [
        "model.compile(loss=\"sparse_categorical_crossentropy\",\n",
        "              optimizer=\"sgd\",\n",
        "              metrics=[\"accuracy\"])"
      ],
      "execution_count": 63,
      "outputs": []
    },
    {
      "cell_type": "code",
      "metadata": {
        "colab": {
          "base_uri": "https://localhost:8080/"
        },
        "id": "wmQKKAoatgEs",
        "outputId": "4f16a994-facf-4e5b-a371-8e34ed3953e3"
      },
      "source": [
        "history7 = model.fit(X_train, y_train, batch_size=32, epochs=30,\n",
        "                    validation_data=(X_valid, y_valid))\n",
        "\n"
      ],
      "execution_count": 64,
      "outputs": [
        {
          "output_type": "stream",
          "text": [
            "Epoch 1/30\n",
            "1719/1719 [==============================] - 11s 6ms/step - loss: 0.8011 - accuracy: 0.7383 - val_loss: 0.5386 - val_accuracy: 0.8128\n",
            "Epoch 2/30\n",
            "1719/1719 [==============================] - 9s 5ms/step - loss: 0.5271 - accuracy: 0.8161 - val_loss: 0.4552 - val_accuracy: 0.8446\n",
            "Epoch 3/30\n",
            "1719/1719 [==============================] - 9s 5ms/step - loss: 0.4693 - accuracy: 0.8364 - val_loss: 0.4255 - val_accuracy: 0.8524\n",
            "Epoch 4/30\n",
            "1719/1719 [==============================] - 10s 6ms/step - loss: 0.4343 - accuracy: 0.8471 - val_loss: 0.3960 - val_accuracy: 0.8568\n",
            "Epoch 5/30\n",
            "1719/1719 [==============================] - 10s 6ms/step - loss: 0.4098 - accuracy: 0.8559 - val_loss: 0.3843 - val_accuracy: 0.8674\n",
            "Epoch 6/30\n",
            "1719/1719 [==============================] - 10s 6ms/step - loss: 0.3933 - accuracy: 0.8609 - val_loss: 0.3678 - val_accuracy: 0.8706\n",
            "Epoch 7/30\n",
            "1719/1719 [==============================] - 10s 6ms/step - loss: 0.3786 - accuracy: 0.8655 - val_loss: 0.3577 - val_accuracy: 0.8736\n",
            "Epoch 8/30\n",
            "1719/1719 [==============================] - 10s 6ms/step - loss: 0.3659 - accuracy: 0.8695 - val_loss: 0.3458 - val_accuracy: 0.8810\n",
            "Epoch 9/30\n",
            "1719/1719 [==============================] - 10s 6ms/step - loss: 0.3551 - accuracy: 0.8733 - val_loss: 0.3463 - val_accuracy: 0.8770\n",
            "Epoch 10/30\n",
            "1719/1719 [==============================] - 10s 6ms/step - loss: 0.3446 - accuracy: 0.8755 - val_loss: 0.3357 - val_accuracy: 0.8786\n",
            "Epoch 11/30\n",
            "1719/1719 [==============================] - 10s 6ms/step - loss: 0.3383 - accuracy: 0.8785 - val_loss: 0.3258 - val_accuracy: 0.8786\n",
            "Epoch 12/30\n",
            "1719/1719 [==============================] - 10s 6ms/step - loss: 0.3310 - accuracy: 0.8810 - val_loss: 0.3297 - val_accuracy: 0.8806\n",
            "Epoch 13/30\n",
            "1719/1719 [==============================] - 10s 6ms/step - loss: 0.3218 - accuracy: 0.8836 - val_loss: 0.3238 - val_accuracy: 0.8846\n",
            "Epoch 14/30\n",
            "1719/1719 [==============================] - 9s 5ms/step - loss: 0.3152 - accuracy: 0.8877 - val_loss: 0.3255 - val_accuracy: 0.8838\n",
            "Epoch 15/30\n",
            "1719/1719 [==============================] - 10s 6ms/step - loss: 0.3102 - accuracy: 0.8873 - val_loss: 0.3219 - val_accuracy: 0.8866\n",
            "Epoch 16/30\n",
            "1719/1719 [==============================] - 9s 5ms/step - loss: 0.3025 - accuracy: 0.8914 - val_loss: 0.3122 - val_accuracy: 0.8892\n",
            "Epoch 17/30\n",
            "1719/1719 [==============================] - 10s 6ms/step - loss: 0.2988 - accuracy: 0.8921 - val_loss: 0.3096 - val_accuracy: 0.8902\n",
            "Epoch 18/30\n",
            "1719/1719 [==============================] - 10s 6ms/step - loss: 0.2946 - accuracy: 0.8937 - val_loss: 0.3086 - val_accuracy: 0.8878\n",
            "Epoch 19/30\n",
            "1719/1719 [==============================] - 10s 6ms/step - loss: 0.2886 - accuracy: 0.8950 - val_loss: 0.2995 - val_accuracy: 0.8898\n",
            "Epoch 20/30\n",
            "1719/1719 [==============================] - 10s 6ms/step - loss: 0.2832 - accuracy: 0.8979 - val_loss: 0.3068 - val_accuracy: 0.8896\n",
            "Epoch 21/30\n",
            "1719/1719 [==============================] - 10s 6ms/step - loss: 0.2786 - accuracy: 0.8988 - val_loss: 0.3071 - val_accuracy: 0.8890\n",
            "Epoch 22/30\n",
            "1719/1719 [==============================] - 10s 6ms/step - loss: 0.2743 - accuracy: 0.8997 - val_loss: 0.2999 - val_accuracy: 0.8912\n",
            "Epoch 23/30\n",
            "1719/1719 [==============================] - 10s 6ms/step - loss: 0.2712 - accuracy: 0.9011 - val_loss: 0.2953 - val_accuracy: 0.8914\n",
            "Epoch 24/30\n",
            "1719/1719 [==============================] - 9s 6ms/step - loss: 0.2659 - accuracy: 0.9040 - val_loss: 0.2977 - val_accuracy: 0.8890\n",
            "Epoch 25/30\n",
            "1719/1719 [==============================] - 9s 5ms/step - loss: 0.2606 - accuracy: 0.9057 - val_loss: 0.3036 - val_accuracy: 0.8914\n",
            "Epoch 26/30\n",
            "1719/1719 [==============================] - 9s 5ms/step - loss: 0.2593 - accuracy: 0.9048 - val_loss: 0.2922 - val_accuracy: 0.8930\n",
            "Epoch 27/30\n",
            "1719/1719 [==============================] - 9s 5ms/step - loss: 0.2537 - accuracy: 0.9074 - val_loss: 0.3051 - val_accuracy: 0.8884\n",
            "Epoch 28/30\n",
            "1719/1719 [==============================] - 9s 5ms/step - loss: 0.2519 - accuracy: 0.9077 - val_loss: 0.3011 - val_accuracy: 0.8916\n",
            "Epoch 29/30\n",
            "1719/1719 [==============================] - 9s 5ms/step - loss: 0.2465 - accuracy: 0.9092 - val_loss: 0.2922 - val_accuracy: 0.8970\n",
            "Epoch 30/30\n",
            "1719/1719 [==============================] - 9s 5ms/step - loss: 0.2421 - accuracy: 0.9116 - val_loss: 0.2831 - val_accuracy: 0.8956\n"
          ],
          "name": "stdout"
        }
      ]
    },
    {
      "cell_type": "code",
      "metadata": {
        "colab": {
          "base_uri": "https://localhost:8080/",
          "height": 328
        },
        "id": "_E6cyAmxuLGe",
        "outputId": "d934857d-610b-4adb-8282-3cb969da9427"
      },
      "source": [
        "pd.DataFrame(history7.history).plot(figsize=(8, 5))\n",
        "plt.grid(True)\n",
        "plt.gca().set_ylim(0, 1)\n",
        "plt.show()"
      ],
      "execution_count": 66,
      "outputs": [
        {
          "output_type": "display_data",
          "data": {
            "image/png": "[encoded data removed]",
            "text/plain": [
              "<Figure size 576x360 with 1 Axes>"
            ]
          },
          "metadata": {
            "tags": [],
            "needs_background": "light"
          }
        }
      ]
    },
    {
      "cell_type": "markdown",
      "metadata": {
        "id": "I_QQXlTKumBk"
      },
      "source": [
        "**5) Use Batch Normalisation**"
      ]
    },
    {
      "cell_type": "code",
      "metadata": {
        "id": "l6n3wyo9uj_I"
      },
      "source": [
        "model = keras.models.Sequential()\n",
        "model.add(keras.layers.Flatten(input_shape=[28, 28]))\n",
        "model.add(keras.layers.Dense(600, activation=\"relu\"))\n",
        "model.add((keras.layers.Dropout(0.3)))\n",
        "model.add(keras.layers.Dense(300, activation=\"relu\"))\n",
        "model.add(keras.layers.BatchNormalization())\n",
        "model.add(keras.layers.Dense(50, activation=\"softmax\"))"
      ],
      "execution_count": 67,
      "outputs": []
    },
    {
      "cell_type": "code",
      "metadata": {
        "colab": {
          "base_uri": "https://localhost:8080/"
        },
        "id": "zzEW7f5wup0T",
        "outputId": "f45e32d4-ca90-4aa3-fd65-4bd8c8d4add5"
      },
      "source": [
        "model.layers"
      ],
      "execution_count": 68,
      "outputs": [
        {
          "output_type": "execute_result",
          "data": {
            "text/plain": [
              "[<tensorflow.python.keras.layers.core.Flatten at 0x7ff84ecd4cc0>,\n",
              " <tensorflow.python.keras.layers.core.Dense at 0x7ff84b75bc50>,\n",
              " <tensorflow.python.keras.layers.core.Dropout at 0x7ff84e704e10>,\n",
              " <tensorflow.python.keras.layers.core.Dense at 0x7ff84e7046a0>,\n",
              " <tensorflow.python.keras.layers.normalization_v2.BatchNormalization at 0x7ff84b843470>,\n",
              " <tensorflow.python.keras.layers.core.Dense at 0x7ff84e699780>]"
            ]
          },
          "metadata": {
            "tags": []
          },
          "execution_count": 68
        }
      ]
    },
    {
      "cell_type": "code",
      "metadata": {
        "id": "GLEqzMLTuxjN"
      },
      "source": [
        "model.compile(loss=\"sparse_categorical_crossentropy\",\n",
        "              optimizer=\"sgd\",\n",
        "              metrics=[\"accuracy\"])"
      ],
      "execution_count": 69,
      "outputs": []
    },
    {
      "cell_type": "code",
      "metadata": {
        "colab": {
          "base_uri": "https://localhost:8080/"
        },
        "id": "NN21sYJuu4Gn",
        "outputId": "c24a98b5-0577-4c59-c0ef-9491c0c11594"
      },
      "source": [
        "history8 = model.fit(X_train, y_train, batch_size=32, epochs=30,\n",
        "                    validation_data=(X_valid, y_valid))"
      ],
      "execution_count": 70,
      "outputs": [
        {
          "output_type": "stream",
          "text": [
            "Epoch 1/30\n",
            "1719/1719 [==============================] - 10s 6ms/step - loss: 0.6578 - accuracy: 0.7878 - val_loss: 0.4052 - val_accuracy: 0.8622\n",
            "Epoch 2/30\n",
            "1719/1719 [==============================] - 9s 5ms/step - loss: 0.4618 - accuracy: 0.8375 - val_loss: 0.3692 - val_accuracy: 0.8742\n",
            "Epoch 3/30\n",
            "1719/1719 [==============================] - 10s 6ms/step - loss: 0.4148 - accuracy: 0.8508 - val_loss: 0.3464 - val_accuracy: 0.8746\n",
            "Epoch 4/30\n",
            "1719/1719 [==============================] - 10s 6ms/step - loss: 0.3897 - accuracy: 0.8591 - val_loss: 0.3563 - val_accuracy: 0.8728\n",
            "Epoch 5/30\n",
            "1719/1719 [==============================] - 9s 5ms/step - loss: 0.3665 - accuracy: 0.8670 - val_loss: 0.3308 - val_accuracy: 0.8796\n",
            "Epoch 6/30\n",
            "1719/1719 [==============================] - 9s 5ms/step - loss: 0.3542 - accuracy: 0.8712 - val_loss: 0.3299 - val_accuracy: 0.8828\n",
            "Epoch 7/30\n",
            "1719/1719 [==============================] - 9s 5ms/step - loss: 0.3391 - accuracy: 0.8773 - val_loss: 0.3164 - val_accuracy: 0.8862\n",
            "Epoch 8/30\n",
            "1719/1719 [==============================] - 9s 6ms/step - loss: 0.3266 - accuracy: 0.8791 - val_loss: 0.3111 - val_accuracy: 0.8842\n",
            "Epoch 9/30\n",
            "1719/1719 [==============================] - 9s 5ms/step - loss: 0.3146 - accuracy: 0.8829 - val_loss: 0.3076 - val_accuracy: 0.8900\n",
            "Epoch 10/30\n",
            "1719/1719 [==============================] - 9s 5ms/step - loss: 0.3064 - accuracy: 0.8873 - val_loss: 0.2982 - val_accuracy: 0.8914\n",
            "Epoch 11/30\n",
            "1719/1719 [==============================] - 10s 6ms/step - loss: 0.2982 - accuracy: 0.8895 - val_loss: 0.2946 - val_accuracy: 0.8916\n",
            "Epoch 12/30\n",
            "1719/1719 [==============================] - 10s 6ms/step - loss: 0.2903 - accuracy: 0.8925 - val_loss: 0.3147 - val_accuracy: 0.8856\n",
            "Epoch 13/30\n",
            "1719/1719 [==============================] - 14s 8ms/step - loss: 0.2868 - accuracy: 0.8943 - val_loss: 0.2907 - val_accuracy: 0.8920\n",
            "Epoch 14/30\n",
            "1719/1719 [==============================] - 9s 5ms/step - loss: 0.2770 - accuracy: 0.8974 - val_loss: 0.3204 - val_accuracy: 0.8820\n",
            "Epoch 15/30\n",
            "1719/1719 [==============================] - 10s 6ms/step - loss: 0.2735 - accuracy: 0.8973 - val_loss: 0.2946 - val_accuracy: 0.8950\n",
            "Epoch 16/30\n",
            "1719/1719 [==============================] - 9s 6ms/step - loss: 0.2677 - accuracy: 0.8996 - val_loss: 0.2914 - val_accuracy: 0.8928\n",
            "Epoch 17/30\n",
            "1719/1719 [==============================] - 9s 6ms/step - loss: 0.2635 - accuracy: 0.9018 - val_loss: 0.2889 - val_accuracy: 0.8916\n",
            "Epoch 18/30\n",
            "1719/1719 [==============================] - 9s 5ms/step - loss: 0.2550 - accuracy: 0.9053 - val_loss: 0.2804 - val_accuracy: 0.9012\n",
            "Epoch 19/30\n",
            "1719/1719 [==============================] - 9s 5ms/step - loss: 0.2475 - accuracy: 0.9088 - val_loss: 0.2774 - val_accuracy: 0.9000\n",
            "Epoch 20/30\n",
            "1719/1719 [==============================] - 9s 6ms/step - loss: 0.2486 - accuracy: 0.9071 - val_loss: 0.2916 - val_accuracy: 0.8960\n",
            "Epoch 21/30\n",
            "1719/1719 [==============================] - 10s 6ms/step - loss: 0.2431 - accuracy: 0.9096 - val_loss: 0.2822 - val_accuracy: 0.9008\n",
            "Epoch 22/30\n",
            "1719/1719 [==============================] - 9s 6ms/step - loss: 0.2374 - accuracy: 0.9106 - val_loss: 0.2745 - val_accuracy: 0.8986\n",
            "Epoch 23/30\n",
            "1719/1719 [==============================] - 9s 5ms/step - loss: 0.2356 - accuracy: 0.9127 - val_loss: 0.2869 - val_accuracy: 0.8952\n",
            "Epoch 24/30\n",
            "1719/1719 [==============================] - 9s 5ms/step - loss: 0.2287 - accuracy: 0.9152 - val_loss: 0.2818 - val_accuracy: 0.8990\n",
            "Epoch 25/30\n",
            "1719/1719 [==============================] - 9s 5ms/step - loss: 0.2269 - accuracy: 0.9148 - val_loss: 0.2835 - val_accuracy: 0.9004\n",
            "Epoch 26/30\n",
            "1719/1719 [==============================] - 9s 5ms/step - loss: 0.2227 - accuracy: 0.9155 - val_loss: 0.2741 - val_accuracy: 0.8998\n",
            "Epoch 27/30\n",
            "1719/1719 [==============================] - 9s 5ms/step - loss: 0.2203 - accuracy: 0.9169 - val_loss: 0.2694 - val_accuracy: 0.9036\n",
            "Epoch 28/30\n",
            "1719/1719 [==============================] - 9s 5ms/step - loss: 0.2204 - accuracy: 0.9179 - val_loss: 0.2812 - val_accuracy: 0.9006\n",
            "Epoch 29/30\n",
            "1719/1719 [==============================] - 9s 6ms/step - loss: 0.2160 - accuracy: 0.9190 - val_loss: 0.2817 - val_accuracy: 0.8986\n",
            "Epoch 30/30\n",
            "1719/1719 [==============================] - 9s 5ms/step - loss: 0.2121 - accuracy: 0.9212 - val_loss: 0.2765 - val_accuracy: 0.9012\n"
          ],
          "name": "stdout"
        }
      ]
    },
    {
      "cell_type": "code",
      "metadata": {
        "colab": {
          "base_uri": "https://localhost:8080/"
        },
        "id": "MVRDycpbvhfR",
        "outputId": "51b37b61-85a4-493f-a10f-fa526065761b"
      },
      "source": [
        "eval = model.evaluate(X_test, y_test)"
      ],
      "execution_count": 71,
      "outputs": [
        {
          "output_type": "stream",
          "text": [
            "313/313 [==============================] - 1s 2ms/step - loss: 0.3126 - accuracy: 0.8927\n"
          ],
          "name": "stdout"
        }
      ]
    },
    {
      "cell_type": "code",
      "metadata": {
        "colab": {
          "base_uri": "https://localhost:8080/",
          "height": 328
        },
        "id": "7d9sRkZ0vpSc",
        "outputId": "5d5a8f3c-658c-4a9b-cfde-6e6e53489f80"
      },
      "source": [
        "pd.DataFrame(history8.history).plot(figsize=(8, 5))\n",
        "plt.grid(True)\n",
        "plt.gca().set_ylim(0, 1)\n",
        "plt.show()"
      ],
      "execution_count": 72,
      "outputs": [
        {
          "output_type": "display_data",
          "data": {
            "image/png": "[encoded data removed]",
            "text/plain": [
              "<Figure size 576x360 with 1 Axes>"
            ]
          },
          "metadata": {
            "tags": [],
            "needs_background": "light"
          }
        }
      ]
    },
    {
      "cell_type": "markdown",
      "metadata": {
        "id": "Iy_Y1wybv_Ds"
      },
      "source": [
        "**6) repeat with more layers**"
      ]
    },
    {
      "cell_type": "code",
      "metadata": {
        "id": "jrg9tw7Yv_tV"
      },
      "source": [
        "model = keras.models.Sequential()\n",
        "model.add(keras.layers.Flatten(input_shape=[28, 28]))\n",
        "model.add(keras.layers.Dense(300, activation=\"relu\"))\n",
        "model.add((keras.layers.Dropout(0.3)))\n",
        "model.add(keras.layers.Dense(200, activation=\"relu\"))\n",
        "model.add((keras.layers.Dropout(0.3)))\n",
        "model.add(keras.layers.Dense(100, activation=\"relu\"))\n",
        "model.add(keras.layers.BatchNormalization())\n",
        "model.add(keras.layers.Dense(50, activation=\"relu\"))\n",
        "model.add(keras.layers.Dense(30, activation=\"softmax\"))"
      ],
      "execution_count": 73,
      "outputs": []
    },
    {
      "cell_type": "code",
      "metadata": {
        "colab": {
          "base_uri": "https://localhost:8080/"
        },
        "id": "YUmYnt9zw1s8",
        "outputId": "d8390904-b30e-4390-8076-3a7026897c89"
      },
      "source": [
        "model.layers"
      ],
      "execution_count": 74,
      "outputs": [
        {
          "output_type": "execute_result",
          "data": {
            "text/plain": [
              "[<tensorflow.python.keras.layers.core.Flatten at 0x7ff84b760eb8>,\n",
              " <tensorflow.python.keras.layers.core.Dense at 0x7ff84e5bacc0>,\n",
              " <tensorflow.python.keras.layers.core.Dropout at 0x7ff8474a8dd8>,\n",
              " <tensorflow.python.keras.layers.core.Dense at 0x7ff88cd8d0b8>,\n",
              " <tensorflow.python.keras.layers.core.Dropout at 0x7ff8485686d8>,\n",
              " <tensorflow.python.keras.layers.core.Dense at 0x7ff84b966710>,\n",
              " <tensorflow.python.keras.layers.normalization_v2.BatchNormalization at 0x7ff8474b0ac8>,\n",
              " <tensorflow.python.keras.layers.core.Dense at 0x7ff84b9389e8>,\n",
              " <tensorflow.python.keras.layers.core.Dense at 0x7ff848544a20>]"
            ]
          },
          "metadata": {
            "tags": []
          },
          "execution_count": 74
        }
      ]
    },
    {
      "cell_type": "code",
      "metadata": {
        "id": "dOw9qo86w4ww"
      },
      "source": [
        "model.compile(loss=\"sparse_categorical_crossentropy\",\n",
        "              optimizer=\"sgd\",\n",
        "              metrics=[\"accuracy\"])"
      ],
      "execution_count": 76,
      "outputs": []
    },
    {
      "cell_type": "code",
      "metadata": {
        "colab": {
          "base_uri": "https://localhost:8080/"
        },
        "id": "qUTkUefNxBr5",
        "outputId": "0e4044ed-41e3-485d-ea86-4f40cf5ba0b4"
      },
      "source": [
        "history9 = model.fit(X_train, y_train, batch_size=32, epochs=30,\n",
        "                    validation_data=(X_valid, y_valid))"
      ],
      "execution_count": 77,
      "outputs": [
        {
          "output_type": "stream",
          "text": [
            "Epoch 1/30\n",
            "1719/1719 [==============================] - 6s 3ms/step - loss: 0.8778 - accuracy: 0.7051 - val_loss: 0.4652 - val_accuracy: 0.8328\n",
            "Epoch 2/30\n",
            "1719/1719 [==============================] - 6s 4ms/step - loss: 0.5417 - accuracy: 0.8063 - val_loss: 0.4079 - val_accuracy: 0.8552\n",
            "Epoch 3/30\n",
            "1719/1719 [==============================] - 6s 3ms/step - loss: 0.4816 - accuracy: 0.8277 - val_loss: 0.3885 - val_accuracy: 0.8604\n",
            "Epoch 4/30\n",
            "1719/1719 [==============================] - 6s 3ms/step - loss: 0.4490 - accuracy: 0.8396 - val_loss: 0.3630 - val_accuracy: 0.8708\n",
            "Epoch 5/30\n",
            "1719/1719 [==============================] - 6s 3ms/step - loss: 0.4282 - accuracy: 0.8460 - val_loss: 0.3439 - val_accuracy: 0.8758\n",
            "Epoch 6/30\n",
            "1719/1719 [==============================] - 6s 3ms/step - loss: 0.4118 - accuracy: 0.8493 - val_loss: 0.3435 - val_accuracy: 0.8748\n",
            "Epoch 7/30\n",
            "1719/1719 [==============================] - 6s 3ms/step - loss: 0.3972 - accuracy: 0.8556 - val_loss: 0.3394 - val_accuracy: 0.8762\n",
            "Epoch 8/30\n",
            "1719/1719 [==============================] - 6s 3ms/step - loss: 0.3852 - accuracy: 0.8613 - val_loss: 0.3447 - val_accuracy: 0.8726\n",
            "Epoch 9/30\n",
            "1719/1719 [==============================] - 6s 3ms/step - loss: 0.3743 - accuracy: 0.8665 - val_loss: 0.3243 - val_accuracy: 0.8820\n",
            "Epoch 10/30\n",
            "1719/1719 [==============================] - 6s 3ms/step - loss: 0.3660 - accuracy: 0.8668 - val_loss: 0.3122 - val_accuracy: 0.8862\n",
            "Epoch 11/30\n",
            "1719/1719 [==============================] - 6s 3ms/step - loss: 0.3569 - accuracy: 0.8706 - val_loss: 0.3159 - val_accuracy: 0.8818\n",
            "Epoch 12/30\n",
            "1719/1719 [==============================] - 6s 3ms/step - loss: 0.3505 - accuracy: 0.8727 - val_loss: 0.3181 - val_accuracy: 0.8836\n",
            "Epoch 13/30\n",
            "1719/1719 [==============================] - 6s 3ms/step - loss: 0.3425 - accuracy: 0.8755 - val_loss: 0.3421 - val_accuracy: 0.8716\n",
            "Epoch 14/30\n",
            "1719/1719 [==============================] - 6s 3ms/step - loss: 0.3351 - accuracy: 0.8783 - val_loss: 0.3020 - val_accuracy: 0.8892\n",
            "Epoch 15/30\n",
            "1719/1719 [==============================] - 6s 3ms/step - loss: 0.3312 - accuracy: 0.8801 - val_loss: 0.3006 - val_accuracy: 0.8898\n",
            "Epoch 16/30\n",
            "1719/1719 [==============================] - 6s 3ms/step - loss: 0.3259 - accuracy: 0.8802 - val_loss: 0.2984 - val_accuracy: 0.8902\n",
            "Epoch 17/30\n",
            "1719/1719 [==============================] - 6s 3ms/step - loss: 0.3205 - accuracy: 0.8821 - val_loss: 0.2996 - val_accuracy: 0.8936\n",
            "Epoch 18/30\n",
            "1719/1719 [==============================] - 6s 4ms/step - loss: 0.3171 - accuracy: 0.8839 - val_loss: 0.3015 - val_accuracy: 0.8904\n",
            "Epoch 19/30\n",
            "1719/1719 [==============================] - 6s 3ms/step - loss: 0.3115 - accuracy: 0.8856 - val_loss: 0.2981 - val_accuracy: 0.8926\n",
            "Epoch 20/30\n",
            "1719/1719 [==============================] - 6s 3ms/step - loss: 0.3075 - accuracy: 0.8865 - val_loss: 0.2967 - val_accuracy: 0.8906\n",
            "Epoch 21/30\n",
            "1719/1719 [==============================] - 6s 3ms/step - loss: 0.3027 - accuracy: 0.8880 - val_loss: 0.2958 - val_accuracy: 0.8912\n",
            "Epoch 22/30\n",
            "1719/1719 [==============================] - 6s 3ms/step - loss: 0.2981 - accuracy: 0.8916 - val_loss: 0.2913 - val_accuracy: 0.8948\n",
            "Epoch 23/30\n",
            "1719/1719 [==============================] - 6s 3ms/step - loss: 0.2976 - accuracy: 0.8901 - val_loss: 0.2955 - val_accuracy: 0.8922\n",
            "Epoch 24/30\n",
            "1719/1719 [==============================] - 6s 3ms/step - loss: 0.2930 - accuracy: 0.8923 - val_loss: 0.2966 - val_accuracy: 0.8914\n",
            "Epoch 25/30\n",
            "1719/1719 [==============================] - 6s 3ms/step - loss: 0.2867 - accuracy: 0.8953 - val_loss: 0.2900 - val_accuracy: 0.8940\n",
            "Epoch 26/30\n",
            "1719/1719 [==============================] - 6s 3ms/step - loss: 0.2858 - accuracy: 0.8956 - val_loss: 0.2934 - val_accuracy: 0.8936\n",
            "Epoch 27/30\n",
            "1719/1719 [==============================] - 6s 3ms/step - loss: 0.2846 - accuracy: 0.8966 - val_loss: 0.2914 - val_accuracy: 0.8930\n",
            "Epoch 28/30\n",
            "1719/1719 [==============================] - 6s 3ms/step - loss: 0.2823 - accuracy: 0.8947 - val_loss: 0.2840 - val_accuracy: 0.8940\n",
            "Epoch 29/30\n",
            "1719/1719 [==============================] - 6s 3ms/step - loss: 0.2775 - accuracy: 0.8976 - val_loss: 0.2816 - val_accuracy: 0.8964\n",
            "Epoch 30/30\n",
            "1719/1719 [==============================] - 6s 3ms/step - loss: 0.2776 - accuracy: 0.8967 - val_loss: 0.2993 - val_accuracy: 0.8908\n"
          ],
          "name": "stdout"
        }
      ]
    },
    {
      "cell_type": "code",
      "metadata": {
        "colab": {
          "base_uri": "https://localhost:8080/",
          "height": 328
        },
        "id": "HclZL6nQyR-G",
        "outputId": "b82f5db0-8621-4339-a24c-4fca59d5a7e7"
      },
      "source": [
        "pd.DataFrame(history9.history).plot(figsize=(8, 5))\n",
        "plt.grid(True)\n",
        "plt.gca().set_ylim(0, 1)\n",
        "plt.show()"
      ],
      "execution_count": 78,
      "outputs": [
        {
          "output_type": "display_data",
          "data": {
            "image/png": "[encoded data removed]",
            "text/plain": [
              "<Figure size 576x360 with 1 Axes>"
            ]
          },
          "metadata": {
            "tags": [],
            "needs_background": "light"
          }
        }
      ]
    },
    {
      "cell_type": "code",
      "metadata": {
        "colab": {
          "base_uri": "https://localhost:8080/"
        },
        "id": "M_yECpGRzEnH",
        "outputId": "2a5ea23d-513a-4cdf-bb78-5d514ef090d0"
      },
      "source": [
        "minist = keras.datasets.mnist\n",
        "(X_train_full, y_train_full), (X_test, y_test) = minist.load_data()"
      ],
      "execution_count": null,
      "outputs": [
        {
          "output_type": "stream",
          "text": [
            "Downloading data from https://storage.googleapis.com/tensorflow/tf-keras-datasets/mnist.npz\n",
            "11493376/11490434 [==============================] - 0s 0us/step\n"
          ],
          "name": "stdout"
        }
      ]
    },
    {
      "cell_type": "code",
      "metadata": {
        "colab": {
          "base_uri": "https://localhost:8080/"
        },
        "id": "L1Xs6pKv2ifT",
        "outputId": "b910c7af-11fd-4ee5-c736-c8b929ee8bd9"
      },
      "source": [
        "X_train_full.shape"
      ],
      "execution_count": null,
      "outputs": [
        {
          "output_type": "execute_result",
          "data": {
            "text/plain": [
              "(60000, 28, 28)"
            ]
          },
          "metadata": {
            "tags": []
          },
          "execution_count": 140
        }
      ]
    },
    {
      "cell_type": "code",
      "metadata": {
        "colab": {
          "base_uri": "https://localhost:8080/"
        },
        "id": "wDF2rHRM2mr8",
        "outputId": "a54b460e-342d-4ea5-b253-96e2906ef38a"
      },
      "source": [
        "y_train_full"
      ],
      "execution_count": null,
      "outputs": [
        {
          "output_type": "execute_result",
          "data": {
            "text/plain": [
              "array([5, 0, 4, ..., 5, 6, 8], dtype=uint8)"
            ]
          },
          "metadata": {
            "tags": []
          },
          "execution_count": 141
        }
      ]
    },
    {
      "cell_type": "code",
      "metadata": {
        "id": "AZDHZIFs2w9N"
      },
      "source": [
        "X_valid, X_train = X_train_full[:5000] / 255., X_train_full[5000:] / 255.\n",
        "y_valid, y_train = y_train_full[:5000], y_train_full[5000:]\n",
        "X_test = X_test / 255."
      ],
      "execution_count": null,
      "outputs": []
    },
    {
      "cell_type": "code",
      "metadata": {
        "colab": {
          "base_uri": "https://localhost:8080/"
        },
        "id": "lZoB9JVS2zOg",
        "outputId": "01e7a430-92f3-4fca-9204-741dd7263162"
      },
      "source": [
        "y_train"
      ],
      "execution_count": null,
      "outputs": [
        {
          "output_type": "execute_result",
          "data": {
            "text/plain": [
              "array([7, 3, 4, ..., 5, 6, 8], dtype=uint8)"
            ]
          },
          "metadata": {
            "tags": []
          },
          "execution_count": 143
        }
      ]
    },
    {
      "cell_type": "code",
      "metadata": {
        "colab": {
          "base_uri": "https://localhost:8080/"
        },
        "id": "dWyo5U9R22so",
        "outputId": "b8020cf7-2a77-4b25-dc83-87a9d40bafc4"
      },
      "source": [
        "X_train"
      ],
      "execution_count": null,
      "outputs": [
        {
          "output_type": "execute_result",
          "data": {
            "text/plain": [
              "array([[[0., 0., 0., ..., 0., 0., 0.],\n",
              "        [0., 0., 0., ..., 0., 0., 0.],\n",
              "        [0., 0., 0., ..., 0., 0., 0.],\n",
              "        ...,\n",
              "        [0., 0., 0., ..., 0., 0., 0.],\n",
              "        [0., 0., 0., ..., 0., 0., 0.],\n",
              "        [0., 0., 0., ..., 0., 0., 0.]],\n",
              "\n",
              "       [[0., 0., 0., ..., 0., 0., 0.],\n",
              "        [0., 0., 0., ..., 0., 0., 0.],\n",
              "        [0., 0., 0., ..., 0., 0., 0.],\n",
              "        ...,\n",
              "        [0., 0., 0., ..., 0., 0., 0.],\n",
              "        [0., 0., 0., ..., 0., 0., 0.],\n",
              "        [0., 0., 0., ..., 0., 0., 0.]],\n",
              "\n",
              "       [[0., 0., 0., ..., 0., 0., 0.],\n",
              "        [0., 0., 0., ..., 0., 0., 0.],\n",
              "        [0., 0., 0., ..., 0., 0., 0.],\n",
              "        ...,\n",
              "        [0., 0., 0., ..., 0., 0., 0.],\n",
              "        [0., 0., 0., ..., 0., 0., 0.],\n",
              "        [0., 0., 0., ..., 0., 0., 0.]],\n",
              "\n",
              "       ...,\n",
              "\n",
              "       [[0., 0., 0., ..., 0., 0., 0.],\n",
              "        [0., 0., 0., ..., 0., 0., 0.],\n",
              "        [0., 0., 0., ..., 0., 0., 0.],\n",
              "        ...,\n",
              "        [0., 0., 0., ..., 0., 0., 0.],\n",
              "        [0., 0., 0., ..., 0., 0., 0.],\n",
              "        [0., 0., 0., ..., 0., 0., 0.]],\n",
              "\n",
              "       [[0., 0., 0., ..., 0., 0., 0.],\n",
              "        [0., 0., 0., ..., 0., 0., 0.],\n",
              "        [0., 0., 0., ..., 0., 0., 0.],\n",
              "        ...,\n",
              "        [0., 0., 0., ..., 0., 0., 0.],\n",
              "        [0., 0., 0., ..., 0., 0., 0.],\n",
              "        [0., 0., 0., ..., 0., 0., 0.]],\n",
              "\n",
              "       [[0., 0., 0., ..., 0., 0., 0.],\n",
              "        [0., 0., 0., ..., 0., 0., 0.],\n",
              "        [0., 0., 0., ..., 0., 0., 0.],\n",
              "        ...,\n",
              "        [0., 0., 0., ..., 0., 0., 0.],\n",
              "        [0., 0., 0., ..., 0., 0., 0.],\n",
              "        [0., 0., 0., ..., 0., 0., 0.]]])"
            ]
          },
          "metadata": {
            "tags": []
          },
          "execution_count": 144
        }
      ]
    },
    {
      "cell_type": "code",
      "metadata": {
        "id": "giRg4LlZ26Hy"
      },
      "source": [
        "class_names = [\"0\", \"1\", \"2\", \"3\", \"4\",\"5\", \"6\", \"7\", \"8\", \"9\"]"
      ],
      "execution_count": null,
      "outputs": []
    },
    {
      "cell_type": "code",
      "metadata": {
        "colab": {
          "base_uri": "https://localhost:8080/",
          "height": 36
        },
        "id": "_RG7IRZm3Dhi",
        "outputId": "0e1303a9-b2e4-49c6-efaf-374c1b3a20da"
      },
      "source": [
        "class_names[y_train[4]]"
      ],
      "execution_count": null,
      "outputs": [
        {
          "output_type": "execute_result",
          "data": {
            "application/vnd.google.colaboratory.intrinsic+json": {
              "type": "string"
            },
            "text/plain": [
              "'1'"
            ]
          },
          "metadata": {
            "tags": []
          },
          "execution_count": 147
        }
      ]
    },
    {
      "cell_type": "code",
      "metadata": {
        "colab": {
          "base_uri": "https://localhost:8080/",
          "height": 308
        },
        "id": "b5-g9l3s3Pu7",
        "outputId": "729f1385-0630-4375-fdd6-87d24b38bb83"
      },
      "source": [
        "n_rows = 4\n",
        "n_cols = 4\n",
        "plt.figure(figsize=(n_cols * 1.2, n_rows * 1.2))\n",
        "for row in range(n_rows):\n",
        "    for col in range(n_cols):\n",
        "        index = n_cols * row + col\n",
        "        plt.subplot(n_rows, n_cols, index + 1)\n",
        "        plt.imshow(X_train[index], cmap=\"binary\", interpolation=\"nearest\")\n",
        "        plt.axis('off')\n",
        "        plt.title(class_names[y_train[index]], fontsize=12)\n",
        "plt.subplots_adjust(wspace=0.2, hspace=0.5)\n",
        "plt.show()"
      ],
      "execution_count": null,
      "outputs": [
        {
          "output_type": "display_data",
          "data": {
            "image/png": "[encoded data removed]",
            "text/plain": [
              "<Figure size 345.6x345.6 with 16 Axes>"
            ]
          },
          "metadata": {
            "tags": [],
            "needs_background": "light"
          }
        }
      ]
    },
    {
      "cell_type": "code",
      "metadata": {
        "colab": {
          "base_uri": "https://localhost:8080/",
          "height": 248
        },
        "id": "2GhFNsrJ3iul",
        "outputId": "dd7f3d8b-d891-4da8-f4ec-7bdbcf6c9070"
      },
      "source": [
        "plt.imshow(X_train[0], cmap=\"binary\")\n",
        "plt.axis('off')\n",
        "plt.show()"
      ],
      "execution_count": null,
      "outputs": [
        {
          "output_type": "display_data",
          "data": {
            "image/png": "[encoded data removed]",
            "text/plain": [
              "<Figure size 432x288 with 1 Axes>"
            ]
          },
          "metadata": {
            "tags": [],
            "needs_background": "light"
          }
        }
      ]
    },
    {
      "cell_type": "code",
      "metadata": {
        "colab": {
          "base_uri": "https://localhost:8080/",
          "height": 248
        },
        "id": "51rQu9Af3pOH",
        "outputId": "3116f44a-7b92-4322-adb8-b6fa6c940e72"
      },
      "source": [
        "plt.imshow(X_train[7], cmap=\"binary\")\n",
        "plt.axis('off')\n",
        "plt.show()"
      ],
      "execution_count": null,
      "outputs": [
        {
          "output_type": "display_data",
          "data": {
            "image/png": "[encoded data removed]",
            "text/plain": [
              "<Figure size 432x288 with 1 Axes>"
            ]
          },
          "metadata": {
            "tags": [],
            "needs_background": "light"
          }
        }
      ]
    },
    {
      "cell_type": "code",
      "metadata": {
        "id": "8mbED8Dx3sYF"
      },
      "source": [
        "model = keras.models.Sequential()\n",
        "model.add(keras.layers.Flatten(input_shape=[28, 28]))\n",
        "model.add(keras.layers.Dense(300, activation=\"relu\"))\n",
        "model.add((keras.layers.Dropout(0.3)))\n",
        "model.add(keras.layers.Dense(180, activation=\"relu\"))\n",
        "model.add((keras.layers.Dropout(0.3)))\n",
        "model.add(keras.layers.Dense(90, activation=\"relu\"))\n",
        "model.add(keras.layers.BatchNormalization())\n",
        "model.add(keras.layers.Dense(10, activation=\"softmax\"))"
      ],
      "execution_count": null,
      "outputs": []
    },
    {
      "cell_type": "code",
      "metadata": {
        "colab": {
          "base_uri": "https://localhost:8080/"
        },
        "id": "nFkMplLb3_Ac",
        "outputId": "e158bde9-4729-4c39-8611-7d8bb155b102"
      },
      "source": [
        "model.layers"
      ],
      "execution_count": null,
      "outputs": [
        {
          "output_type": "execute_result",
          "data": {
            "text/plain": [
              "[<tensorflow.python.keras.layers.core.Flatten at 0x7f8b8039e940>,\n",
              " <tensorflow.python.keras.layers.core.Dense at 0x7f8b8039eb70>,\n",
              " <tensorflow.python.keras.layers.core.Dropout at 0x7f8bc7345cf8>,\n",
              " <tensorflow.python.keras.layers.core.Dense at 0x7f8b7b79b518>,\n",
              " <tensorflow.python.keras.layers.core.Dropout at 0x7f8b773c9d30>,\n",
              " <tensorflow.python.keras.layers.core.Dense at 0x7f8b7968b5f8>,\n",
              " <tensorflow.python.keras.layers.normalization_v2.BatchNormalization at 0x7f8b7b6cdeb8>,\n",
              " <tensorflow.python.keras.layers.core.Dense at 0x7f8b7b6cd828>]"
            ]
          },
          "metadata": {
            "tags": []
          },
          "execution_count": 154
        }
      ]
    },
    {
      "cell_type": "code",
      "metadata": {
        "colab": {
          "base_uri": "https://localhost:8080/"
        },
        "id": "CPkBMPZO4Alv",
        "outputId": "067a723f-a558-4726-81df-e89f9714bf03"
      },
      "source": [
        "model.summary()"
      ],
      "execution_count": null,
      "outputs": [
        {
          "output_type": "stream",
          "text": [
            "Model: \"sequential_5\"\n",
            "_________________________________________________________________\n",
            "Layer (type)                 Output Shape              Param #   \n",
            "=================================================================\n",
            "flatten_5 (Flatten)          (None, 784)               0         \n",
            "_________________________________________________________________\n",
            "dense_17 (Dense)             (None, 300)               235500    \n",
            "_________________________________________________________________\n",
            "dropout_6 (Dropout)          (None, 300)               0         \n",
            "_________________________________________________________________\n",
            "dense_18 (Dense)             (None, 180)               54180     \n",
            "_________________________________________________________________\n",
            "dropout_7 (Dropout)          (None, 180)               0         \n",
            "_________________________________________________________________\n",
            "dense_19 (Dense)             (None, 90)                16290     \n",
            "_________________________________________________________________\n",
            "batch_normalization_3 (Batch (None, 90)                360       \n",
            "_________________________________________________________________\n",
            "dense_20 (Dense)             (None, 10)                910       \n",
            "=================================================================\n",
            "Total params: 307,240\n",
            "Trainable params: 307,060\n",
            "Non-trainable params: 180\n",
            "_________________________________________________________________\n"
          ],
          "name": "stdout"
        }
      ]
    },
    {
      "cell_type": "code",
      "metadata": {
        "colab": {
          "base_uri": "https://localhost:8080/",
          "height": 36
        },
        "id": "kLRlDIhX4KPC",
        "outputId": "ab755f32-1491-4492-e538-6a5797452844"
      },
      "source": [
        "hidden1 = model.layers[3]\n",
        "hidden1.name"
      ],
      "execution_count": null,
      "outputs": [
        {
          "output_type": "execute_result",
          "data": {
            "application/vnd.google.colaboratory.intrinsic+json": {
              "type": "string"
            },
            "text/plain": [
              "'dense_18'"
            ]
          },
          "metadata": {
            "tags": []
          },
          "execution_count": 156
        }
      ]
    },
    {
      "cell_type": "code",
      "metadata": {
        "colab": {
          "base_uri": "https://localhost:8080/"
        },
        "id": "ThRKk2IF4Di0",
        "outputId": "e2d96c01-e0ad-4f46-a7aa-f3182a8fb8ab"
      },
      "source": [
        "model.get_layer(hidden1.name) is hidden1"
      ],
      "execution_count": null,
      "outputs": [
        {
          "output_type": "execute_result",
          "data": {
            "text/plain": [
              "True"
            ]
          },
          "metadata": {
            "tags": []
          },
          "execution_count": 157
        }
      ]
    },
    {
      "cell_type": "code",
      "metadata": {
        "id": "neP_jQzK4T9-"
      },
      "source": [
        "weights, biases = hidden1.get_weights()"
      ],
      "execution_count": null,
      "outputs": []
    },
    {
      "cell_type": "code",
      "metadata": {
        "colab": {
          "base_uri": "https://localhost:8080/"
        },
        "id": "LU0K7Hbc4YGk",
        "outputId": "8f04a076-67f5-49b3-dd1f-426544cabe9d"
      },
      "source": [
        "weights"
      ],
      "execution_count": null,
      "outputs": [
        {
          "output_type": "execute_result",
          "data": {
            "text/plain": [
              "array([[ 0.00861768,  0.02491942, -0.05415845, ..., -0.05272148,\n",
              "         0.00309245, -0.08093777],\n",
              "       [-0.02886537,  0.07962069, -0.08836792, ...,  0.05434731,\n",
              "         0.05253091,  0.03567757],\n",
              "       [ 0.02215625, -0.05146134, -0.08521081, ..., -0.02138585,\n",
              "         0.04999168,  0.07195511],\n",
              "       ...,\n",
              "       [-0.00815005, -0.04938604,  0.08716935, ..., -0.05934779,\n",
              "        -0.0143195 ,  0.08128305],\n",
              "       [ 0.02675629,  0.05019395,  0.00461994, ...,  0.03650966,\n",
              "         0.08062853,  0.0824666 ],\n",
              "       [ 0.03867584,  0.01762369, -0.09385164, ...,  0.00244289,\n",
              "         0.07034339,  0.06795157]], dtype=float32)"
            ]
          },
          "metadata": {
            "tags": []
          },
          "execution_count": 159
        }
      ]
    },
    {
      "cell_type": "code",
      "metadata": {
        "id": "I1SB2jQQ4cjL"
      },
      "source": [
        "model.compile(loss=\"sparse_categorical_crossentropy\",\n",
        "              optimizer=\"sgd\",\n",
        "              metrics=[\"accuracy\"])"
      ],
      "execution_count": null,
      "outputs": []
    },
    {
      "cell_type": "code",
      "metadata": {
        "colab": {
          "base_uri": "https://localhost:8080/"
        },
        "id": "ke3XrmUG4gZh",
        "outputId": "28ff7390-df89-4efe-b918-bee5414d819d"
      },
      "source": [
        "history7 = model.fit(X_train, y_train, batch_size=32, epochs=5,\n",
        "                    validation_data=(X_valid, y_valid))"
      ],
      "execution_count": null,
      "outputs": [
        {
          "output_type": "stream",
          "text": [
            "Epoch 1/5\n",
            "1719/1719 [==============================] - 7s 4ms/step - loss: 0.5908 - accuracy: 0.8168 - val_loss: 0.2064 - val_accuracy: 0.9410\n",
            "Epoch 2/5\n",
            "1719/1719 [==============================] - 6s 4ms/step - loss: 0.2982 - accuracy: 0.9104 - val_loss: 0.1496 - val_accuracy: 0.9556\n",
            "Epoch 3/5\n",
            "1719/1719 [==============================] - 6s 4ms/step - loss: 0.2333 - accuracy: 0.9299 - val_loss: 0.1235 - val_accuracy: 0.9654\n",
            "Epoch 4/5\n",
            "1719/1719 [==============================] - 7s 4ms/step - loss: 0.1954 - accuracy: 0.9408 - val_loss: 0.1100 - val_accuracy: 0.9686\n",
            "Epoch 5/5\n",
            "1719/1719 [==============================] - 6s 4ms/step - loss: 0.1704 - accuracy: 0.9488 - val_loss: 0.1030 - val_accuracy: 0.9712\n"
          ],
          "name": "stdout"
        }
      ]
    },
    {
      "cell_type": "code",
      "metadata": {
        "colab": {
          "base_uri": "https://localhost:8080/"
        },
        "id": "r2DCBbKT4mmC",
        "outputId": "01d05ba5-2f2a-4545-93b2-55178a069827"
      },
      "source": [
        "eval = model.evaluate(X_test, y_test)"
      ],
      "execution_count": null,
      "outputs": [
        {
          "output_type": "stream",
          "text": [
            "313/313 [==============================] - 0s 2ms/step - loss: 0.0997 - accuracy: 0.9691\n"
          ],
          "name": "stdout"
        }
      ]
    },
    {
      "cell_type": "code",
      "metadata": {
        "colab": {
          "base_uri": "https://localhost:8080/",
          "height": 328
        },
        "id": "EQYvIEO-4vuS",
        "outputId": "7a672b51-a45a-4d7a-9cb3-be27d4b4f0b8"
      },
      "source": [
        "pd.DataFrame(history7.history).plot(figsize=(8, 5))\n",
        "plt.grid(True)\n",
        "plt.gca().set_ylim(0, 1)\n",
        "plt.show()"
      ],
      "execution_count": null,
      "outputs": [
        {
          "output_type": "display_data",
          "data": {
            "image/png": "[encoded data removed]",
            "text/plain": [
              "<Figure size 576x360 with 1 Axes>"
            ]
          },
          "metadata": {
            "tags": [],
            "needs_background": "light"
          }
        }
      ]
    }
  ]
}