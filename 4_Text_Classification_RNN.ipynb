{
  "nbformat": 4,
  "nbformat_minor": 0,
  "metadata": {
    "accelerator": "GPU",
    "colab": {
      "name": "text_classification_rnn.ipynb",
      "provenance": [],
      "collapsed_sections": []
    },
    "kernelspec": {
      "display_name": "Python 3",
      "name": "python3"
    }
  },
  "cells": [
    {
      "cell_type": "markdown",
      "metadata": {
        "id": "hX4n9TsbGw-f"
      },
      "source": [
        "##### Copyright 2018 The TensorFlow Authors."
      ]
    },
    {
      "cell_type": "code",
      "metadata": {
        "cellView": "form",
        "id": "0nbI5DtDGw-i"
      },
      "source": [
        "#@title Licensed under the Apache License, Version 2.0 (the \"License\");\n",
        "# you may not use this file except in compliance with the License.\n",
        "# You may obtain a copy of the License at\n",
        "#\n",
        "# https://www.apache.org/licenses/LICENSE-2.0\n",
        "#\n",
        "# Unless required by applicable law or agreed to in writing, software\n",
        "# distributed under the License is distributed on an \"AS IS\" BASIS,\n",
        "# WITHOUT WARRANTIES OR CONDITIONS OF ANY KIND, either express or implied.\n",
        "# See the License for the specific language governing permissions and\n",
        "# limitations under the License."
      ],
      "execution_count": null,
      "outputs": []
    },
    {
      "cell_type": "markdown",
      "metadata": {
        "id": "9TnJztDZGw-n"
      },
      "source": [
        "# Text classification with an RNN"
      ]
    },
    {
      "cell_type": "markdown",
      "metadata": {
        "id": "AfN3bMR5Gw-o"
      },
      "source": [
        "<table class=\"tfo-notebook-buttons\" align=\"left\">\n",
        "  <td>\n",
        "    <a target=\"_blank\" href=\"https://www.tensorflow.org/tutorials/text/text_classification_rnn\"><img src=\"https://www.tensorflow.org/images/tf_logo_32px.png\" />View on TensorFlow.org</a>\n",
        "  </td>\n",
        "  <td>\n",
        "    <a target=\"_blank\" href=\"https://colab.research.google.com/github/tensorflow/docs/blob/master/site/en/tutorials/text/text_classification_rnn.ipynb\"><img src=\"https://www.tensorflow.org/images/colab_logo_32px.png\" />Run in Google Colab</a>\n",
        "  </td>\n",
        "  <td>\n",
        "    <a target=\"_blank\" href=\"https://github.com/tensorflow/docs/blob/master/site/en/tutorials/text/text_classification_rnn.ipynb\"><img src=\"https://www.tensorflow.org/images/GitHub-Mark-32px.png\" />View source on GitHub</a>\n",
        "  </td>\n",
        "  <td>\n",
        "    <a href=\"https://storage.googleapis.com/tensorflow_docs/docs/site/en/tutorials/text/text_classification_rnn.ipynb\"><img src=\"https://www.tensorflow.org/images/download_logo_32px.png\" />Download notebook</a>\n",
        "  </td>\n",
        "</table>"
      ]
    },
    {
      "cell_type": "markdown",
      "metadata": {
        "id": "lUWearf0Gw-p"
      },
      "source": [
        "This text classification tutorial trains a [recurrent neural network](https://developers.google.com/machine-learning/glossary/#recurrent_neural_network) on the [IMDB large movie review dataset](http://ai.stanford.edu/~amaas/data/sentiment/) for sentiment analysis."
      ]
    },
    {
      "cell_type": "markdown",
      "metadata": {
        "id": "_2VQo4bajwUU"
      },
      "source": [
        "## Setup"
      ]
    },
    {
      "cell_type": "code",
      "metadata": {
        "id": "vH_FAfIz5dEw"
      },
      "source": [
        "!pip install -q tensorflow_datasets"
      ],
      "execution_count": 1,
      "outputs": []
    },
    {
      "cell_type": "code",
      "metadata": {
        "id": "z682XYsrjkY9"
      },
      "source": [
        "import numpy as np\n",
        "\n",
        "import tensorflow_datasets as tfds\n",
        "import tensorflow as tf\n",
        "\n",
        "tfds.disable_progress_bar()"
      ],
      "execution_count": 2,
      "outputs": []
    },
    {
      "cell_type": "markdown",
      "metadata": {
        "id": "1rXHa-w9JZhb"
      },
      "source": [
        "Import `matplotlib` and create a helper function to plot graphs:"
      ]
    },
    {
      "cell_type": "code",
      "metadata": {
        "id": "Mp1Z7P9pYRSK"
      },
      "source": [
        "import matplotlib.pyplot as plt\n",
        "\n",
        "def plot_graphs(history, metric):\n",
        "  plt.plot(history.history[metric])\n",
        "  plt.plot(history.history['val_'+metric], '')\n",
        "  plt.xlabel(\"Epochs\")\n",
        "  plt.ylabel(metric)\n",
        "  plt.legend([metric, 'val_'+metric])"
      ],
      "execution_count": 4,
      "outputs": []
    },
    {
      "cell_type": "markdown",
      "metadata": {
        "id": "pRmMubr0jrE2"
      },
      "source": [
        "## Setup input pipeline\n",
        "\n",
        "\n",
        "The IMDB large movie review dataset is a *binary classification* dataset—all the reviews have either a *positive* or *negative* sentiment.\n",
        "\n",
        "Download the dataset using [TFDS](https://www.tensorflow.org/datasets). See the [loading text tutorial](../load_data/text.ipynb) for details on how to load this sort of data manually.\n"
      ]
    },
    {
      "cell_type": "code",
      "metadata": {
        "id": "SHRwRoP2nVHX",
        "outputId": "d66c7a77-a8b4-4ff8-9658-090091b2c2be",
        "colab": {
          "base_uri": "https://localhost:8080/"
        }
      },
      "source": [
        "dataset, info = tfds.load('imdb_reviews', with_info=True,\n",
        "                          as_supervised=True)\n",
        "train_dataset, test_dataset = dataset['train'], dataset['test']\n",
        "\n",
        "train_dataset.element_spec"
      ],
      "execution_count": 5,
      "outputs": [
        {
          "output_type": "stream",
          "text": [
            "\u001b[1mDownloading and preparing dataset imdb_reviews/plain_text/1.0.0 (download: 80.23 MiB, generated: Unknown size, total: 80.23 MiB) to /root/tensorflow_datasets/imdb_reviews/plain_text/1.0.0...\u001b[0m\n",
            "Shuffling and writing examples to /root/tensorflow_datasets/imdb_reviews/plain_text/1.0.0.incomplete7Z3UL8/imdb_reviews-train.tfrecord\n",
            "Shuffling and writing examples to /root/tensorflow_datasets/imdb_reviews/plain_text/1.0.0.incomplete7Z3UL8/imdb_reviews-test.tfrecord\n",
            "Shuffling and writing examples to /root/tensorflow_datasets/imdb_reviews/plain_text/1.0.0.incomplete7Z3UL8/imdb_reviews-unsupervised.tfrecord\n"
          ],
          "name": "stdout"
        },
        {
          "output_type": "stream",
          "text": [
            "WARNING:absl:Dataset is using deprecated text encoder API which will be removed soon. Please use the plain_text version of the dataset and migrate to `tensorflow_text`.\n"
          ],
          "name": "stderr"
        },
        {
          "output_type": "stream",
          "text": [
            "\u001b[1mDataset imdb_reviews downloaded and prepared to /root/tensorflow_datasets/imdb_reviews/plain_text/1.0.0. Subsequent calls will reuse this data.\u001b[0m\n"
          ],
          "name": "stdout"
        },
        {
          "output_type": "execute_result",
          "data": {
            "text/plain": [
              "(TensorSpec(shape=(), dtype=tf.string, name=None),\n",
              " TensorSpec(shape=(), dtype=tf.int64, name=None))"
            ]
          },
          "metadata": {
            "tags": []
          },
          "execution_count": 5
        }
      ]
    },
    {
      "cell_type": "markdown",
      "metadata": {
        "id": "nWA4c2ir7g6p"
      },
      "source": [
        "Initially this returns a dataset of (text, label pairs):"
      ]
    },
    {
      "cell_type": "code",
      "metadata": {
        "id": "vd4_BGKyurao",
        "outputId": "03a66a3b-6191-4cdc-bd79-91fed7f08730",
        "colab": {
          "base_uri": "https://localhost:8080/"
        }
      },
      "source": [
        "for example, label in train_dataset.take(1):\n",
        "  print('text: ', example.numpy())\n",
        "  print('label: ', label.numpy())"
      ],
      "execution_count": 6,
      "outputs": [
        {
          "output_type": "stream",
          "text": [
            "text:  b\"This was an absolutely terrible movie. Don't be lured in by Christopher Walken or Michael Ironside. Both are great actors, but this must simply be their worst role in history. Even their great acting could not redeem this movie's ridiculous storyline. This movie is an early nineties US propaganda piece. The most pathetic scenes were those when the Columbian rebels were making their cases for revolutions. Maria Conchita Alonso appeared phony, and her pseudo-love affair with Walken was nothing but a pathetic emotional plug in a movie that was devoid of any real meaning. I am disappointed that there are movies like this, ruining actor's like Christopher Walken's good name. I could barely sit through it.\"\n",
            "label:  0\n"
          ],
          "name": "stdout"
        }
      ]
    },
    {
      "cell_type": "markdown",
      "metadata": {
        "id": "z2qVJzcEluH_"
      },
      "source": [
        "Next shuffle the data for training and create batches of these `(text, label)` pairs:"
      ]
    },
    {
      "cell_type": "code",
      "metadata": {
        "id": "dDsCaZCDYZgm"
      },
      "source": [
        "BUFFER_SIZE = 10000\n",
        "BATCH_SIZE = 64"
      ],
      "execution_count": 7,
      "outputs": []
    },
    {
      "cell_type": "code",
      "metadata": {
        "id": "VznrltNOnUc5"
      },
      "source": [
        "train_dataset = train_dataset.shuffle(BUFFER_SIZE).batch(BATCH_SIZE).prefetch(tf.data.experimental.AUTOTUNE)\n",
        "test_dataset = test_dataset.batch(BATCH_SIZE).prefetch(tf.data.experimental.AUTOTUNE)"
      ],
      "execution_count": 8,
      "outputs": []
    },
    {
      "cell_type": "code",
      "metadata": {
        "id": "jqkvdcFv41wC",
        "outputId": "a3f89b33-dbaa-4f8d-d54a-f75071b50817",
        "colab": {
          "base_uri": "https://localhost:8080/"
        }
      },
      "source": [
        "for example, label in train_dataset.take(1):\n",
        "  print('texts: ', example.numpy()[:3])\n",
        "  print()\n",
        "  print('labels: ', label.numpy()[:3])"
      ],
      "execution_count": 9,
      "outputs": [
        {
          "output_type": "stream",
          "text": [
            "texts:  [b\"This early Sirk melodrama, shot in black and white, is a minor film, yet showcases the flair of the German director in enhancing tired story lines into something resembling art. Set in the 1910's, Barbara Stanwyck is the woman who has sinned by abandoning her small-town husband and family for the lure of the Chicago stage. She never fulfilled her ambitions, and is drawn back to the town she left by an eager letter from her daughter informing her that she too has taken a liking to the theatre (a high school production, that is). Back in her old town she once again comes up against small-mindedness, and has to deal with her hostile eldest daughter, bewildered (and boring) husband (Richard Carlson) and ex-lover. The plot is nothing new but Sirk sets himself apart by creating meaningful compositions, with every frame carefully shot, and he is aided immeasurably by having Stanwyck as his leading lady. It runs a crisp 76 minutes, and that's just as well, because the material doesn't really have the legs to go any further.\"\n",
            " b'I\\'d passed this title 15 or 20 times while in Blockbuster, looking for something halfway decent to watch. All I can say is that they were all out halfway decent films the night I chose to rent this.<br /><br />I will give it credit for being leaps and bounds better than \"Dracula 3000\", but in actuality that\\'s pretty easy to say since this one DIDN\\'T have Caper Van Dien in it. The other things it lacked in spades were: an interesting cast, interesting story, good dialog and originality, but I suppose you can\\'t have everything.<br /><br />***SPOILERS AHEAD*** The misfit crew of vampire hunters (one of which was a vampire... go figure) flew around from mining colony to mining colony trying to wipe out all the vampires it could find. The crew consists of: the cocky, ne\\'er-do-well captain (who dies early on), his by-the-book, yet inexperienced first mate, the aforementioned vampire vampire hunter (not a typo), a wannabe cowboy and a REALLY, REALLY butch Asian commando, \"tough guy\" female... it almost sounds like the cast for MTV\\'s \\'The Real World\\'. After the captain dies in a violent confrontation with a mob of bloodsuckers (and as it turns out, lovers of the finer parts of human anatomy) his first mate takes over... blah, blah, blah... everyone hates him... blah, blah, blah... I could go on, but as I said it\\'s the same storyline used in about a hundred other \\'films\\' of the genre.<br /><br />The effects were cheese and why Michael Ironside was in this movie is beyond me. The vampire vampire hunter (still not a typo) was pretty hot, but of course if you\\'re waiting for her to expose more than just her cleavage, look elsewhere.<br /><br />I can\\'t say that it was the worst film I\\'ve seen, as I actually rented \\'Starship Troopers 2\\', but wait for this one to come on the Sci-Fi Channel.'\n",
            " b'The John Van Druten Broadway hit is brought to the screen with a maximum of star power in this romantic fantasy about a modern-day witch who beguiles a successful Manhattan publisher. James Stewart may get top billing, but it is Kim Novak who steals the show as one of the most alluring witches ever to cast a spell on the movie screen. The lead pairing is, in fact, one of the movie\\'s few weaknesses: the gray-haired Stewart seems a bit old for the role, and while it is easy to see why he falls hard for Novak, it\\'s a little harder to understand what she finds attractive about him, as they seem mismatched in temperment and outlook. (It is one of the story\\'s amusing conceits that witches and warlocks are portrayed as Greenwich Village beatniks and bohemians.) Curiously, the Stewart-Novak pairing would generate a lot more heat in \"Vertigo\", released the same year as this film, but then \"Vertigo\" had a compelling suspense story, and the benefit of Alfred Hitchcock\\'s direction.<br /><br />The film\\'s comic moments are mostly provided by the stellar supporting cast, including a young Jack Lemmon (as Kim\\'s warlock brother), Elsa Lanchester (their ditzy aunt), and Ernie Kovacs (!) as a befuddled writer. Hermione Gingold even shows up in a hilarious cameo as a sort of Grand Witch. There\\'s lots to like in this movie--wit, romance, and a great cast--that is, if you can possibly take your eyes off the enchanting Miss Novak. I have seen the movie a half a dozen times, and I never can.']\n",
            "\n",
            "labels:  [1 0 1]\n"
          ],
          "name": "stdout"
        }
      ]
    },
    {
      "cell_type": "markdown",
      "metadata": {
        "id": "s5eWCo88voPY"
      },
      "source": [
        "## Create the text encoder"
      ]
    },
    {
      "cell_type": "markdown",
      "metadata": {
        "id": "TFevcItw15P_"
      },
      "source": [
        "The raw text loaded by `tfds` needs to be processed before it can be used in a model. The simplest way to process text for training is using the `experimental.preprocessing.TextVectorization` layer. This layer has many capabilities, but this tutorial sticks to the default behavior.\n",
        "\n",
        "Create the layer, and pass the dataset's text to the layer's `.adapt` method:"
      ]
    },
    {
      "cell_type": "code",
      "metadata": {
        "id": "uC25Lu1Yvuqy"
      },
      "source": [
        "VOCAB_SIZE=1000\n",
        "encoder = tf.keras.layers.experimental.preprocessing.TextVectorization(\n",
        "    max_tokens=VOCAB_SIZE)\n",
        "encoder.adapt(train_dataset.map(lambda text, label: text))"
      ],
      "execution_count": 10,
      "outputs": []
    },
    {
      "cell_type": "markdown",
      "metadata": {
        "id": "IuQzVBbe3Ldu"
      },
      "source": [
        "The `.adapt` method sets the layer's vocabulary. Here are the first 20 tokens. After the padding and unknown tokens they're sorted by frequency: "
      ]
    },
    {
      "cell_type": "code",
      "metadata": {
        "id": "tBoyjjWg0Ac9",
        "outputId": "f6fe2e9c-ed92-400a-90f4-ce57df8c3007",
        "colab": {
          "base_uri": "https://localhost:8080/"
        }
      },
      "source": [
        "vocab = np.array(encoder.get_vocabulary())\n",
        "vocab[:20]"
      ],
      "execution_count": 11,
      "outputs": [
        {
          "output_type": "execute_result",
          "data": {
            "text/plain": [
              "array(['', '[UNK]', 'the', 'and', 'a', 'of', 'to', 'is', 'in', 'it', 'i',\n",
              "       'this', 'that', 'br', 'was', 'as', 'for', 'with', 'movie', 'but'],\n",
              "      dtype='<U14')"
            ]
          },
          "metadata": {
            "tags": []
          },
          "execution_count": 11
        }
      ]
    },
    {
      "cell_type": "markdown",
      "metadata": {
        "id": "mjId5pua3jHQ"
      },
      "source": [
        "Once the vocabulary is set, the layer can encode text into indices. The tensors of indices are 0-padded to the longest sequence in the batch (unless you set a fixed `output_sequence_length`):"
      ]
    },
    {
      "cell_type": "code",
      "metadata": {
        "id": "RGc7C9WiwRWs",
        "outputId": "b76a6a7b-8800-40de-86c8-8db7d15f7985",
        "colab": {
          "base_uri": "https://localhost:8080/"
        }
      },
      "source": [
        "encoded_example = encoder(example)[:3].numpy()\n",
        "encoded_example"
      ],
      "execution_count": 12,
      "outputs": [
        {
          "output_type": "execute_result",
          "data": {
            "text/plain": [
              "array([[ 11, 394,   1, ...,   0,   0,   0],\n",
              "       [438,   1,  11, ...,   0,   0,   0],\n",
              "       [  2, 298,   1, ...,   0,   0,   0]])"
            ]
          },
          "metadata": {
            "tags": []
          },
          "execution_count": 12
        }
      ]
    },
    {
      "cell_type": "markdown",
      "metadata": {
        "id": "F5cjz0bS39IN"
      },
      "source": [
        "With the default settings, the process is not completely reversible. There are three main reasns for that:\n",
        "\n",
        "1. The default value for `preprocessing.TextVectorization`'s `standardize` argument is `\"lower_and_strip_punctuation\"`.\n",
        "2. The limited vocabulary size and lack of character-based fallback results in some unknown tokens."
      ]
    },
    {
      "cell_type": "code",
      "metadata": {
        "id": "N_tD0QY5wXaK",
        "outputId": "aab6b36c-5776-45c8-a0dd-8793cb89f0e6",
        "colab": {
          "base_uri": "https://localhost:8080/"
        }
      },
      "source": [
        "for n in range(3):\n",
        "  print(\"Original: \", example[n].numpy())\n",
        "  print(\"Round-trip: \", \" \".join(vocab[encoded_example[n]]))\n",
        "  print()"
      ],
      "execution_count": 13,
      "outputs": [
        {
          "output_type": "stream",
          "text": [
            "Original:  b\"This early Sirk melodrama, shot in black and white, is a minor film, yet showcases the flair of the German director in enhancing tired story lines into something resembling art. Set in the 1910's, Barbara Stanwyck is the woman who has sinned by abandoning her small-town husband and family for the lure of the Chicago stage. She never fulfilled her ambitions, and is drawn back to the town she left by an eager letter from her daughter informing her that she too has taken a liking to the theatre (a high school production, that is). Back in her old town she once again comes up against small-mindedness, and has to deal with her hostile eldest daughter, bewildered (and boring) husband (Richard Carlson) and ex-lover. The plot is nothing new but Sirk sets himself apart by creating meaningful compositions, with every frame carefully shot, and he is aided immeasurably by having Stanwyck as his leading lady. It runs a crisp 76 minutes, and that's just as well, because the material doesn't really have the legs to go any further.\"\n",
            "Round-trip:  this early [UNK] [UNK] shot in black and white is a [UNK] film yet [UNK] the [UNK] of the [UNK] director in [UNK] [UNK] story lines into something [UNK] art set in the [UNK] [UNK] [UNK] is the woman who has [UNK] by [UNK] her [UNK] husband and family for the [UNK] of the [UNK] stage she never [UNK] her [UNK] and is [UNK] back to the town she left by an [UNK] [UNK] from her daughter [UNK] her that she too has taken a [UNK] to the [UNK] a high school production that is back in her old town she once again comes up against [UNK] and has to deal with her [UNK] [UNK] daughter [UNK] and boring husband richard [UNK] and [UNK] the plot is nothing new but [UNK] sets himself apart by [UNK] [UNK] [UNK] with every [UNK] [UNK] shot and he is [UNK] [UNK] by having [UNK] as his leading lady it [UNK] a [UNK] [UNK] minutes and thats just as well because the material doesnt really have the [UNK] to go any [UNK]                                                                                                                                                                                                                                                                                                                                                                                                                                                                                                                                                                                                                                                                                                                                                                                                                                                 \n",
            "\n",
            "Original:  b'I\\'d passed this title 15 or 20 times while in Blockbuster, looking for something halfway decent to watch. All I can say is that they were all out halfway decent films the night I chose to rent this.<br /><br />I will give it credit for being leaps and bounds better than \"Dracula 3000\", but in actuality that\\'s pretty easy to say since this one DIDN\\'T have Caper Van Dien in it. The other things it lacked in spades were: an interesting cast, interesting story, good dialog and originality, but I suppose you can\\'t have everything.<br /><br />***SPOILERS AHEAD*** The misfit crew of vampire hunters (one of which was a vampire... go figure) flew around from mining colony to mining colony trying to wipe out all the vampires it could find. The crew consists of: the cocky, ne\\'er-do-well captain (who dies early on), his by-the-book, yet inexperienced first mate, the aforementioned vampire vampire hunter (not a typo), a wannabe cowboy and a REALLY, REALLY butch Asian commando, \"tough guy\" female... it almost sounds like the cast for MTV\\'s \\'The Real World\\'. After the captain dies in a violent confrontation with a mob of bloodsuckers (and as it turns out, lovers of the finer parts of human anatomy) his first mate takes over... blah, blah, blah... everyone hates him... blah, blah, blah... I could go on, but as I said it\\'s the same storyline used in about a hundred other \\'films\\' of the genre.<br /><br />The effects were cheese and why Michael Ironside was in this movie is beyond me. The vampire vampire hunter (still not a typo) was pretty hot, but of course if you\\'re waiting for her to expose more than just her cleavage, look elsewhere.<br /><br />I can\\'t say that it was the worst film I\\'ve seen, as I actually rented \\'Starship Troopers 2\\', but wait for this one to come on the Sci-Fi Channel.'\n",
            "Round-trip:  id [UNK] this title [UNK] or 20 times while in [UNK] looking for something [UNK] decent to watch all i can say is that they were all out [UNK] decent films the night i [UNK] to rent [UNK] br i will give it [UNK] for being [UNK] and [UNK] better than [UNK] [UNK] but in [UNK] thats pretty easy to say since this one didnt have [UNK] [UNK] [UNK] in it the other things it [UNK] in [UNK] were an interesting cast interesting story good dialog and [UNK] but i [UNK] you cant have [UNK] br [UNK] [UNK] the [UNK] [UNK] of [UNK] [UNK] one of which was a [UNK] go figure [UNK] around from [UNK] [UNK] to [UNK] [UNK] trying to [UNK] out all the [UNK] it could find the [UNK] [UNK] of the [UNK] [UNK] [UNK] who [UNK] early on his [UNK] yet [UNK] first [UNK] the [UNK] [UNK] [UNK] [UNK] not a [UNK] a [UNK] [UNK] and a really really [UNK] [UNK] [UNK] [UNK] guy female it almost sounds like the cast for [UNK] the real world after the [UNK] [UNK] in a [UNK] [UNK] with a [UNK] of [UNK] and as it turns out [UNK] of the [UNK] parts of human [UNK] his first [UNK] takes over [UNK] [UNK] [UNK] everyone [UNK] him [UNK] [UNK] [UNK] i could go on but as i said its the same storyline used in about a [UNK] other films of the [UNK] br the effects were [UNK] and why michael [UNK] was in this movie is beyond me the [UNK] [UNK] [UNK] still not a [UNK] was pretty hot but of course if youre [UNK] for her to [UNK] more than just her [UNK] look [UNK] br i cant say that it was the worst film ive seen as i actually [UNK] [UNK] [UNK] 2 but wait for this one to come on the scifi [UNK]                                                                                                                                                                                                                                                                                                                                                                                                                                                                                                                                                                                                                                                                                                       \n",
            "\n",
            "Original:  b'The John Van Druten Broadway hit is brought to the screen with a maximum of star power in this romantic fantasy about a modern-day witch who beguiles a successful Manhattan publisher. James Stewart may get top billing, but it is Kim Novak who steals the show as one of the most alluring witches ever to cast a spell on the movie screen. The lead pairing is, in fact, one of the movie\\'s few weaknesses: the gray-haired Stewart seems a bit old for the role, and while it is easy to see why he falls hard for Novak, it\\'s a little harder to understand what she finds attractive about him, as they seem mismatched in temperment and outlook. (It is one of the story\\'s amusing conceits that witches and warlocks are portrayed as Greenwich Village beatniks and bohemians.) Curiously, the Stewart-Novak pairing would generate a lot more heat in \"Vertigo\", released the same year as this film, but then \"Vertigo\" had a compelling suspense story, and the benefit of Alfred Hitchcock\\'s direction.<br /><br />The film\\'s comic moments are mostly provided by the stellar supporting cast, including a young Jack Lemmon (as Kim\\'s warlock brother), Elsa Lanchester (their ditzy aunt), and Ernie Kovacs (!) as a befuddled writer. Hermione Gingold even shows up in a hilarious cameo as a sort of Grand Witch. There\\'s lots to like in this movie--wit, romance, and a great cast--that is, if you can possibly take your eyes off the enchanting Miss Novak. I have seen the movie a half a dozen times, and I never can.'\n",
            "Round-trip:  the john [UNK] [UNK] [UNK] hit is brought to the screen with a [UNK] of star power in this romantic fantasy about a [UNK] [UNK] who [UNK] a [UNK] [UNK] [UNK] james [UNK] may get top [UNK] but it is [UNK] [UNK] who [UNK] the show as one of the most [UNK] [UNK] ever to cast a [UNK] on the movie screen the lead [UNK] is in fact one of the movies few [UNK] the [UNK] [UNK] seems a bit old for the role and while it is easy to see why he falls hard for [UNK] its a little [UNK] to understand what she finds [UNK] about him as they seem [UNK] in [UNK] and [UNK] it is one of the [UNK] [UNK] [UNK] that [UNK] and [UNK] are portrayed as [UNK] [UNK] [UNK] and [UNK] [UNK] the [UNK] [UNK] would [UNK] a lot more [UNK] in [UNK] released the same year as this film but then [UNK] had a [UNK] suspense story and the [UNK] of [UNK] [UNK] [UNK] br the films comic moments are mostly [UNK] by the [UNK] supporting cast including a young jack [UNK] as [UNK] [UNK] brother [UNK] [UNK] their [UNK] [UNK] and [UNK] [UNK] as a [UNK] writer [UNK] [UNK] even shows up in a hilarious [UNK] as a sort of [UNK] [UNK] theres lots to like in this [UNK] romance and a great [UNK] is if you can possibly take your eyes off the [UNK] miss [UNK] i have seen the movie a half a [UNK] times and i never can                                                                                                                                                                                                                                                                                                                                                                                                                                                                                                                                                                                                                                                                                                                                                                \n",
            "\n"
          ],
          "name": "stdout"
        }
      ]
    },
    {
      "cell_type": "markdown",
      "metadata": {
        "id": "bjUqGVBxGw-t"
      },
      "source": [
        "## Create the model"
      ]
    },
    {
      "cell_type": "markdown",
      "metadata": {
        "id": "W7zsmInBOCPO"
      },
      "source": [
        "![A drawing of the information flow in the model](https://github.com/tensorflow/docs/blob/master/site/en/tutorials/text/images/bidirectional.png?raw=1)"
      ]
    },
    {
      "cell_type": "markdown",
      "metadata": {
        "id": "bgs6nnSTGw-t"
      },
      "source": [
        "Above is a diagram of the model. \n",
        "\n",
        "1. This model can be build as a `tf.keras.Sequential`.\n",
        "\n",
        "1. The first layer is the `encoder`, which converts the text to a sequence of token indices.\n",
        "\n",
        "2. After the encoder is an embedding layer. An embedding layer stores one vector per word. When called, it converts the sequences of word indices to sequences of vectors. These vectors are trainable. After training (on enough data), words with similar meanings often have similar vectors.\n",
        "\n",
        "  This index-lookup is much more efficient than the equivalent operation of passing a one-hot encoded vector through a `tf.keras.layers.Dense` layer.\n",
        "\n",
        "3. A recurrent neural network (RNN) processes sequence input by iterating through the elements. RNNs pass the outputs from one timestep to their input on the next timestep.\n",
        "\n",
        "  The `tf.keras.layers.Bidirectional` wrapper can also be used with an RNN layer. This propagates the input forward and backwards through the RNN layer and then concatenates the final output. \n",
        "\n",
        "  * The main advantage to a bidirectional RNN is that the signal from the beginning of the input doesn't need to be processed all the way through every timestep to affect the output.  \n",
        "\n",
        "  * The main disadvantage of a bidirectional RNN is that you can't efficiently stream predictions as words are being added to the end.\n",
        "\n",
        "1. After the RNN has converted the sequence to a single vector the two `layers.Dense` do some final processing, and convert from this vector representation to a single logit as the classification output. \n"
      ]
    },
    {
      "cell_type": "markdown",
      "metadata": {
        "id": "V4fodCI7soQi"
      },
      "source": [
        "The code to implement this is below:"
      ]
    },
    {
      "cell_type": "code",
      "metadata": {
        "id": "LwfoBkmRYcP3"
      },
      "source": [
        "model = tf.keras.Sequential([\n",
        "    encoder,\n",
        "    tf.keras.layers.Embedding(\n",
        "        input_dim=len(encoder.get_vocabulary()),\n",
        "        output_dim=64,\n",
        "        # Use masking to handle the variable sequence lengths\n",
        "        mask_zero=True),\n",
        "    tf.keras.layers.Bidirectional(tf.keras.layers.LSTM(64)),\n",
        "    tf.keras.layers.Dense(64, activation='relu'),\n",
        "    tf.keras.layers.Dense(1)\n",
        "])"
      ],
      "execution_count": 14,
      "outputs": []
    },
    {
      "cell_type": "markdown",
      "metadata": {
        "id": "QIGmIGkkouUb"
      },
      "source": [
        "Please note that Keras sequential model is used here since all the layers in the model only have single input and produce single output. In case you want to use stateful RNN layer, you might want to build your model with Keras functional API or model subclassing so that you can retrieve and reuse the RNN layer states. Please check [Keras RNN guide](https://www.tensorflow.org/guide/keras/rnn#rnn_state_reuse) for more details."
      ]
    },
    {
      "cell_type": "markdown",
      "metadata": {
        "id": "kF-PsCk1LwjY"
      },
      "source": [
        "The embedding layer [uses masking](../../guide/keras/masking_and_padding) to handle the varying sequence-lengths. All the layers after the `Embedding` support masking:"
      ]
    },
    {
      "cell_type": "code",
      "metadata": {
        "id": "87a8-CwfKebw",
        "outputId": "d1372f6a-ac7f-4946-9841-97be880a70e6",
        "colab": {
          "base_uri": "https://localhost:8080/"
        }
      },
      "source": [
        "print([layer.supports_masking for layer in model.layers])"
      ],
      "execution_count": 15,
      "outputs": [
        {
          "output_type": "stream",
          "text": [
            "[False, True, True, True, True]\n"
          ],
          "name": "stdout"
        }
      ]
    },
    {
      "cell_type": "markdown",
      "metadata": {
        "id": "ZlS0iaUIWLpI"
      },
      "source": [
        "To confirm that this works as expected, evaluate a sentence twice. First, alone so there's no padding to mask:"
      ]
    },
    {
      "cell_type": "code",
      "metadata": {
        "id": "O41gw3KfWHus",
        "outputId": "86be73bc-f039-4aaf-92bf-86450ce1d644",
        "colab": {
          "base_uri": "https://localhost:8080/"
        }
      },
      "source": [
        "# predict on a sample text without padding.\n",
        "\n",
        "sample_text = ('The movie was cool. The animation and the graphics '\n",
        "               'were out of this world. I would recommend this movie.')\n",
        "predictions = model.predict(np.array([sample_text]))\n",
        "print(predictions[0])"
      ],
      "execution_count": 16,
      "outputs": [
        {
          "output_type": "stream",
          "text": [
            "[0.01302652]\n"
          ],
          "name": "stdout"
        }
      ]
    },
    {
      "cell_type": "markdown",
      "metadata": {
        "id": "K0VQmGnEWcuz"
      },
      "source": [
        "Now, evaluate it again in a batch with a longer sentence. The result should be identical:"
      ]
    },
    {
      "cell_type": "code",
      "metadata": {
        "id": "UIgpuTeFNDzq",
        "outputId": "2b63f19b-3f5e-447a-dacf-836b156ec1b8",
        "colab": {
          "base_uri": "https://localhost:8080/"
        }
      },
      "source": [
        "# predict on a sample text with padding\n",
        "\n",
        "padding = \"the \" * 2000\n",
        "predictions = model.predict(np.array([sample_text, padding]))\n",
        "print(predictions[0])"
      ],
      "execution_count": 17,
      "outputs": [
        {
          "output_type": "stream",
          "text": [
            "[0.01302652]\n"
          ],
          "name": "stdout"
        }
      ]
    },
    {
      "cell_type": "markdown",
      "metadata": {
        "id": "sRI776ZcH3Tf"
      },
      "source": [
        "Compile the Keras model to configure the training process:"
      ]
    },
    {
      "cell_type": "code",
      "metadata": {
        "id": "kj2xei41YZjC"
      },
      "source": [
        "model.compile(loss=tf.keras.losses.BinaryCrossentropy(from_logits=True),\n",
        "              optimizer=tf.keras.optimizers.Adam(1e-4),\n",
        "              metrics=['accuracy'])"
      ],
      "execution_count": 18,
      "outputs": []
    },
    {
      "cell_type": "markdown",
      "metadata": {
        "id": "zIwH3nto596k"
      },
      "source": [
        "## Train the model"
      ]
    },
    {
      "cell_type": "code",
      "metadata": {
        "id": "hw86wWS4YgR2",
        "outputId": "152328de-10ec-4d41-c44c-f4245dbee575",
        "colab": {
          "base_uri": "https://localhost:8080/"
        }
      },
      "source": [
        "history = model.fit(train_dataset, epochs=10,\n",
        "                    validation_data=test_dataset, \n",
        "                    validation_steps=30)"
      ],
      "execution_count": 19,
      "outputs": [
        {
          "output_type": "stream",
          "text": [
            "Epoch 1/10\n",
            "391/391 [==============================] - 99s 252ms/step - loss: 0.6501 - accuracy: 0.5636 - val_loss: 0.5145 - val_accuracy: 0.7224\n",
            "Epoch 2/10\n",
            "391/391 [==============================] - 94s 240ms/step - loss: 0.4108 - accuracy: 0.8104 - val_loss: 0.3747 - val_accuracy: 0.8109\n",
            "Epoch 3/10\n",
            "391/391 [==============================] - 95s 244ms/step - loss: 0.3424 - accuracy: 0.8483 - val_loss: 0.3421 - val_accuracy: 0.8453\n",
            "Epoch 4/10\n",
            "391/391 [==============================] - 93s 238ms/step - loss: 0.3219 - accuracy: 0.8583 - val_loss: 0.3340 - val_accuracy: 0.8427\n",
            "Epoch 5/10\n",
            "391/391 [==============================] - 95s 244ms/step - loss: 0.3135 - accuracy: 0.8647 - val_loss: 0.3299 - val_accuracy: 0.8531\n",
            "Epoch 6/10\n",
            "391/391 [==============================] - 96s 245ms/step - loss: 0.3058 - accuracy: 0.8678 - val_loss: 0.3254 - val_accuracy: 0.8557\n",
            "Epoch 7/10\n",
            "391/391 [==============================] - 95s 242ms/step - loss: 0.3073 - accuracy: 0.8666 - val_loss: 0.3205 - val_accuracy: 0.8552\n",
            "Epoch 8/10\n",
            "391/391 [==============================] - 96s 246ms/step - loss: 0.3015 - accuracy: 0.8710 - val_loss: 0.3324 - val_accuracy: 0.8604\n",
            "Epoch 9/10\n",
            "391/391 [==============================] - 95s 244ms/step - loss: 0.2977 - accuracy: 0.8711 - val_loss: 0.3231 - val_accuracy: 0.8516\n",
            "Epoch 10/10\n",
            "391/391 [==============================] - 98s 251ms/step - loss: 0.2956 - accuracy: 0.8716 - val_loss: 0.3304 - val_accuracy: 0.8422\n"
          ],
          "name": "stdout"
        }
      ]
    },
    {
      "cell_type": "code",
      "metadata": {
        "id": "BaNbXi43YgUT",
        "outputId": "195a0fa3-b818-4840-bd44-6d2db0bd35c8",
        "colab": {
          "base_uri": "https://localhost:8080/"
        }
      },
      "source": [
        "test_loss, test_acc = model.evaluate(test_dataset)\n",
        "\n",
        "print('Test Loss: {}'.format(test_loss))\n",
        "print('Test Accuracy: {}'.format(test_acc))"
      ],
      "execution_count": 20,
      "outputs": [
        {
          "output_type": "stream",
          "text": [
            "391/391 [==============================] - 49s 124ms/step - loss: 0.3276 - accuracy: 0.8427\n",
            "Test Loss: 0.3276369869709015\n",
            "Test Accuracy: 0.8427199721336365\n"
          ],
          "name": "stdout"
        }
      ]
    },
    {
      "cell_type": "code",
      "metadata": {
        "id": "OZmwt_mzaQJk",
        "outputId": "12b9102c-6943-453b-d73b-315a3ce538c1",
        "colab": {
          "base_uri": "https://localhost:8080/",
          "height": 518
        }
      },
      "source": [
        "plt.figure(figsize=(16,8))\n",
        "plt.subplot(1,2,1)\n",
        "plot_graphs(history, 'accuracy')\n",
        "plt.ylim(None,1)\n",
        "plt.subplot(1,2,2)\n",
        "plot_graphs(history, 'loss')\n",
        "plt.ylim(0,None)"
      ],
      "execution_count": 21,
      "outputs": [
        {
          "output_type": "execute_result",
          "data": {
            "text/plain": [
              "(0.0, 0.6678582817316056)"
            ]
          },
          "metadata": {
            "tags": []
          },
          "execution_count": 21
        },
        {
          "output_type": "display_data",
          "data": {
            "image/png": "[encoded data removed]",
            "text/plain": [
              "<Figure size 1152x576 with 2 Axes>"
            ]
          },
          "metadata": {
            "tags": [],
            "needs_background": "light"
          }
        }
      ]
    },
    {
      "cell_type": "markdown",
      "metadata": {
        "id": "DwSE_386uhxD"
      },
      "source": [
        "Run a prediction on a neew sentence:\n",
        "\n",
        "If the prediction is >= 0.0, it is positive else it is negative."
      ]
    },
    {
      "cell_type": "code",
      "metadata": {
        "id": "ZXgfQSgRW6zU"
      },
      "source": [
        "sample_text = ('The movie was cool. The animation and the graphics '\n",
        "               'were out of this world. I would recommend this movie.')\n",
        "predictions = model.predict(np.array([sample_text]))"
      ],
      "execution_count": 22,
      "outputs": []
    },
    {
      "cell_type": "markdown",
      "metadata": {
        "id": "7g1evcaRpTKm"
      },
      "source": [
        "## Stack two or more LSTM layers\n",
        "\n",
        "Keras recurrent layers have two available modes that are controlled by the `return_sequences` constructor argument:\n",
        "\n",
        "* If `False` it returns only the last output for each input sequence (a 2D tensor of shape (batch_size, output_features)). This is the default, used in the previous model.\n",
        "\n",
        "* If `True` the full sequences of successive outputs for each timestep is returned (a 3D tensor of shape `(batch_size, timesteps, output_features)`).\n",
        "\n",
        "Here is what the flow of information looks like with `return_sequences=True`:\n",
        "\n",
        "![layered_bidirectional](https://github.com/tensorflow/docs/blob/master/site/en/tutorials/text/images/layered_bidirectional.ipynb?raw=1)"
      ]
    },
    {
      "cell_type": "markdown",
      "metadata": {
        "id": "wbSClCrG1z8l"
      },
      "source": [
        "The interesting thing about using an `RNN` with `return_sequences=True` is that the output still has 3-axes, like the input, so it can be passed to another RNN layer, like this:"
      ]
    },
    {
      "cell_type": "code",
      "metadata": {
        "id": "jo1jjO3vn0jo"
      },
      "source": [
        "model = tf.keras.Sequential([\n",
        "    encoder,\n",
        "    tf.keras.layers.Embedding(len(encoder.get_vocabulary()), 64, mask_zero=True),\n",
        "    tf.keras.layers.Bidirectional(tf.keras.layers.LSTM(64,  return_sequences=True)),\n",
        "    tf.keras.layers.Bidirectional(tf.keras.layers.LSTM(32)),\n",
        "    tf.keras.layers.Dense(64, activation='relu'),\n",
        "    tf.keras.layers.Dropout(0.5),\n",
        "    tf.keras.layers.Dense(1)\n",
        "])"
      ],
      "execution_count": 23,
      "outputs": []
    },
    {
      "cell_type": "code",
      "metadata": {
        "id": "hEPV5jVGp-is"
      },
      "source": [
        "model.compile(loss=tf.keras.losses.BinaryCrossentropy(from_logits=True),\n",
        "              optimizer=tf.keras.optimizers.Adam(1e-4),\n",
        "              metrics=['accuracy'])"
      ],
      "execution_count": 24,
      "outputs": []
    },
    {
      "cell_type": "code",
      "metadata": {
        "id": "LeSE-YjdqAeN",
        "outputId": "96432825-367c-4e08-b09a-f2d33fd225a3",
        "colab": {
          "base_uri": "https://localhost:8080/"
        }
      },
      "source": [
        "history = model.fit(train_dataset, epochs=10,\n",
        "                    validation_data=test_dataset,\n",
        "                    validation_steps=30)"
      ],
      "execution_count": 25,
      "outputs": [
        {
          "output_type": "stream",
          "text": [
            "Epoch 1/10\n",
            "391/391 [==============================] - 185s 474ms/step - loss: 0.6149 - accuracy: 0.5994 - val_loss: 0.4550 - val_accuracy: 0.8135\n",
            "Epoch 2/10\n",
            "391/391 [==============================] - 176s 451ms/step - loss: 0.3721 - accuracy: 0.8335 - val_loss: 0.3730 - val_accuracy: 0.8161\n",
            "Epoch 3/10\n",
            "391/391 [==============================] - 174s 446ms/step - loss: 0.3324 - accuracy: 0.8557 - val_loss: 0.3473 - val_accuracy: 0.8266\n",
            "Epoch 4/10\n",
            "391/391 [==============================] - 174s 445ms/step - loss: 0.3196 - accuracy: 0.8611 - val_loss: 0.3296 - val_accuracy: 0.8531\n",
            "Epoch 5/10\n",
            "391/391 [==============================] - 172s 439ms/step - loss: 0.3110 - accuracy: 0.8641 - val_loss: 0.3233 - val_accuracy: 0.8557\n",
            "Epoch 6/10\n",
            "391/391 [==============================] - 171s 436ms/step - loss: 0.3082 - accuracy: 0.8680 - val_loss: 0.3258 - val_accuracy: 0.8615\n",
            "Epoch 7/10\n",
            "391/391 [==============================] - 170s 436ms/step - loss: 0.3025 - accuracy: 0.8697 - val_loss: 0.3270 - val_accuracy: 0.8599\n",
            "Epoch 8/10\n",
            "391/391 [==============================] - 171s 437ms/step - loss: 0.3003 - accuracy: 0.8712 - val_loss: 0.3276 - val_accuracy: 0.8474\n",
            "Epoch 9/10\n",
            "391/391 [==============================] - 169s 432ms/step - loss: 0.2971 - accuracy: 0.8699 - val_loss: 0.3179 - val_accuracy: 0.8536\n",
            "Epoch 10/10\n",
            "391/391 [==============================] - 170s 435ms/step - loss: 0.2911 - accuracy: 0.8732 - val_loss: 0.3247 - val_accuracy: 0.8625\n"
          ],
          "name": "stdout"
        }
      ]
    },
    {
      "cell_type": "code",
      "metadata": {
        "id": "_LdwilM1qPM3",
        "outputId": "dd8449d5-f348-4ecc-dae1-d38b017a5149",
        "colab": {
          "base_uri": "https://localhost:8080/"
        }
      },
      "source": [
        "test_loss, test_acc = model.evaluate(test_dataset)\n",
        "\n",
        "print('Test Loss: {}'.format(test_loss))\n",
        "print('Test Accuracy: {}'.format(test_acc))"
      ],
      "execution_count": 26,
      "outputs": [
        {
          "output_type": "stream",
          "text": [
            "391/391 [==============================] - 84s 215ms/step - loss: 0.3190 - accuracy: 0.8632\n",
            "Test Loss: 0.31899845600128174\n",
            "Test Accuracy: 0.8631600141525269\n"
          ],
          "name": "stdout"
        }
      ]
    },
    {
      "cell_type": "code",
      "metadata": {
        "id": "ykUKnAoqbycW",
        "outputId": "a2e58d1c-27d8-4759-9f7f-e8f93ac10c3e",
        "colab": {
          "base_uri": "https://localhost:8080/"
        }
      },
      "source": [
        "# predict on a sample text without padding.\n",
        "\n",
        "sample_text = ('The movie was not good. The animation and the graphics '\n",
        "                    'were terrible. I would not recommend this movie.')\n",
        "predictions = model.predict(np.array([sample_text]))\n",
        "print(predictions)"
      ],
      "execution_count": 27,
      "outputs": [
        {
          "output_type": "stream",
          "text": [
            "[[-1.6396949]]\n"
          ],
          "name": "stdout"
        }
      ]
    },
    {
      "cell_type": "code",
      "metadata": {
        "id": "_YYub0EDtwCu",
        "outputId": "9dbfce42-6b29-4f37-980e-cc3a376c8ae9",
        "colab": {
          "base_uri": "https://localhost:8080/",
          "height": 388
        }
      },
      "source": [
        "plt.figure(figsize=(16,6))\n",
        "plt.subplot(1,2,1)\n",
        "plot_graphs(history, 'accuracy')\n",
        "plt.subplot(1,2,2)\n",
        "plot_graphs(history, 'loss')"
      ],
      "execution_count": 28,
      "outputs": [
        {
          "output_type": "display_data",
          "data": {
            "image/png": "[encoded data removed]",
            "text/plain": [
              "<Figure size 1152x432 with 2 Axes>"
            ]
          },
          "metadata": {
            "tags": [],
            "needs_background": "light"
          }
        }
      ]
    },
    {
      "cell_type": "markdown",
      "metadata": {
        "id": "9xvpE3BaGw_V"
      },
      "source": [
        "Check out other existing recurrent layers such as [GRU layers](https://www.tensorflow.org/api_docs/python/tf/keras/layers/GRU).\n",
        "\n",
        "If you're interestied in building custom RNNs, see the [Keras RNN Guide](../../guide/keras/rnn.ipynb).\n"
      ]
    }
  ]
}