{
  "nbformat": 4,
  "nbformat_minor": 0,
  "metadata": {
    "kernelspec": {
      "display_name": "Python 3",
      "language": "python",
      "name": "python3"
    },
    "language_info": {
      "codemirror_mode": {
        "name": "ipython",
        "version": 3
      },
      "file_extension": ".py",
      "mimetype": "text/x-python",
      "name": "python",
      "nbconvert_exporter": "python",
      "pygments_lexer": "ipython3",
      "version": "3.6.1"
    },
    "nav_menu": {
      "height": "264px",
      "width": "369px"
    },
    "toc": {
      "navigate_menu": true,
      "number_sections": true,
      "sideBar": true,
      "threshold": 6,
      "toc_cell": false,
      "toc_section_display": "block",
      "toc_window_display": false
    },
    "colab": {
      "name": "Copie de ANN_with_keras.ipynb",
      "provenance": [],
      "collapsed_sections": []
    }
  },
  "cells": [
    {
      "cell_type": "markdown",
      "metadata": {
        "id": "gqXfwLlP1lkc"
      },
      "source": [
        "# Artificial Neural Networks with Keras"
      ]
    },
    {
      "cell_type": "markdown",
      "metadata": {
        "id": "5h0ThjxC1lkd"
      },
      "source": [
        "<table align=\"left\">\n",
        "  <td>\n",
        "    <a target=\"_blank\" href=\"https://colab.research.google.com/github/AbdelMahm/INPT-2020/blob/master/Notebooks_DL/ANN_with_keras.ipynb\"><img src=\"https://colab.research.google.com/img/colab_favicon_256px.png\" />Run in Google Colab</a>\n",
        "  </td>\n",
        "</table>"
      ]
    },
    {
      "cell_type": "markdown",
      "metadata": {
        "id": "hxi74YC61lke"
      },
      "source": [
        "# Setup"
      ]
    },
    {
      "cell_type": "code",
      "metadata": {
        "id": "SL45xNiS1lke"
      },
      "source": [
        "Firstly, let's import a few common modules, ensure MatplotLib plots figures inline and prepare a function to save the figures. We also check that Python 3.5 or later is installed (although Python 2.x may work, it is deprecated so we strongly recommend you use Python 3 instead), as well as Scikit-Learn ≥0.20 and TensorFlow ≥2.0."
      ],
      "execution_count": null,
      "outputs": []
    },
    {
      "cell_type": "code",
      "metadata": {
        "id": "j8-U7uVY1lke"
      },
      "source": [
        "# TensorFlow ≥2.0 is required\n",
        "import tensorflow as tf\n",
        "\n",
        "# Common imports\n",
        "import numpy as np\n",
        "import os\n",
        "\n",
        "# to make this notebook's output stable across runs\n",
        "np.random.seed(42)\n",
        "\n",
        "# To plot pretty figures\n",
        "%matplotlib inline\n",
        "import matplotlib as mpl\n",
        "import matplotlib.pyplot as plt\n",
        "mpl.rc('axes', labelsize=14)\n",
        "mpl.rc('xtick', labelsize=12)\n",
        "mpl.rc('ytick', labelsize=12)\n",
        "\n",
        "# Ignore useless warnings (see SciPy issue #5998)\n",
        "import warnings\n",
        "warnings.filterwarnings(action=\"ignore\", message=\"^internal gelsd\")"
      ],
      "execution_count": 1,
      "outputs": []
    },
    {
      "cell_type": "markdown",
      "metadata": {
        "id": "l7IDelFU1lkf"
      },
      "source": [
        "# Building an Image Classifier"
      ]
    },
    {
      "cell_type": "markdown",
      "metadata": {
        "id": "PKChjZAR1lkf"
      },
      "source": [
        "First let's import TensorFlow and Keras."
      ]
    },
    {
      "cell_type": "code",
      "metadata": {
        "id": "jt-iRmW21lkf"
      },
      "source": [
        "import tensorflow as tf\n",
        "from tensorflow import keras"
      ],
      "execution_count": 2,
      "outputs": []
    },
    {
      "cell_type": "code",
      "metadata": {
        "colab": {
          "base_uri": "https://localhost:8080/",
          "height": 36
        },
        "id": "Pi5qIgTZ1lkf",
        "outputId": "de506488-5f57-4871-cded-090648a437b0"
      },
      "source": [
        "tf.__version__"
      ],
      "execution_count": null,
      "outputs": [
        {
          "output_type": "execute_result",
          "data": {
            "application/vnd.google.colaboratory.intrinsic+json": {
              "type": "string"
            },
            "text/plain": [
              "'2.3.0'"
            ]
          },
          "metadata": {
            "tags": []
          },
          "execution_count": 3
        }
      ]
    },
    {
      "cell_type": "markdown",
      "metadata": {
        "id": "ZxyRS8Eg1lkf"
      },
      "source": [
        "Let's start by loading the fashion MNIST dataset. Keras has a number of functions to load popular datasets in `keras.datasets`. The dataset is already split for you between a training set and a test set, but it can be useful to split the training set further to have a validation set:"
      ]
    },
    {
      "cell_type": "code",
      "metadata": {
        "colab": {
          "base_uri": "https://localhost:8080/"
        },
        "id": "DmN7zPRu1lkg",
        "outputId": "bf3caa67-953c-437d-ae23-0f210c6eab0c"
      },
      "source": [
        "fashion_mnist = keras.datasets.fashion_mnist\n",
        "(X_train_full, y_train_full), (X_test, y_test) = fashion_mnist.load_data()"
      ],
      "execution_count": 3,
      "outputs": [
        {
          "output_type": "stream",
          "text": [
            "Downloading data from https://storage.googleapis.com/tensorflow/tf-keras-datasets/train-labels-idx1-ubyte.gz\n",
            "32768/29515 [=================================] - 0s 0us/step\n",
            "Downloading data from https://storage.googleapis.com/tensorflow/tf-keras-datasets/train-images-idx3-ubyte.gz\n",
            "26427392/26421880 [==============================] - 0s 0us/step\n",
            "Downloading data from https://storage.googleapis.com/tensorflow/tf-keras-datasets/t10k-labels-idx1-ubyte.gz\n",
            "8192/5148 [===============================================] - 0s 0us/step\n",
            "Downloading data from https://storage.googleapis.com/tensorflow/tf-keras-datasets/t10k-images-idx3-ubyte.gz\n",
            "4423680/4422102 [==============================] - 0s 0us/step\n"
          ],
          "name": "stdout"
        }
      ]
    },
    {
      "cell_type": "markdown",
      "metadata": {
        "id": "PXjTCLse1lkh"
      },
      "source": [
        "The training set contains 60,000 grayscale images, each 28x28 pixels:"
      ]
    },
    {
      "cell_type": "code",
      "metadata": {
        "colab": {
          "base_uri": "https://localhost:8080/"
        },
        "id": "fQ3SmmKM1lkh",
        "outputId": "eeda8d79-4418-41fa-f1e9-2178cd073c65"
      },
      "source": [
        "X_train_full.shape"
      ],
      "execution_count": 4,
      "outputs": [
        {
          "output_type": "execute_result",
          "data": {
            "text/plain": [
              "(60000, 28, 28)"
            ]
          },
          "metadata": {
            "tags": []
          },
          "execution_count": 4
        }
      ]
    },
    {
      "cell_type": "markdown",
      "metadata": {
        "id": "9IzBgT0g1lkh"
      },
      "source": [
        "Each pixel intensity is represented as a byte (0 to 255):"
      ]
    },
    {
      "cell_type": "code",
      "metadata": {
        "colab": {
          "base_uri": "https://localhost:8080/"
        },
        "id": "4SbBrbFR1lki",
        "outputId": "de3ac0e5-e54f-423c-f7fd-65d50f4d3db5"
      },
      "source": [
        "X_train_full.dtype"
      ],
      "execution_count": 5,
      "outputs": [
        {
          "output_type": "execute_result",
          "data": {
            "text/plain": [
              "dtype('uint8')"
            ]
          },
          "metadata": {
            "tags": []
          },
          "execution_count": 5
        }
      ]
    },
    {
      "cell_type": "markdown",
      "metadata": {
        "id": "fO0YneI_1lki"
      },
      "source": [
        "Let's split the full training set into a validation set and a (smaller) training set. We also scale the pixel intensities down to the 0-1 range and convert them to floats, by dividing by 255."
      ]
    },
    {
      "cell_type": "code",
      "metadata": {
        "id": "744uaWpW1lki"
      },
      "source": [
        "X_valid, X_train = X_train_full[:5000] / 255., X_train_full[5000:] / 255.\n",
        "y_valid, y_train = y_train_full[:5000], y_train_full[5000:]\n",
        "X_test = X_test / 255."
      ],
      "execution_count": 7,
      "outputs": []
    },
    {
      "cell_type": "code",
      "metadata": {
        "colab": {
          "base_uri": "https://localhost:8080/"
        },
        "id": "3tKXJuSn8Plo",
        "outputId": "744f4150-3ecb-465a-c416-3ae6d6177dbc"
      },
      "source": [
        "X_train.shape"
      ],
      "execution_count": 9,
      "outputs": [
        {
          "output_type": "execute_result",
          "data": {
            "text/plain": [
              "(55000, 28, 28)"
            ]
          },
          "metadata": {
            "tags": []
          },
          "execution_count": 9
        }
      ]
    },
    {
      "cell_type": "code",
      "metadata": {
        "colab": {
          "base_uri": "https://localhost:8080/"
        },
        "id": "VSo--7s4QBN2",
        "outputId": "3304dc94-d384-43a2-a6f3-65f960624b69"
      },
      "source": [
        "X_train"
      ],
      "execution_count": 10,
      "outputs": [
        {
          "output_type": "execute_result",
          "data": {
            "text/plain": [
              "array([[[0., 0., 0., ..., 0., 0., 0.],\n",
              "        [0., 0., 0., ..., 0., 0., 0.],\n",
              "        [0., 0., 0., ..., 0., 0., 0.],\n",
              "        ...,\n",
              "        [0., 0., 0., ..., 0., 0., 0.],\n",
              "        [0., 0., 0., ..., 0., 0., 0.],\n",
              "        [0., 0., 0., ..., 0., 0., 0.]],\n",
              "\n",
              "       [[0., 0., 0., ..., 0., 0., 0.],\n",
              "        [0., 0., 0., ..., 0., 0., 0.],\n",
              "        [0., 0., 0., ..., 0., 0., 0.],\n",
              "        ...,\n",
              "        [0., 0., 0., ..., 0., 0., 0.],\n",
              "        [0., 0., 0., ..., 0., 0., 0.],\n",
              "        [0., 0., 0., ..., 0., 0., 0.]],\n",
              "\n",
              "       [[0., 0., 0., ..., 0., 0., 0.],\n",
              "        [0., 0., 0., ..., 0., 0., 0.],\n",
              "        [0., 0., 0., ..., 0., 0., 0.],\n",
              "        ...,\n",
              "        [0., 0., 0., ..., 0., 0., 0.],\n",
              "        [0., 0., 0., ..., 0., 0., 0.],\n",
              "        [0., 0., 0., ..., 0., 0., 0.]],\n",
              "\n",
              "       ...,\n",
              "\n",
              "       [[0., 0., 0., ..., 0., 0., 0.],\n",
              "        [0., 0., 0., ..., 0., 0., 0.],\n",
              "        [0., 0., 0., ..., 0., 0., 0.],\n",
              "        ...,\n",
              "        [0., 0., 0., ..., 0., 0., 0.],\n",
              "        [0., 0., 0., ..., 0., 0., 0.],\n",
              "        [0., 0., 0., ..., 0., 0., 0.]],\n",
              "\n",
              "       [[0., 0., 0., ..., 0., 0., 0.],\n",
              "        [0., 0., 0., ..., 0., 0., 0.],\n",
              "        [0., 0., 0., ..., 0., 0., 0.],\n",
              "        ...,\n",
              "        [0., 0., 0., ..., 0., 0., 0.],\n",
              "        [0., 0., 0., ..., 0., 0., 0.],\n",
              "        [0., 0., 0., ..., 0., 0., 0.]],\n",
              "\n",
              "       [[0., 0., 0., ..., 0., 0., 0.],\n",
              "        [0., 0., 0., ..., 0., 0., 0.],\n",
              "        [0., 0., 0., ..., 0., 0., 0.],\n",
              "        ...,\n",
              "        [0., 0., 0., ..., 0., 0., 0.],\n",
              "        [0., 0., 0., ..., 0., 0., 0.],\n",
              "        [0., 0., 0., ..., 0., 0., 0.]]])"
            ]
          },
          "metadata": {
            "tags": []
          },
          "execution_count": 10
        }
      ]
    },
    {
      "cell_type": "markdown",
      "metadata": {
        "id": "ZF6JwA0e1lki"
      },
      "source": [
        "You can plot an image using Matplotlib's `imshow()` function, with a `'binary'`\n",
        " color map:"
      ]
    },
    {
      "cell_type": "code",
      "metadata": {
        "colab": {
          "base_uri": "https://localhost:8080/",
          "height": 248
        },
        "id": "AJo-fQ_u1lki",
        "outputId": "5be67aa2-7955-414a-d23e-7cd26807fb2e"
      },
      "source": [
        "plt.imshow(X_train[0], cmap=\"binary\")\n",
        "plt.axis('off')\n",
        "plt.show()"
      ],
      "execution_count": null,
      "outputs": [
        {
          "output_type": "display_data",
          "data": {
            "image/png": "[encoded data removed]",
            "text/plain": [
              "<Figure size 432x288 with 1 Axes>"
            ]
          },
          "metadata": {
            "tags": [],
            "needs_background": "light"
          }
        }
      ]
    },
    {
      "cell_type": "code",
      "metadata": {
        "colab": {
          "base_uri": "https://localhost:8080/",
          "height": 248
        },
        "id": "p6VfF9rtQQvq",
        "outputId": "b011fa1a-aa5d-46e5-e599-079a7dd91d6c"
      },
      "source": [
        "plt.imshow(X_train[3], cmap=\"binary\")\n",
        "plt.axis('off')\n",
        "plt.show()"
      ],
      "execution_count": 11,
      "outputs": [
        {
          "output_type": "display_data",
          "data": {
            "image/png": "[encoded data removed]",
            "text/plain": [
              "<Figure size 432x288 with 1 Axes>"
            ]
          },
          "metadata": {
            "tags": [],
            "needs_background": "light"
          }
        }
      ]
    },
    {
      "cell_type": "code",
      "metadata": {
        "colab": {
          "base_uri": "https://localhost:8080/",
          "height": 248
        },
        "id": "c0_H2ky7Qmqt",
        "outputId": "9ccc2edf-8691-4200-e2c3-e51544c80c0b"
      },
      "source": [
        "plt.imshow(X_train[9], cmap=\"binary\")\n",
        "plt.axis('off')\n",
        "plt.show()"
      ],
      "execution_count": 12,
      "outputs": [
        {
          "output_type": "display_data",
          "data": {
            "image/png": "[encoded data removed]",
            "text/plain": [
              "<Figure size 432x288 with 1 Axes>"
            ]
          },
          "metadata": {
            "tags": [],
            "needs_background": "light"
          }
        }
      ]
    },
    {
      "cell_type": "markdown",
      "metadata": {
        "id": "FnmLEOVN1lki"
      },
      "source": [
        "The labels are the class IDs (represented as uint8), from 0 to 9:"
      ]
    },
    {
      "cell_type": "code",
      "metadata": {
        "colab": {
          "base_uri": "https://localhost:8080/"
        },
        "id": "SXhmhFoL1lki",
        "outputId": "1911c02a-ebf2-4e47-e3fe-851a8fa0e9e8"
      },
      "source": [
        "y_train"
      ],
      "execution_count": 13,
      "outputs": [
        {
          "output_type": "execute_result",
          "data": {
            "text/plain": [
              "array([4, 0, 7, ..., 3, 0, 5], dtype=uint8)"
            ]
          },
          "metadata": {
            "tags": []
          },
          "execution_count": 13
        }
      ]
    },
    {
      "cell_type": "markdown",
      "metadata": {
        "id": "dw_vLZBe1lkj"
      },
      "source": [
        "Here are the corresponding class names:"
      ]
    },
    {
      "cell_type": "code",
      "metadata": {
        "id": "RoNS9MXM1lkj"
      },
      "source": [
        "class_names = [\"T-shirt/top\", \"Trouser\", \"Pullover\", \"Dress\", \"Coat\",\n",
        "               \"Sandal\", \"Shirt\", \"Sneaker\", \"Bag\", \"Ankle boot\"]"
      ],
      "execution_count": 14,
      "outputs": []
    },
    {
      "cell_type": "markdown",
      "metadata": {
        "id": "U0HC59RW1lkj"
      },
      "source": [
        "So the first image in the training set is a coat:"
      ]
    },
    {
      "cell_type": "code",
      "metadata": {
        "colab": {
          "base_uri": "https://localhost:8080/",
          "height": 36
        },
        "id": "oOs0Ht411lkj",
        "outputId": "3ccdc833-b681-4cc7-bd6c-5a2a79f8f085"
      },
      "source": [
        "class_names[y_train[0]]"
      ],
      "execution_count": 15,
      "outputs": [
        {
          "output_type": "execute_result",
          "data": {
            "application/vnd.google.colaboratory.intrinsic+json": {
              "type": "string"
            },
            "text/plain": [
              "'Coat'"
            ]
          },
          "metadata": {
            "tags": []
          },
          "execution_count": 15
        }
      ]
    },
    {
      "cell_type": "code",
      "metadata": {
        "colab": {
          "base_uri": "https://localhost:8080/",
          "height": 36
        },
        "id": "MgHe4Mr7RJOq",
        "outputId": "27d3b40c-1652-487b-bb99-1c8e2ca39729"
      },
      "source": [
        "class_names[y_train[3]]"
      ],
      "execution_count": 16,
      "outputs": [
        {
          "output_type": "execute_result",
          "data": {
            "application/vnd.google.colaboratory.intrinsic+json": {
              "type": "string"
            },
            "text/plain": [
              "'Ankle boot'"
            ]
          },
          "metadata": {
            "tags": []
          },
          "execution_count": 16
        }
      ]
    },
    {
      "cell_type": "markdown",
      "metadata": {
        "id": "gnFGdzZ81lkj"
      },
      "source": [
        "The validation set contains 5,000 images, and the test set contains 10,000 images:"
      ]
    },
    {
      "cell_type": "code",
      "metadata": {
        "colab": {
          "base_uri": "https://localhost:8080/"
        },
        "id": "4O_X43W-1lkj",
        "outputId": "e25edbfd-03f6-4e8e-f185-519f51e19a78"
      },
      "source": [
        "X_valid.shape"
      ],
      "execution_count": 17,
      "outputs": [
        {
          "output_type": "execute_result",
          "data": {
            "text/plain": [
              "(5000, 28, 28)"
            ]
          },
          "metadata": {
            "tags": []
          },
          "execution_count": 17
        }
      ]
    },
    {
      "cell_type": "code",
      "metadata": {
        "colab": {
          "base_uri": "https://localhost:8080/"
        },
        "id": "Em6bLXci1lkj",
        "outputId": "99b68f49-a13f-4c31-ce95-4609c2a23518"
      },
      "source": [
        "X_test.shape"
      ],
      "execution_count": 18,
      "outputs": [
        {
          "output_type": "execute_result",
          "data": {
            "text/plain": [
              "(10000, 28, 28)"
            ]
          },
          "metadata": {
            "tags": []
          },
          "execution_count": 18
        }
      ]
    },
    {
      "cell_type": "markdown",
      "metadata": {
        "id": "y7ZoKpJF1lkj"
      },
      "source": [
        "Let's take a look at a sample of the images in the dataset:"
      ]
    },
    {
      "cell_type": "code",
      "metadata": {
        "colab": {
          "base_uri": "https://localhost:8080/",
          "height": 308
        },
        "id": "1f8Sdr-s1lkj",
        "outputId": "5e3e9eef-52c9-43c4-bde4-1fa09da258e6"
      },
      "source": [
        "n_rows = 4\n",
        "n_cols = 10\n",
        "plt.figure(figsize=(n_cols * 1.2, n_rows * 1.2))\n",
        "for row in range(n_rows):\n",
        "    for col in range(n_cols):\n",
        "        index = n_cols * row + col\n",
        "        plt.subplot(n_rows, n_cols, index + 1)\n",
        "        plt.imshow(X_train[index], cmap=\"binary\", interpolation=\"nearest\")\n",
        "        plt.axis('off')\n",
        "        plt.title(class_names[y_train[index]], fontsize=12)\n",
        "plt.subplots_adjust(wspace=0.2, hspace=0.5)\n",
        "plt.show()"
      ],
      "execution_count": 20,
      "outputs": [
        {
          "output_type": "display_data",
          "data": {
            "image/png": "[encoded data removed]",
            "text/plain": [
              "<Figure size 864x345.6 with 40 Axes>"
            ]
          },
          "metadata": {
            "tags": [],
            "needs_background": "light"
          }
        }
      ]
    },
    {
      "cell_type": "markdown",
      "metadata": {
        "id": "eBjK2w-a1lkj"
      },
      "source": [
        "## Construct a Model"
      ]
    },
    {
      "cell_type": "code",
      "metadata": {
        "id": "LRBDJqvA1lkj"
      },
      "source": [
        "model = keras.models.Sequential()\n",
        "model.add(keras.layers.Flatten(input_shape=[28, 28]))\n",
        "model.add(keras.layers.Dense(300, activation=\"relu\"))\n",
        "model.add(keras.layers.Dense(100, activation=\"relu\"))\n",
        "model.add(keras.layers.Dense(10, activation=\"softmax\"))"
      ],
      "execution_count": 21,
      "outputs": []
    },
    {
      "cell_type": "code",
      "metadata": {
        "id": "tSHvGs471lkj"
      },
      "source": [
        "keras.backend.clear_session()\n",
        "np.random.seed(42)"
      ],
      "execution_count": 23,
      "outputs": []
    },
    {
      "cell_type": "markdown",
      "metadata": {
        "id": "13SKDkLK1lkj"
      },
      "source": [
        "### or using the folowing method"
      ]
    },
    {
      "cell_type": "code",
      "metadata": {
        "id": "6dJz4KEO1lkj"
      },
      "source": [
        "model = keras.models.Sequential([\n",
        "    keras.layers.Flatten(input_shape=[28, 28]),\n",
        "    keras.layers.Dense(300, activation=\"relu\"),\n",
        "    keras.layers.Dense(100, activation=\"relu\"),\n",
        "    keras.layers.Dense(10, activation=\"softmax\")\n",
        "])"
      ],
      "execution_count": 24,
      "outputs": []
    },
    {
      "cell_type": "code",
      "metadata": {
        "colab": {
          "base_uri": "https://localhost:8080/"
        },
        "id": "XNR_XNvp1lkj",
        "outputId": "e7349e7b-ac0c-4440-c215-e66cc724e192"
      },
      "source": [
        "model.layers"
      ],
      "execution_count": 25,
      "outputs": [
        {
          "output_type": "execute_result",
          "data": {
            "text/plain": [
              "[<tensorflow.python.keras.layers.core.Flatten at 0x7f8b8a4bd860>,\n",
              " <tensorflow.python.keras.layers.core.Dense at 0x7f8b8a4bd9e8>,\n",
              " <tensorflow.python.keras.layers.core.Dense at 0x7f8b8a4bdc50>,\n",
              " <tensorflow.python.keras.layers.core.Dense at 0x7f8b8a4bdef0>]"
            ]
          },
          "metadata": {
            "tags": []
          },
          "execution_count": 25
        }
      ]
    },
    {
      "cell_type": "code",
      "metadata": {
        "colab": {
          "base_uri": "https://localhost:8080/"
        },
        "id": "W5R3SADH1lkj",
        "outputId": "ddd59267-d10a-44fc-a4b4-d68ece731808"
      },
      "source": [
        "model.summary()"
      ],
      "execution_count": 26,
      "outputs": [
        {
          "output_type": "stream",
          "text": [
            "Model: \"sequential\"\n",
            "_________________________________________________________________\n",
            "Layer (type)                 Output Shape              Param #   \n",
            "=================================================================\n",
            "flatten (Flatten)            (None, 784)               0         \n",
            "_________________________________________________________________\n",
            "dense (Dense)                (None, 300)               235500    \n",
            "_________________________________________________________________\n",
            "dense_1 (Dense)              (None, 100)               30100     \n",
            "_________________________________________________________________\n",
            "dense_2 (Dense)              (None, 10)                1010      \n",
            "=================================================================\n",
            "Total params: 266,610\n",
            "Trainable params: 266,610\n",
            "Non-trainable params: 0\n",
            "_________________________________________________________________\n"
          ],
          "name": "stdout"
        }
      ]
    },
    {
      "cell_type": "code",
      "metadata": {
        "colab": {
          "base_uri": "https://localhost:8080/",
          "height": 533
        },
        "id": "U8yBEUvD1lkk",
        "outputId": "1b04a54c-2e1f-4532-eb3b-99271b8dc5df"
      },
      "source": [
        "keras.utils.plot_model(model, \"my_mnist_model.png\", show_shapes=True)"
      ],
      "execution_count": 27,
      "outputs": [
        {
          "output_type": "execute_result",
          "data": {
            "image/png": "[encoded data removed]",
            "text/plain": [
              "<IPython.core.display.Image object>"
            ]
          },
          "metadata": {
            "tags": []
          },
          "execution_count": 27
        }
      ]
    },
    {
      "cell_type": "code",
      "metadata": {
        "colab": {
          "base_uri": "https://localhost:8080/",
          "height": 36
        },
        "id": "ruIJF80e1lkk",
        "outputId": "2c66b061-e32c-4fed-8ccd-8a7174ccf6dc"
      },
      "source": [
        "hidden1 = model.layers[1]\n",
        "hidden1.name"
      ],
      "execution_count": 28,
      "outputs": [
        {
          "output_type": "execute_result",
          "data": {
            "application/vnd.google.colaboratory.intrinsic+json": {
              "type": "string"
            },
            "text/plain": [
              "'dense'"
            ]
          },
          "metadata": {
            "tags": []
          },
          "execution_count": 28
        }
      ]
    },
    {
      "cell_type": "code",
      "metadata": {
        "colab": {
          "base_uri": "https://localhost:8080/",
          "height": 36
        },
        "id": "7yoJmjKm_o2u",
        "outputId": "e874dcee-cb66-4638-a936-29511cf56a5d"
      },
      "source": [
        "hidden0 = model.layers[0]\n",
        "hidden0.name"
      ],
      "execution_count": 29,
      "outputs": [
        {
          "output_type": "execute_result",
          "data": {
            "application/vnd.google.colaboratory.intrinsic+json": {
              "type": "string"
            },
            "text/plain": [
              "'flatten'"
            ]
          },
          "metadata": {
            "tags": []
          },
          "execution_count": 29
        }
      ]
    },
    {
      "cell_type": "code",
      "metadata": {
        "colab": {
          "base_uri": "https://localhost:8080/"
        },
        "id": "_ScqlNcJ1lkk",
        "outputId": "9a10d663-f410-44a6-de87-4cff9ef529c9"
      },
      "source": [
        "model.get_layer(hidden1.name) is hidden1"
      ],
      "execution_count": 30,
      "outputs": [
        {
          "output_type": "execute_result",
          "data": {
            "text/plain": [
              "True"
            ]
          },
          "metadata": {
            "tags": []
          },
          "execution_count": 30
        }
      ]
    },
    {
      "cell_type": "code",
      "metadata": {
        "id": "rKWAXj7h1lkk"
      },
      "source": [
        "weights, biases = hidden1.get_weights()"
      ],
      "execution_count": 31,
      "outputs": []
    },
    {
      "cell_type": "code",
      "metadata": {
        "colab": {
          "base_uri": "https://localhost:8080/"
        },
        "id": "TWx03DxE1lkk",
        "outputId": "c14c4472-2f96-4a67-f955-fa305a994d29"
      },
      "source": [
        "weights"
      ],
      "execution_count": 32,
      "outputs": [
        {
          "output_type": "execute_result",
          "data": {
            "text/plain": [
              "array([[-0.02579143, -0.02607693,  0.03013101, ..., -0.03498784,\n",
              "         0.03756991,  0.03728417],\n",
              "       [-0.02371168, -0.00984675,  0.05386323, ...,  0.05078243,\n",
              "        -0.04730336,  0.02780786],\n",
              "       [-0.06755311, -0.0645785 ,  0.03675468, ..., -0.05215848,\n",
              "        -0.05664575,  0.02238189],\n",
              "       ...,\n",
              "       [ 0.05764285, -0.04284463, -0.04632498, ...,  0.04677754,\n",
              "         0.03847817, -0.05916373],\n",
              "       [-0.01780958,  0.02644382,  0.00049515, ..., -0.04858703,\n",
              "        -0.03182134,  0.04628294],\n",
              "       [-0.07413887, -0.02229052,  0.01250377, ...,  0.01042654,\n",
              "        -0.01371431, -0.05936766]], dtype=float32)"
            ]
          },
          "metadata": {
            "tags": []
          },
          "execution_count": 32
        }
      ]
    },
    {
      "cell_type": "code",
      "metadata": {
        "colab": {
          "base_uri": "https://localhost:8080/"
        },
        "id": "wI3VsODy1lkk",
        "outputId": "8f478148-15ad-4335-a487-322250a5c0f1"
      },
      "source": [
        "weights.shape"
      ],
      "execution_count": 33,
      "outputs": [
        {
          "output_type": "execute_result",
          "data": {
            "text/plain": [
              "(784, 300)"
            ]
          },
          "metadata": {
            "tags": []
          },
          "execution_count": 33
        }
      ]
    },
    {
      "cell_type": "code",
      "metadata": {
        "colab": {
          "base_uri": "https://localhost:8080/"
        },
        "id": "1OXmqvID1lkk",
        "outputId": "a4572bbc-7d9e-4218-c8bc-4fb0fb2bedc6"
      },
      "source": [
        "biases"
      ],
      "execution_count": 34,
      "outputs": [
        {
          "output_type": "execute_result",
          "data": {
            "text/plain": [
              "array([0., 0., 0., 0., 0., 0., 0., 0., 0., 0., 0., 0., 0., 0., 0., 0., 0.,\n",
              "       0., 0., 0., 0., 0., 0., 0., 0., 0., 0., 0., 0., 0., 0., 0., 0., 0.,\n",
              "       0., 0., 0., 0., 0., 0., 0., 0., 0., 0., 0., 0., 0., 0., 0., 0., 0.,\n",
              "       0., 0., 0., 0., 0., 0., 0., 0., 0., 0., 0., 0., 0., 0., 0., 0., 0.,\n",
              "       0., 0., 0., 0., 0., 0., 0., 0., 0., 0., 0., 0., 0., 0., 0., 0., 0.,\n",
              "       0., 0., 0., 0., 0., 0., 0., 0., 0., 0., 0., 0., 0., 0., 0., 0., 0.,\n",
              "       0., 0., 0., 0., 0., 0., 0., 0., 0., 0., 0., 0., 0., 0., 0., 0., 0.,\n",
              "       0., 0., 0., 0., 0., 0., 0., 0., 0., 0., 0., 0., 0., 0., 0., 0., 0.,\n",
              "       0., 0., 0., 0., 0., 0., 0., 0., 0., 0., 0., 0., 0., 0., 0., 0., 0.,\n",
              "       0., 0., 0., 0., 0., 0., 0., 0., 0., 0., 0., 0., 0., 0., 0., 0., 0.,\n",
              "       0., 0., 0., 0., 0., 0., 0., 0., 0., 0., 0., 0., 0., 0., 0., 0., 0.,\n",
              "       0., 0., 0., 0., 0., 0., 0., 0., 0., 0., 0., 0., 0., 0., 0., 0., 0.,\n",
              "       0., 0., 0., 0., 0., 0., 0., 0., 0., 0., 0., 0., 0., 0., 0., 0., 0.,\n",
              "       0., 0., 0., 0., 0., 0., 0., 0., 0., 0., 0., 0., 0., 0., 0., 0., 0.,\n",
              "       0., 0., 0., 0., 0., 0., 0., 0., 0., 0., 0., 0., 0., 0., 0., 0., 0.,\n",
              "       0., 0., 0., 0., 0., 0., 0., 0., 0., 0., 0., 0., 0., 0., 0., 0., 0.,\n",
              "       0., 0., 0., 0., 0., 0., 0., 0., 0., 0., 0., 0., 0., 0., 0., 0., 0.,\n",
              "       0., 0., 0., 0., 0., 0., 0., 0., 0., 0., 0.], dtype=float32)"
            ]
          },
          "metadata": {
            "tags": []
          },
          "execution_count": 34
        }
      ]
    },
    {
      "cell_type": "code",
      "metadata": {
        "colab": {
          "base_uri": "https://localhost:8080/"
        },
        "id": "SqZnoEhf1lkk",
        "outputId": "f8d686c2-b7e2-4b2a-937c-ebaf7e590d06"
      },
      "source": [
        "biases.shape"
      ],
      "execution_count": 35,
      "outputs": [
        {
          "output_type": "execute_result",
          "data": {
            "text/plain": [
              "(300,)"
            ]
          },
          "metadata": {
            "tags": []
          },
          "execution_count": 35
        }
      ]
    },
    {
      "cell_type": "markdown",
      "metadata": {
        "id": "0GgzgcBp1lkl"
      },
      "source": [
        "### Compile the Model\n",
        "Here you can chose the loss function, the optimizer, the performance metric, etc. check Keras documentation for further details."
      ]
    },
    {
      "cell_type": "code",
      "metadata": {
        "id": "Nd2g7Tny1lkl"
      },
      "source": [
        "model.compile(loss=\"sparse_categorical_crossentropy\",\n",
        "              optimizer=\"sgd\",\n",
        "              metrics=[\"accuracy\"])"
      ],
      "execution_count": 37,
      "outputs": []
    },
    {
      "cell_type": "markdown",
      "metadata": {
        "id": "r2gaLRON1lkl"
      },
      "source": [
        "This is equivalent to:"
      ]
    },
    {
      "cell_type": "markdown",
      "metadata": {
        "id": "5CcQXLO51lkm"
      },
      "source": [
        "```python\n",
        "model.compile(loss=keras.losses.sparse_categorical_crossentropy,\n",
        "              optimizer=keras.optimizers.SGD(),\n",
        "              metrics=[keras.metrics.sparse_categorical_accuracy])\n",
        "```"
      ]
    },
    {
      "cell_type": "markdown",
      "metadata": {
        "id": "V9LYARfE1lkm"
      },
      "source": [
        "### Train the model\n",
        "Here you can chose how many epochs you need and the batch size."
      ]
    },
    {
      "cell_type": "code",
      "metadata": {
        "colab": {
          "base_uri": "https://localhost:8080/"
        },
        "id": "ngesxm4c1lkm",
        "outputId": "f52f8684-a1e9-4284-8b72-61cdf0aa906b"
      },
      "source": [
        "history = model.fit(X_train, y_train, batch_size=32, epochs=30,\n",
        "                    validation_data=(X_valid, y_valid))"
      ],
      "execution_count": 38,
      "outputs": [
        {
          "output_type": "stream",
          "text": [
            "Epoch 1/30\n",
            "1719/1719 [==============================] - 5s 3ms/step - loss: 0.7272 - accuracy: 0.7613 - val_loss: 0.5370 - val_accuracy: 0.8138\n",
            "Epoch 2/30\n",
            "1719/1719 [==============================] - 5s 3ms/step - loss: 0.4931 - accuracy: 0.8280 - val_loss: 0.4783 - val_accuracy: 0.8344\n",
            "Epoch 3/30\n",
            "1719/1719 [==============================] - 5s 3ms/step - loss: 0.4471 - accuracy: 0.8437 - val_loss: 0.4218 - val_accuracy: 0.8612\n",
            "Epoch 4/30\n",
            "1719/1719 [==============================] - 5s 3ms/step - loss: 0.4182 - accuracy: 0.8538 - val_loss: 0.4066 - val_accuracy: 0.8572\n",
            "Epoch 5/30\n",
            "1719/1719 [==============================] - 5s 3ms/step - loss: 0.3989 - accuracy: 0.8603 - val_loss: 0.4092 - val_accuracy: 0.8558\n",
            "Epoch 6/30\n",
            "1719/1719 [==============================] - 5s 3ms/step - loss: 0.3816 - accuracy: 0.8654 - val_loss: 0.3750 - val_accuracy: 0.8728\n",
            "Epoch 7/30\n",
            "1719/1719 [==============================] - 5s 3ms/step - loss: 0.3680 - accuracy: 0.8708 - val_loss: 0.3830 - val_accuracy: 0.8658\n",
            "Epoch 8/30\n",
            "1719/1719 [==============================] - 5s 3ms/step - loss: 0.3562 - accuracy: 0.8733 - val_loss: 0.3820 - val_accuracy: 0.8624\n",
            "Epoch 9/30\n",
            "1719/1719 [==============================] - 5s 3ms/step - loss: 0.3454 - accuracy: 0.8773 - val_loss: 0.3652 - val_accuracy: 0.8666\n",
            "Epoch 10/30\n",
            "1719/1719 [==============================] - 5s 3ms/step - loss: 0.3361 - accuracy: 0.8798 - val_loss: 0.3453 - val_accuracy: 0.8770\n",
            "Epoch 11/30\n",
            "1719/1719 [==============================] - 5s 3ms/step - loss: 0.3266 - accuracy: 0.8841 - val_loss: 0.3420 - val_accuracy: 0.8806\n",
            "Epoch 12/30\n",
            "1719/1719 [==============================] - 5s 3ms/step - loss: 0.3190 - accuracy: 0.8863 - val_loss: 0.3357 - val_accuracy: 0.8824\n",
            "Epoch 13/30\n",
            "1719/1719 [==============================] - 5s 3ms/step - loss: 0.3118 - accuracy: 0.8884 - val_loss: 0.3460 - val_accuracy: 0.8780\n",
            "Epoch 14/30\n",
            "1719/1719 [==============================] - 5s 3ms/step - loss: 0.3048 - accuracy: 0.8909 - val_loss: 0.3350 - val_accuracy: 0.8810\n",
            "Epoch 15/30\n",
            "1719/1719 [==============================] - 5s 3ms/step - loss: 0.2985 - accuracy: 0.8918 - val_loss: 0.3277 - val_accuracy: 0.8836\n",
            "Epoch 16/30\n",
            "1719/1719 [==============================] - 5s 3ms/step - loss: 0.2914 - accuracy: 0.8962 - val_loss: 0.3551 - val_accuracy: 0.8702\n",
            "Epoch 17/30\n",
            "1719/1719 [==============================] - 5s 3ms/step - loss: 0.2874 - accuracy: 0.8972 - val_loss: 0.3144 - val_accuracy: 0.8868\n",
            "Epoch 18/30\n",
            "1719/1719 [==============================] - 5s 3ms/step - loss: 0.2800 - accuracy: 0.9004 - val_loss: 0.3119 - val_accuracy: 0.8888\n",
            "Epoch 19/30\n",
            "1719/1719 [==============================] - 5s 3ms/step - loss: 0.2749 - accuracy: 0.9013 - val_loss: 0.3269 - val_accuracy: 0.8822\n",
            "Epoch 20/30\n",
            "1719/1719 [==============================] - 5s 3ms/step - loss: 0.2695 - accuracy: 0.9029 - val_loss: 0.3083 - val_accuracy: 0.8874\n",
            "Epoch 21/30\n",
            "1719/1719 [==============================] - 5s 3ms/step - loss: 0.2645 - accuracy: 0.9046 - val_loss: 0.3071 - val_accuracy: 0.8860\n",
            "Epoch 22/30\n",
            "1719/1719 [==============================] - 5s 3ms/step - loss: 0.2604 - accuracy: 0.9064 - val_loss: 0.3080 - val_accuracy: 0.8902\n",
            "Epoch 23/30\n",
            "1719/1719 [==============================] - 7s 4ms/step - loss: 0.2563 - accuracy: 0.9081 - val_loss: 0.3069 - val_accuracy: 0.8870\n",
            "Epoch 24/30\n",
            "1719/1719 [==============================] - 6s 4ms/step - loss: 0.2515 - accuracy: 0.9099 - val_loss: 0.2997 - val_accuracy: 0.8914\n",
            "Epoch 25/30\n",
            "1719/1719 [==============================] - 6s 3ms/step - loss: 0.2465 - accuracy: 0.9112 - val_loss: 0.2975 - val_accuracy: 0.8912\n",
            "Epoch 26/30\n",
            "1719/1719 [==============================] - 5s 3ms/step - loss: 0.2424 - accuracy: 0.9130 - val_loss: 0.3167 - val_accuracy: 0.8838\n",
            "Epoch 27/30\n",
            "1719/1719 [==============================] - 5s 3ms/step - loss: 0.2395 - accuracy: 0.9148 - val_loss: 0.2985 - val_accuracy: 0.8910\n",
            "Epoch 28/30\n",
            "1719/1719 [==============================] - 5s 3ms/step - loss: 0.2350 - accuracy: 0.9165 - val_loss: 0.2971 - val_accuracy: 0.8920\n",
            "Epoch 29/30\n",
            "1719/1719 [==============================] - 5s 3ms/step - loss: 0.2311 - accuracy: 0.9171 - val_loss: 0.2923 - val_accuracy: 0.8910\n",
            "Epoch 30/30\n",
            "1719/1719 [==============================] - 5s 3ms/step - loss: 0.2266 - accuracy: 0.9188 - val_loss: 0.3288 - val_accuracy: 0.8884\n"
          ],
          "name": "stdout"
        }
      ]
    },
    {
      "cell_type": "code",
      "metadata": {
        "colab": {
          "base_uri": "https://localhost:8080/"
        },
        "id": "oCCzgVGa1lkm",
        "outputId": "59c28193-2bf4-4b38-d5aa-372030b65f31"
      },
      "source": [
        "history.params"
      ],
      "execution_count": 39,
      "outputs": [
        {
          "output_type": "execute_result",
          "data": {
            "text/plain": [
              "{'epochs': 30, 'steps': 1719, 'verbose': 1}"
            ]
          },
          "metadata": {
            "tags": []
          },
          "execution_count": 39
        }
      ]
    },
    {
      "cell_type": "code",
      "metadata": {
        "colab": {
          "base_uri": "https://localhost:8080/"
        },
        "id": "fG-gsS3v1lkm",
        "outputId": "14eecc8f-9dff-4905-a3b7-d310ac2936f8"
      },
      "source": [
        "print(history.epoch)"
      ],
      "execution_count": 40,
      "outputs": [
        {
          "output_type": "stream",
          "text": [
            "[0, 1, 2, 3, 4, 5, 6, 7, 8, 9, 10, 11, 12, 13, 14, 15, 16, 17, 18, 19, 20, 21, 22, 23, 24, 25, 26, 27, 28, 29]\n"
          ],
          "name": "stdout"
        }
      ]
    },
    {
      "cell_type": "code",
      "metadata": {
        "colab": {
          "base_uri": "https://localhost:8080/"
        },
        "id": "ykTNO1S11lkm",
        "outputId": "5affc0ff-f8df-4316-95e3-7f211f07d960"
      },
      "source": [
        "history.history.keys()"
      ],
      "execution_count": 41,
      "outputs": [
        {
          "output_type": "execute_result",
          "data": {
            "text/plain": [
              "dict_keys(['loss', 'accuracy', 'val_loss', 'val_accuracy'])"
            ]
          },
          "metadata": {
            "tags": []
          },
          "execution_count": 41
        }
      ]
    },
    {
      "cell_type": "markdown",
      "metadata": {
        "id": "MyW583DR1lkm"
      },
      "source": [
        "### Plot learning Curves"
      ]
    },
    {
      "cell_type": "code",
      "metadata": {
        "colab": {
          "base_uri": "https://localhost:8080/",
          "height": 328
        },
        "id": "Ohn9zfdX1lkm",
        "outputId": "3f49dfbc-2e19-4ae6-ebcf-f5fbef5947c4"
      },
      "source": [
        "import pandas as pd\n",
        "\n",
        "pd.DataFrame(history.history).plot(figsize=(8, 5))\n",
        "plt.grid(True)\n",
        "plt.gca().set_ylim(0, 1)\n",
        "plt.show()"
      ],
      "execution_count": 42,
      "outputs": [
        {
          "output_type": "display_data",
          "data": {
            "image/png": "[encoded data removed]",
            "text/plain": [
              "<Figure size 576x360 with 1 Axes>"
            ]
          },
          "metadata": {
            "tags": [],
            "needs_background": "light"
          }
        }
      ]
    },
    {
      "cell_type": "code",
      "metadata": {
        "colab": {
          "base_uri": "https://localhost:8080/"
        },
        "id": "FvUiNdgZ1lkm",
        "outputId": "b135a96c-ff7b-4c37-90ac-491a37241060"
      },
      "source": [
        "model.evaluate(X_test, y_test)"
      ],
      "execution_count": 43,
      "outputs": [
        {
          "output_type": "stream",
          "text": [
            "313/313 [==============================] - 0s 1ms/step - loss: 0.3547 - accuracy: 0.8776\n"
          ],
          "name": "stdout"
        },
        {
          "output_type": "execute_result",
          "data": {
            "text/plain": [
              "[0.35472506284713745, 0.8776000142097473]"
            ]
          },
          "metadata": {
            "tags": []
          },
          "execution_count": 43
        }
      ]
    },
    {
      "cell_type": "code",
      "metadata": {
        "id": "wU2BDsMzGZSW"
      },
      "source": [
        ""
      ],
      "execution_count": null,
      "outputs": []
    },
    {
      "cell_type": "code",
      "metadata": {
        "colab": {
          "base_uri": "https://localhost:8080/"
        },
        "id": "bDlS2Eot1lkm",
        "outputId": "8225451e-eae3-465b-aa4c-b83328b56669"
      },
      "source": [
        "X_new = X_test[:3]\n",
        "y_proba = model.predict(X_new)\n",
        "y_proba.round(2)"
      ],
      "execution_count": 44,
      "outputs": [
        {
          "output_type": "execute_result",
          "data": {
            "text/plain": [
              "array([[0.  , 0.  , 0.  , 0.  , 0.  , 0.  , 0.  , 0.01, 0.  , 0.99],\n",
              "       [0.  , 0.  , 0.99, 0.  , 0.01, 0.  , 0.  , 0.  , 0.  , 0.  ],\n",
              "       [0.  , 1.  , 0.  , 0.  , 0.  , 0.  , 0.  , 0.  , 0.  , 0.  ]],\n",
              "      dtype=float32)"
            ]
          },
          "metadata": {
            "tags": []
          },
          "execution_count": 44
        }
      ]
    },
    {
      "cell_type": "code",
      "metadata": {
        "colab": {
          "base_uri": "https://localhost:8080/"
        },
        "id": "TqmceUX21lkm",
        "outputId": "98d819b6-a4f1-4036-88b0-0f2d4e2abe34"
      },
      "source": [
        "y_pred = model.predict_classes(X_new)\n",
        "y_pred"
      ],
      "execution_count": 45,
      "outputs": [
        {
          "output_type": "stream",
          "text": [
            "WARNING:tensorflow:From <ipython-input-45-81ace37e545f>:1: Sequential.predict_classes (from tensorflow.python.keras.engine.sequential) is deprecated and will be removed after 2021-01-01.\n",
            "Instructions for updating:\n",
            "Please use instead:* `np.argmax(model.predict(x), axis=-1)`,   if your model does multi-class classification   (e.g. if it uses a `softmax` last-layer activation).* `(model.predict(x) > 0.5).astype(\"int32\")`,   if your model does binary classification   (e.g. if it uses a `sigmoid` last-layer activation).\n"
          ],
          "name": "stdout"
        },
        {
          "output_type": "execute_result",
          "data": {
            "text/plain": [
              "array([9, 2, 1])"
            ]
          },
          "metadata": {
            "tags": []
          },
          "execution_count": 45
        }
      ]
    },
    {
      "cell_type": "code",
      "metadata": {
        "colab": {
          "base_uri": "https://localhost:8080/"
        },
        "id": "gjrY3ZwM1lkm",
        "outputId": "6fe834d9-5cf8-4b9e-cc38-f3f56e7f5998"
      },
      "source": [
        "np.array(class_names)[y_pred]"
      ],
      "execution_count": 46,
      "outputs": [
        {
          "output_type": "execute_result",
          "data": {
            "text/plain": [
              "array(['Ankle boot', 'Pullover', 'Trouser'], dtype='<U11')"
            ]
          },
          "metadata": {
            "tags": []
          },
          "execution_count": 46
        }
      ]
    },
    {
      "cell_type": "code",
      "metadata": {
        "colab": {
          "base_uri": "https://localhost:8080/"
        },
        "id": "c7cuMhyu1lkm",
        "outputId": "5d62f4b7-39ce-450f-9c02-ef921fd98ab7"
      },
      "source": [
        "y_new = y_test[:3]\n",
        "y_new"
      ],
      "execution_count": 47,
      "outputs": [
        {
          "output_type": "execute_result",
          "data": {
            "text/plain": [
              "array([9, 2, 1], dtype=uint8)"
            ]
          },
          "metadata": {
            "tags": []
          },
          "execution_count": 47
        }
      ]
    },
    {
      "cell_type": "code",
      "metadata": {
        "colab": {
          "base_uri": "https://localhost:8080/",
          "height": 165
        },
        "id": "tnlXEBrH1lkm",
        "outputId": "85db975e-30a4-4cba-d446-51031a4d955a"
      },
      "source": [
        "plt.figure(figsize=(7.2, 2.4))\n",
        "for index, image in enumerate(X_new):\n",
        "    plt.subplot(1, 3, index + 1)\n",
        "    plt.imshow(image, cmap=\"binary\", interpolation=\"nearest\")\n",
        "    plt.axis('off')\n",
        "    plt.title(class_names[y_test[index]], fontsize=12)\n",
        "plt.subplots_adjust(wspace=0.2, hspace=0.5)\n",
        "plt.show()"
      ],
      "execution_count": 48,
      "outputs": [
        {
          "output_type": "display_data",
          "data": {
            "image/png": "[encoded data removed]",
            "text/plain": [
              "<Figure size 518.4x172.8 with 3 Axes>"
            ]
          },
          "metadata": {
            "tags": [],
            "needs_background": "light"
          }
        }
      ]
    },
    {
      "cell_type": "markdown",
      "metadata": {
        "collapsed": true,
        "id": "v9FG0iK11lkm"
      },
      "source": [
        "## Exercise"
      ]
    },
    {
      "cell_type": "markdown",
      "metadata": {
        "id": "bAKqf6eF1lkm"
      },
      "source": [
        "#### 1) Plot Learning curves when using different optimizers\n",
        "#### 2) Plot Learning curves when using different batch size\n",
        "#### 3) Plot Learning curves when using different number of epochs\n",
        "#### 4) Add additional neurons and use Dropout Layer. Plot Learning curves.\n",
        "#### 5) Use Batch Normalisation\n",
        "#### 6) repeat with more layers\n",
        "#### 7) apply on different datasets"
      ]
    },
    {
      "cell_type": "markdown",
      "metadata": {
        "id": "axg8kQM65S69"
      },
      "source": [
        "https://keras.io/api/optimizers/\n",
        "\n",
        "https://keras.io/"
      ]
    },
    {
      "cell_type": "markdown",
      "metadata": {
        "id": "BF-KMLPJWuqY"
      },
      "source": [
        "1) Plot Learning curves when using different **optimizers** 'RMSprop' and 'Adam'\n"
      ]
    },
    {
      "cell_type": "code",
      "metadata": {
        "id": "LTiYPb811lkm"
      },
      "source": [
        "model.compile(loss=\"sparse_categorical_crossentropy\",\n",
        "              optimizer=\"Adam\",\n",
        "              metrics=[\"accuracy\"])"
      ],
      "execution_count": 77,
      "outputs": []
    },
    {
      "cell_type": "code",
      "metadata": {
        "colab": {
          "base_uri": "https://localhost:8080/"
        },
        "id": "LPj1mh5zDynO",
        "outputId": "01cd0766-5b97-4ec7-ab2d-bde263e6e8a7"
      },
      "source": [
        "history= model.fit(X_train, y_train, batch_size=32, epochs=30,\n",
        "                    validation_data=(X_valid, y_valid))"
      ],
      "execution_count": 78,
      "outputs": [
        {
          "output_type": "stream",
          "text": [
            "Epoch 1/30\n",
            "1719/1719 [==============================] - 6s 3ms/step - loss: 0.1688 - accuracy: 0.9349 - val_loss: 0.3627 - val_accuracy: 0.8968\n",
            "Epoch 2/30\n",
            "1719/1719 [==============================] - 6s 3ms/step - loss: 0.1645 - accuracy: 0.9377 - val_loss: 0.3807 - val_accuracy: 0.8906\n",
            "Epoch 3/30\n",
            "1719/1719 [==============================] - 6s 4ms/step - loss: 0.1607 - accuracy: 0.9378 - val_loss: 0.3787 - val_accuracy: 0.8876\n",
            "Epoch 4/30\n",
            "1719/1719 [==============================] - 6s 4ms/step - loss: 0.1594 - accuracy: 0.9392 - val_loss: 0.4066 - val_accuracy: 0.8838\n",
            "Epoch 5/30\n",
            "1719/1719 [==============================] - 6s 3ms/step - loss: 0.1582 - accuracy: 0.9387 - val_loss: 0.3960 - val_accuracy: 0.8870\n",
            "Epoch 6/30\n",
            "1719/1719 [==============================] - 6s 3ms/step - loss: 0.1507 - accuracy: 0.9418 - val_loss: 0.3992 - val_accuracy: 0.8900\n",
            "Epoch 7/30\n",
            "1719/1719 [==============================] - 6s 3ms/step - loss: 0.1529 - accuracy: 0.9418 - val_loss: 0.4060 - val_accuracy: 0.8860\n",
            "Epoch 8/30\n",
            "1719/1719 [==============================] - 6s 3ms/step - loss: 0.1464 - accuracy: 0.9442 - val_loss: 0.4447 - val_accuracy: 0.8848\n",
            "Epoch 9/30\n",
            "1719/1719 [==============================] - 6s 4ms/step - loss: 0.1459 - accuracy: 0.9437 - val_loss: 0.4399 - val_accuracy: 0.8858\n",
            "Epoch 10/30\n",
            "1719/1719 [==============================] - 6s 3ms/step - loss: 0.1439 - accuracy: 0.9447 - val_loss: 0.4174 - val_accuracy: 0.8892\n",
            "Epoch 11/30\n",
            "1719/1719 [==============================] - 6s 3ms/step - loss: 0.1398 - accuracy: 0.9465 - val_loss: 0.4202 - val_accuracy: 0.8884\n",
            "Epoch 12/30\n",
            "1719/1719 [==============================] - 6s 3ms/step - loss: 0.1378 - accuracy: 0.9470 - val_loss: 0.4213 - val_accuracy: 0.8900\n",
            "Epoch 13/30\n",
            "1719/1719 [==============================] - 7s 4ms/step - loss: 0.1363 - accuracy: 0.9474 - val_loss: 0.4504 - val_accuracy: 0.8870\n",
            "Epoch 14/30\n",
            "1719/1719 [==============================] - 7s 4ms/step - loss: 0.1336 - accuracy: 0.9501 - val_loss: 0.4306 - val_accuracy: 0.8854\n",
            "Epoch 15/30\n",
            "1719/1719 [==============================] - 6s 3ms/step - loss: 0.1281 - accuracy: 0.9514 - val_loss: 0.4344 - val_accuracy: 0.8938\n",
            "Epoch 16/30\n",
            "1719/1719 [==============================] - 6s 3ms/step - loss: 0.1306 - accuracy: 0.9508 - val_loss: 0.4415 - val_accuracy: 0.8870\n",
            "Epoch 17/30\n",
            "1719/1719 [==============================] - 6s 3ms/step - loss: 0.1267 - accuracy: 0.9523 - val_loss: 0.4643 - val_accuracy: 0.8888\n",
            "Epoch 18/30\n",
            "1719/1719 [==============================] - 6s 3ms/step - loss: 0.1273 - accuracy: 0.9508 - val_loss: 0.4607 - val_accuracy: 0.8896\n",
            "Epoch 19/30\n",
            "1719/1719 [==============================] - 6s 3ms/step - loss: 0.1229 - accuracy: 0.9533 - val_loss: 0.4698 - val_accuracy: 0.8902\n",
            "Epoch 20/30\n",
            "1719/1719 [==============================] - 6s 3ms/step - loss: 0.1221 - accuracy: 0.9534 - val_loss: 0.4901 - val_accuracy: 0.8876\n",
            "Epoch 21/30\n",
            "1719/1719 [==============================] - 6s 3ms/step - loss: 0.1230 - accuracy: 0.9536 - val_loss: 0.5047 - val_accuracy: 0.8888\n",
            "Epoch 22/30\n",
            "1719/1719 [==============================] - 6s 3ms/step - loss: 0.1192 - accuracy: 0.9548 - val_loss: 0.4813 - val_accuracy: 0.8870\n",
            "Epoch 23/30\n",
            "1719/1719 [==============================] - 6s 3ms/step - loss: 0.1168 - accuracy: 0.9555 - val_loss: 0.4891 - val_accuracy: 0.8860\n",
            "Epoch 24/30\n",
            "1719/1719 [==============================] - 6s 3ms/step - loss: 0.1115 - accuracy: 0.9574 - val_loss: 0.5009 - val_accuracy: 0.8882\n",
            "Epoch 25/30\n",
            "1719/1719 [==============================] - 6s 3ms/step - loss: 0.1147 - accuracy: 0.9555 - val_loss: 0.5294 - val_accuracy: 0.8894\n",
            "Epoch 26/30\n",
            "1719/1719 [==============================] - 6s 4ms/step - loss: 0.1130 - accuracy: 0.9559 - val_loss: 0.5365 - val_accuracy: 0.8838\n",
            "Epoch 27/30\n",
            "1719/1719 [==============================] - 6s 3ms/step - loss: 0.1085 - accuracy: 0.9587 - val_loss: 0.5642 - val_accuracy: 0.8878\n",
            "Epoch 28/30\n",
            "1719/1719 [==============================] - 6s 4ms/step - loss: 0.1077 - accuracy: 0.9592 - val_loss: 0.5440 - val_accuracy: 0.8856\n",
            "Epoch 29/30\n",
            "1719/1719 [==============================] - 6s 3ms/step - loss: 0.1128 - accuracy: 0.9569 - val_loss: 0.5358 - val_accuracy: 0.8814\n",
            "Epoch 30/30\n",
            "1719/1719 [==============================] - 6s 3ms/step - loss: 0.1026 - accuracy: 0.9605 - val_loss: 0.5449 - val_accuracy: 0.8918\n"
          ],
          "name": "stdout"
        }
      ]
    },
    {
      "cell_type": "code",
      "metadata": {
        "colab": {
          "base_uri": "https://localhost:8080/"
        },
        "id": "y9b8ddSDEv3S",
        "outputId": "d21b4be3-a5b9-4b18-8ea1-affb5247a8ca"
      },
      "source": [
        "print(history.epoch)"
      ],
      "execution_count": 79,
      "outputs": [
        {
          "output_type": "stream",
          "text": [
            "[0, 1, 2, 3, 4, 5, 6, 7, 8, 9, 10, 11, 12, 13, 14, 15, 16, 17, 18, 19, 20, 21, 22, 23, 24, 25, 26, 27, 28, 29]\n"
          ],
          "name": "stdout"
        }
      ]
    },
    {
      "cell_type": "code",
      "metadata": {
        "colab": {
          "base_uri": "https://localhost:8080/"
        },
        "id": "OR48CN6wE3Ob",
        "outputId": "3bf00300-94b1-45d3-e90d-3bf8b4cd7e8a"
      },
      "source": [
        "history.history.keys()"
      ],
      "execution_count": 80,
      "outputs": [
        {
          "output_type": "execute_result",
          "data": {
            "text/plain": [
              "dict_keys(['loss', 'accuracy', 'val_loss', 'val_accuracy'])"
            ]
          },
          "metadata": {
            "tags": []
          },
          "execution_count": 80
        }
      ]
    },
    {
      "cell_type": "code",
      "metadata": {
        "colab": {
          "base_uri": "https://localhost:8080/",
          "height": 339
        },
        "id": "1Hewn55lE6yh",
        "outputId": "cd6ee7eb-544f-4d2d-86a8-38f160cca9d0"
      },
      "source": [
        "import pandas as pd\n",
        "\n",
        "pd.DataFrame(history.history).plot(figsize=(8, 5), title=('Adam'))\n",
        "\n",
        "plt.grid(True)\n",
        "plt.gca().set_ylim(0, 1)\n",
        "plt.show()"
      ],
      "execution_count": 82,
      "outputs": [
        {
          "output_type": "display_data",
          "data": {
            "image/png": "[encoded data removed]",
            "text/plain": [
              "<Figure size 576x360 with 1 Axes>"
            ]
          },
          "metadata": {
            "tags": [],
            "needs_background": "light"
          }
        }
      ]
    },
    {
      "cell_type": "code",
      "metadata": {
        "colab": {
          "base_uri": "https://localhost:8080/"
        },
        "id": "qLvuuRY7GcgH",
        "outputId": "c294eff7-af8c-468d-ad04-5d6c5b7a18e4"
      },
      "source": [
        "model.evaluate(X_test, y_test)"
      ],
      "execution_count": 83,
      "outputs": [
        {
          "output_type": "stream",
          "text": [
            "313/313 [==============================] - 0s 1ms/step - loss: 0.5927 - accuracy: 0.8809\n"
          ],
          "name": "stdout"
        },
        {
          "output_type": "execute_result",
          "data": {
            "text/plain": [
              "[0.5927486419677734, 0.8809000253677368]"
            ]
          },
          "metadata": {
            "tags": []
          },
          "execution_count": 83
        }
      ]
    },
    {
      "cell_type": "code",
      "metadata": {
        "id": "vxhwpisrX1di"
      },
      "source": [
        "model.compile(loss=\"sparse_categorical_crossentropy\",\n",
        "              optimizer=\"RMSprop\",\n",
        "              metrics=[\"accuracy\"])"
      ],
      "execution_count": 90,
      "outputs": []
    },
    {
      "cell_type": "code",
      "metadata": {
        "colab": {
          "base_uri": "https://localhost:8080/"
        },
        "id": "_TknmT-lYC-G",
        "outputId": "e7a9a0e7-10bb-4b1d-b20b-c690fac60aaa"
      },
      "source": [
        "history = model.fit(X_train, y_train, batch_size=32, epochs=30,\n",
        "                    validation_data=(X_valid, y_valid))"
      ],
      "execution_count": 91,
      "outputs": [
        {
          "output_type": "stream",
          "text": [
            "Epoch 1/30\n",
            "1719/1719 [==============================] - 8s 5ms/step - loss: 1.4205 - accuracy: 0.4074 - val_loss: 0.9499 - val_accuracy: 0.6682\n",
            "Epoch 2/30\n",
            "1719/1719 [==============================] - 8s 5ms/step - loss: 0.8062 - accuracy: 0.7122 - val_loss: 0.7218 - val_accuracy: 0.7456\n",
            "Epoch 3/30\n",
            "1719/1719 [==============================] - 8s 5ms/step - loss: 0.6692 - accuracy: 0.7656 - val_loss: 0.6608 - val_accuracy: 0.7720\n",
            "Epoch 4/30\n",
            "1719/1719 [==============================] - 8s 4ms/step - loss: 0.6127 - accuracy: 0.7823 - val_loss: 0.6075 - val_accuracy: 0.7912\n",
            "Epoch 5/30\n",
            "1719/1719 [==============================] - 8s 4ms/step - loss: 0.5777 - accuracy: 0.7935 - val_loss: 0.5721 - val_accuracy: 0.8142\n",
            "Epoch 6/30\n",
            "1719/1719 [==============================] - 8s 5ms/step - loss: 0.5551 - accuracy: 0.8005 - val_loss: 0.5686 - val_accuracy: 0.8100\n",
            "Epoch 7/30\n",
            "1719/1719 [==============================] - 8s 5ms/step - loss: 0.5390 - accuracy: 0.8052 - val_loss: 0.5719 - val_accuracy: 0.8076\n",
            "Epoch 8/30\n",
            "1719/1719 [==============================] - 8s 4ms/step - loss: 0.5296 - accuracy: 0.8109 - val_loss: 0.5374 - val_accuracy: 0.8168\n",
            "Epoch 9/30\n",
            "1719/1719 [==============================] - 8s 5ms/step - loss: 0.5210 - accuracy: 0.8139 - val_loss: 0.5364 - val_accuracy: 0.8226\n",
            "Epoch 10/30\n",
            "1719/1719 [==============================] - 8s 5ms/step - loss: 0.5133 - accuracy: 0.8179 - val_loss: 0.5237 - val_accuracy: 0.8226\n",
            "Epoch 11/30\n",
            "1719/1719 [==============================] - 8s 4ms/step - loss: 0.5063 - accuracy: 0.8202 - val_loss: 0.5261 - val_accuracy: 0.8240\n",
            "Epoch 12/30\n",
            "1719/1719 [==============================] - 8s 4ms/step - loss: 0.5040 - accuracy: 0.8207 - val_loss: 0.5156 - val_accuracy: 0.8286\n",
            "Epoch 13/30\n",
            "1719/1719 [==============================] - 8s 5ms/step - loss: 0.4979 - accuracy: 0.8244 - val_loss: 0.5275 - val_accuracy: 0.8246\n",
            "Epoch 14/30\n",
            "1719/1719 [==============================] - 9s 5ms/step - loss: 0.4952 - accuracy: 0.8248 - val_loss: 0.5243 - val_accuracy: 0.8268\n",
            "Epoch 15/30\n",
            "1719/1719 [==============================] - 8s 4ms/step - loss: 0.4910 - accuracy: 0.8260 - val_loss: 0.5302 - val_accuracy: 0.8238\n",
            "Epoch 16/30\n",
            "1719/1719 [==============================] - 8s 5ms/step - loss: 0.4890 - accuracy: 0.8281 - val_loss: 0.5249 - val_accuracy: 0.8270\n",
            "Epoch 17/30\n",
            "1719/1719 [==============================] - 8s 5ms/step - loss: 0.4861 - accuracy: 0.8284 - val_loss: 0.5454 - val_accuracy: 0.8224\n",
            "Epoch 18/30\n",
            "1719/1719 [==============================] - 8s 5ms/step - loss: 0.4854 - accuracy: 0.8304 - val_loss: 0.5214 - val_accuracy: 0.8310\n",
            "Epoch 19/30\n",
            "1719/1719 [==============================] - 8s 5ms/step - loss: 0.4825 - accuracy: 0.8310 - val_loss: 0.5428 - val_accuracy: 0.8212\n",
            "Epoch 20/30\n",
            "1719/1719 [==============================] - 8s 5ms/step - loss: 0.4816 - accuracy: 0.8304 - val_loss: 0.5281 - val_accuracy: 0.8262\n",
            "Epoch 21/30\n",
            "1719/1719 [==============================] - 8s 5ms/step - loss: 0.4805 - accuracy: 0.8319 - val_loss: 0.5364 - val_accuracy: 0.8210\n",
            "Epoch 22/30\n",
            "1719/1719 [==============================] - 8s 5ms/step - loss: 0.4792 - accuracy: 0.8329 - val_loss: 0.5175 - val_accuracy: 0.8340\n",
            "Epoch 23/30\n",
            "1719/1719 [==============================] - 8s 5ms/step - loss: 0.4788 - accuracy: 0.8330 - val_loss: 0.5355 - val_accuracy: 0.8246\n",
            "Epoch 24/30\n",
            "1719/1719 [==============================] - 8s 5ms/step - loss: 0.4775 - accuracy: 0.8328 - val_loss: 0.5119 - val_accuracy: 0.8330\n",
            "Epoch 25/30\n",
            "1719/1719 [==============================] - 8s 5ms/step - loss: 0.4763 - accuracy: 0.8338 - val_loss: 0.5240 - val_accuracy: 0.8322\n",
            "Epoch 26/30\n",
            "1719/1719 [==============================] - 8s 5ms/step - loss: 0.4768 - accuracy: 0.8347 - val_loss: 0.5286 - val_accuracy: 0.8330\n",
            "Epoch 27/30\n",
            "1719/1719 [==============================] - 8s 4ms/step - loss: 0.4781 - accuracy: 0.8345 - val_loss: 0.5349 - val_accuracy: 0.8258\n",
            "Epoch 28/30\n",
            "1719/1719 [==============================] - 8s 4ms/step - loss: 0.4756 - accuracy: 0.8345 - val_loss: 0.5401 - val_accuracy: 0.8270\n",
            "Epoch 29/30\n",
            "1719/1719 [==============================] - 8s 4ms/step - loss: 0.4744 - accuracy: 0.8364 - val_loss: 0.5253 - val_accuracy: 0.8330\n",
            "Epoch 30/30\n",
            "1719/1719 [==============================] - 8s 4ms/step - loss: 0.4756 - accuracy: 0.8362 - val_loss: 0.5308 - val_accuracy: 0.8294\n"
          ],
          "name": "stdout"
        }
      ]
    },
    {
      "cell_type": "code",
      "metadata": {
        "colab": {
          "base_uri": "https://localhost:8080/",
          "height": 339
        },
        "id": "JzGBMAH_gIN5",
        "outputId": "81e2feca-1290-489a-9510-e54899b7a27d"
      },
      "source": [
        "import pandas as pd\n",
        "\n",
        "pd.DataFrame(history.history).plot(figsize=(8, 5), title=('RMSprop'))\n",
        "\n",
        "plt.grid(True)\n",
        "plt.gca().set_ylim(0, 1)\n",
        "plt.show()"
      ],
      "execution_count": 94,
      "outputs": [
        {
          "output_type": "display_data",
          "data": {
            "image/png": "[encoded data removed]",
            "text/plain": [
              "<Figure size 576x360 with 1 Axes>"
            ]
          },
          "metadata": {
            "tags": [],
            "needs_background": "light"
          }
        }
      ]
    },
    {
      "cell_type": "code",
      "metadata": {
        "colab": {
          "base_uri": "https://localhost:8080/"
        },
        "id": "cBahEoJjjXwL",
        "outputId": "56f904d2-59dd-4eb6-b5fe-365d3ee96298"
      },
      "source": [
        "model.evaluate(X_test, y_test)"
      ],
      "execution_count": 95,
      "outputs": [
        {
          "output_type": "stream",
          "text": [
            "313/313 [==============================] - 0s 1ms/step - loss: 0.5432 - accuracy: 0.8148\n"
          ],
          "name": "stdout"
        },
        {
          "output_type": "execute_result",
          "data": {
            "text/plain": [
              "[0.5431917309761047, 0.8148000240325928]"
            ]
          },
          "metadata": {
            "tags": []
          },
          "execution_count": 95
        }
      ]
    },
    {
      "cell_type": "markdown",
      "metadata": {
        "id": "W9VEGwzbjqb8"
      },
      "source": [
        "2) **Plot Learning curves when using different batch size**"
      ]
    },
    {
      "cell_type": "code",
      "metadata": {
        "id": "b4Ib_R3fHIx9"
      },
      "source": [
        "model.compile(loss=\"sparse_categorical_crossentropy\",\n",
        "              optimizer=\"SGD\",\n",
        "              metrics=[\"accuracy\"])"
      ],
      "execution_count": 97,
      "outputs": []
    },
    {
      "cell_type": "code",
      "metadata": {
        "colab": {
          "base_uri": "https://localhost:8080/"
        },
        "id": "IFwYSegqHil4",
        "outputId": "ecdc2ce8-2cff-4a02-c522-e19def811754"
      },
      "source": [
        "history = model.fit(X_train, y_train, batch_size=4, epochs=30,\n",
        "                    validation_data=(X_valid, y_valid))"
      ],
      "execution_count": 98,
      "outputs": [
        {
          "output_type": "stream",
          "text": [
            "Epoch 1/30\n",
            "13750/13750 [==============================] - 24s 2ms/step - loss: 0.5401 - accuracy: 0.8103 - val_loss: 0.5321 - val_accuracy: 0.8308\n",
            "Epoch 2/30\n",
            "13750/13750 [==============================] - 24s 2ms/step - loss: 0.5211 - accuracy: 0.8168 - val_loss: 0.5383 - val_accuracy: 0.8266\n",
            "Epoch 3/30\n",
            "13750/13750 [==============================] - 24s 2ms/step - loss: 0.5088 - accuracy: 0.8205 - val_loss: 0.5511 - val_accuracy: 0.8146\n",
            "Epoch 4/30\n",
            "13750/13750 [==============================] - 24s 2ms/step - loss: 0.5039 - accuracy: 0.8212 - val_loss: 0.5264 - val_accuracy: 0.8116\n",
            "Epoch 5/30\n",
            "13750/13750 [==============================] - 24s 2ms/step - loss: 0.4930 - accuracy: 0.8243 - val_loss: 0.5210 - val_accuracy: 0.8196\n",
            "Epoch 6/30\n",
            "13750/13750 [==============================] - 24s 2ms/step - loss: 0.4894 - accuracy: 0.8257 - val_loss: 0.5237 - val_accuracy: 0.8194\n",
            "Epoch 7/30\n",
            "13750/13750 [==============================] - 26s 2ms/step - loss: 0.4888 - accuracy: 0.8254 - val_loss: 0.5072 - val_accuracy: 0.8308\n",
            "Epoch 8/30\n",
            "13750/13750 [==============================] - 25s 2ms/step - loss: 0.4855 - accuracy: 0.8268 - val_loss: 0.5145 - val_accuracy: 0.8274\n",
            "Epoch 9/30\n",
            "13750/13750 [==============================] - 25s 2ms/step - loss: 0.4840 - accuracy: 0.8278 - val_loss: 0.5802 - val_accuracy: 0.8064\n",
            "Epoch 10/30\n",
            "13750/13750 [==============================] - 25s 2ms/step - loss: 0.4800 - accuracy: 0.8278 - val_loss: 0.4958 - val_accuracy: 0.8324\n",
            "Epoch 11/30\n",
            "13750/13750 [==============================] - 24s 2ms/step - loss: 0.4794 - accuracy: 0.8290 - val_loss: 0.5608 - val_accuracy: 0.8018\n",
            "Epoch 12/30\n",
            "13750/13750 [==============================] - 27s 2ms/step - loss: 0.4796 - accuracy: 0.8286 - val_loss: 0.5165 - val_accuracy: 0.8244\n",
            "Epoch 13/30\n",
            "13750/13750 [==============================] - 25s 2ms/step - loss: 0.4765 - accuracy: 0.8299 - val_loss: 0.5017 - val_accuracy: 0.8282\n",
            "Epoch 14/30\n",
            "13750/13750 [==============================] - 24s 2ms/step - loss: 0.4731 - accuracy: 0.8315 - val_loss: 0.5236 - val_accuracy: 0.8206\n",
            "Epoch 15/30\n",
            "13750/13750 [==============================] - 25s 2ms/step - loss: 0.4711 - accuracy: 0.8317 - val_loss: 0.4933 - val_accuracy: 0.8352\n",
            "Epoch 16/30\n",
            "13750/13750 [==============================] - 25s 2ms/step - loss: 0.4734 - accuracy: 0.8301 - val_loss: 0.5147 - val_accuracy: 0.8266\n",
            "Epoch 17/30\n",
            "13750/13750 [==============================] - 25s 2ms/step - loss: 0.4741 - accuracy: 0.8308 - val_loss: 0.5436 - val_accuracy: 0.8114\n",
            "Epoch 18/30\n",
            "13750/13750 [==============================] - 25s 2ms/step - loss: 0.4692 - accuracy: 0.8320 - val_loss: 0.5255 - val_accuracy: 0.8146\n",
            "Epoch 19/30\n",
            "13750/13750 [==============================] - 26s 2ms/step - loss: 0.4678 - accuracy: 0.8322 - val_loss: 0.5065 - val_accuracy: 0.8282\n",
            "Epoch 20/30\n",
            "13750/13750 [==============================] - 25s 2ms/step - loss: 0.4668 - accuracy: 0.8325 - val_loss: 0.5186 - val_accuracy: 0.8270\n",
            "Epoch 21/30\n",
            "13750/13750 [==============================] - 25s 2ms/step - loss: 0.4671 - accuracy: 0.8346 - val_loss: 0.4900 - val_accuracy: 0.8360\n",
            "Epoch 22/30\n",
            "13750/13750 [==============================] - 25s 2ms/step - loss: 0.4642 - accuracy: 0.8345 - val_loss: 0.5304 - val_accuracy: 0.8230\n",
            "Epoch 23/30\n",
            "13750/13750 [==============================] - 25s 2ms/step - loss: 0.4648 - accuracy: 0.8332 - val_loss: 0.5170 - val_accuracy: 0.8288\n",
            "Epoch 24/30\n",
            "13750/13750 [==============================] - 36s 3ms/step - loss: 0.4651 - accuracy: 0.8325 - val_loss: 0.4998 - val_accuracy: 0.8360\n",
            "Epoch 25/30\n",
            "13750/13750 [==============================] - 27s 2ms/step - loss: 0.4622 - accuracy: 0.8351 - val_loss: 0.4927 - val_accuracy: 0.8336\n",
            "Epoch 26/30\n",
            "13750/13750 [==============================] - 26s 2ms/step - loss: 0.4631 - accuracy: 0.8342 - val_loss: 0.5096 - val_accuracy: 0.8308\n",
            "Epoch 27/30\n",
            "13750/13750 [==============================] - 27s 2ms/step - loss: 0.4590 - accuracy: 0.8356 - val_loss: 0.5422 - val_accuracy: 0.8228\n",
            "Epoch 28/30\n",
            "13750/13750 [==============================] - 26s 2ms/step - loss: 0.4586 - accuracy: 0.8376 - val_loss: 0.4984 - val_accuracy: 0.8322\n",
            "Epoch 29/30\n",
            "13750/13750 [==============================] - 26s 2ms/step - loss: 0.4588 - accuracy: 0.8366 - val_loss: 0.5039 - val_accuracy: 0.8338\n",
            "Epoch 30/30\n",
            "13750/13750 [==============================] - 26s 2ms/step - loss: 0.4583 - accuracy: 0.8366 - val_loss: 0.5210 - val_accuracy: 0.8254\n"
          ],
          "name": "stdout"
        }
      ]
    },
    {
      "cell_type": "code",
      "metadata": {
        "colab": {
          "base_uri": "https://localhost:8080/"
        },
        "id": "0DXvTxHjIqPD",
        "outputId": "ced7caef-a621-421f-bb39-3b95abf07a36"
      },
      "source": [
        "model.evaluate(X_test, y_test)"
      ],
      "execution_count": 99,
      "outputs": [
        {
          "output_type": "stream",
          "text": [
            "313/313 [==============================] - 1s 2ms/step - loss: 0.5368 - accuracy: 0.8103\n"
          ],
          "name": "stdout"
        },
        {
          "output_type": "execute_result",
          "data": {
            "text/plain": [
              "[0.5367795825004578, 0.8102999925613403]"
            ]
          },
          "metadata": {
            "tags": []
          },
          "execution_count": 99
        }
      ]
    },
    {
      "cell_type": "code",
      "metadata": {
        "colab": {
          "base_uri": "https://localhost:8080/",
          "height": 328
        },
        "id": "vHbb7NV3qtc2",
        "outputId": "b1cc73f1-ba4c-4af7-91f1-f62f8f547050"
      },
      "source": [
        "import pandas as pd\n",
        "\n",
        "pd.DataFrame(history.history).plot(figsize=(8, 5))\n",
        "\n",
        "plt.grid(True)\n",
        "plt.gca().set_ylim(0, 1)\n",
        "plt.show()"
      ],
      "execution_count": 101,
      "outputs": [
        {
          "output_type": "display_data",
          "data": {
            "image/png": "[encoded data removed]",
            "text/plain": [
              "<Figure size 576x360 with 1 Axes>"
            ]
          },
          "metadata": {
            "tags": [],
            "needs_background": "light"
          }
        }
      ]
    },
    {
      "cell_type": "markdown",
      "metadata": {
        "id": "Yxug3VNMq8yy"
      },
      "source": [
        "3) Plot Learning curves when using different number of **epochs**"
      ]
    },
    {
      "cell_type": "code",
      "metadata": {
        "colab": {
          "base_uri": "https://localhost:8080/"
        },
        "id": "bHFXskoHqyTc",
        "outputId": "78bd487f-7f8a-4dcc-8683-15d3b3b42b7a"
      },
      "source": [
        "history1= model.fit(X_train, y_train, batch_size=32, epochs=6,\n",
        "                    validation_data=(X_valid, y_valid))"
      ],
      "execution_count": 105,
      "outputs": [
        {
          "output_type": "stream",
          "text": [
            "Epoch 1/6\n",
            "1719/1719 [==============================] - 6s 3ms/step - loss: 0.4203 - accuracy: 0.8497 - val_loss: 0.4884 - val_accuracy: 0.8374\n",
            "Epoch 2/6\n",
            "1719/1719 [==============================] - 6s 4ms/step - loss: 0.4200 - accuracy: 0.8498 - val_loss: 0.4872 - val_accuracy: 0.8386\n",
            "Epoch 3/6\n",
            "1719/1719 [==============================] - 6s 3ms/step - loss: 0.4194 - accuracy: 0.8494 - val_loss: 0.4882 - val_accuracy: 0.8382\n",
            "Epoch 4/6\n",
            "1719/1719 [==============================] - 7s 4ms/step - loss: 0.4191 - accuracy: 0.8501 - val_loss: 0.4862 - val_accuracy: 0.8360\n",
            "Epoch 5/6\n",
            "1719/1719 [==============================] - 10s 6ms/step - loss: 0.4194 - accuracy: 0.8486 - val_loss: 0.4895 - val_accuracy: 0.8364\n",
            "Epoch 6/6\n",
            "1719/1719 [==============================] - 6s 3ms/step - loss: 0.4190 - accuracy: 0.8493 - val_loss: 0.4946 - val_accuracy: 0.8362\n"
          ],
          "name": "stdout"
        }
      ]
    },
    {
      "cell_type": "code",
      "metadata": {
        "colab": {
          "base_uri": "https://localhost:8080/"
        },
        "id": "Bj-vbT5FrZaH",
        "outputId": "7ba3c0b6-4b3f-4cc4-939d-ed855c6ead52"
      },
      "source": [
        "epochs6 =model.evaluate(X_test, y_test)"
      ],
      "execution_count": 106,
      "outputs": [
        {
          "output_type": "stream",
          "text": [
            "313/313 [==============================] - 1s 2ms/step - loss: 0.5099 - accuracy: 0.8257\n"
          ],
          "name": "stdout"
        }
      ]
    },
    {
      "cell_type": "code",
      "metadata": {
        "colab": {
          "base_uri": "https://localhost:8080/",
          "height": 328
        },
        "id": "coDkkHESrkLQ",
        "outputId": "8a61b016-8668-403f-bb07-250f0b4f0420"
      },
      "source": [
        "import pandas as pd\n",
        "\n",
        "pd.DataFrame(history1.history).plot(figsize=(8, 5))\n",
        "\n",
        "plt.grid(True)\n",
        "plt.gca().set_ylim(0, 1)\n",
        "plt.show()"
      ],
      "execution_count": 108,
      "outputs": [
        {
          "output_type": "display_data",
          "data": {
            "image/png": "[encoded data removed]",
            "text/plain": [
              "<Figure size 576x360 with 1 Axes>"
            ]
          },
          "metadata": {
            "tags": [],
            "needs_background": "light"
          }
        }
      ]
    },
    {
      "cell_type": "markdown",
      "metadata": {
        "id": "KScIT-zPsK48"
      },
      "source": [
        "**4) Add additional neurons and use Dropout Layer. Plot Learning curves.**"
      ]
    },
    {
      "cell_type": "code",
      "metadata": {
        "id": "8k3GQB_PsR50"
      },
      "source": [
        "from keras.layers import Dropout"
      ],
      "execution_count": 109,
      "outputs": []
    },
    {
      "cell_type": "code",
      "metadata": {
        "id": "B4jrtZCBsYLj"
      },
      "source": [
        "model = keras.models.Sequential()\n",
        "model.add(keras.layers.Flatten(input_shape=[28, 28]))\n",
        "model.add(keras.layers.Dense(300, activation=\"relu\"))\n",
        "model.add((keras.layers.Dropout(0.1)))\n",
        "model.add(keras.layers.Dense(100, activation=\"relu\"))\n",
        "model.add(keras.layers.Dense(10, activation=\"softmax\"))\n"
      ],
      "execution_count": 110,
      "outputs": []
    },
    {
      "cell_type": "code",
      "metadata": {
        "colab": {
          "base_uri": "https://localhost:8080/"
        },
        "id": "QAoQaCFmsxPo",
        "outputId": "0e827d89-949f-4b59-867d-ed4e8c096ce7"
      },
      "source": [
        "model.layers"
      ],
      "execution_count": 111,
      "outputs": [
        {
          "output_type": "execute_result",
          "data": {
            "text/plain": [
              "[<tensorflow.python.keras.layers.core.Flatten at 0x7f8b92644a20>,\n",
              " <tensorflow.python.keras.layers.core.Dense at 0x7f8b92644ac8>,\n",
              " <tensorflow.python.keras.layers.core.Dropout at 0x7f8b80379a58>,\n",
              " <tensorflow.python.keras.layers.core.Dense at 0x7f8b87d21160>,\n",
              " <tensorflow.python.keras.layers.core.Dense at 0x7f8b92644e10>]"
            ]
          },
          "metadata": {
            "tags": []
          },
          "execution_count": 111
        }
      ]
    },
    {
      "cell_type": "code",
      "metadata": {
        "colab": {
          "base_uri": "https://localhost:8080/"
        },
        "id": "mhSUwuj7sz2c",
        "outputId": "32e67d22-b0f8-4c80-e788-b12f69b81b12"
      },
      "source": [
        "model.summary()"
      ],
      "execution_count": 112,
      "outputs": [
        {
          "output_type": "stream",
          "text": [
            "Model: \"sequential_1\"\n",
            "_________________________________________________________________\n",
            "Layer (type)                 Output Shape              Param #   \n",
            "=================================================================\n",
            "flatten_1 (Flatten)          (None, 784)               0         \n",
            "_________________________________________________________________\n",
            "dense_3 (Dense)              (None, 300)               235500    \n",
            "_________________________________________________________________\n",
            "dropout (Dropout)            (None, 300)               0         \n",
            "_________________________________________________________________\n",
            "dense_4 (Dense)              (None, 100)               30100     \n",
            "_________________________________________________________________\n",
            "dense_5 (Dense)              (None, 10)                1010      \n",
            "=================================================================\n",
            "Total params: 266,610\n",
            "Trainable params: 266,610\n",
            "Non-trainable params: 0\n",
            "_________________________________________________________________\n"
          ],
          "name": "stdout"
        }
      ]
    },
    {
      "cell_type": "code",
      "metadata": {
        "colab": {
          "base_uri": "https://localhost:8080/",
          "height": 36
        },
        "id": "RH_dCYS6s8c5",
        "outputId": "a6290a41-93cf-4b3f-a515-91d4d81bf1c7"
      },
      "source": [
        "hidden1 = model.layers[3]\n",
        "hidden1.name"
      ],
      "execution_count": 113,
      "outputs": [
        {
          "output_type": "execute_result",
          "data": {
            "application/vnd.google.colaboratory.intrinsic+json": {
              "type": "string"
            },
            "text/plain": [
              "'dense_4'"
            ]
          },
          "metadata": {
            "tags": []
          },
          "execution_count": 113
        }
      ]
    },
    {
      "cell_type": "code",
      "metadata": {
        "id": "HtgMCkD3tLQv"
      },
      "source": [
        "weights, biases = hidden1.get_weights()"
      ],
      "execution_count": 114,
      "outputs": []
    },
    {
      "cell_type": "code",
      "metadata": {
        "colab": {
          "base_uri": "https://localhost:8080/"
        },
        "id": "wnu26avAtPb5",
        "outputId": "c7a07d4d-428d-4dfc-cf50-75f83a0560d7"
      },
      "source": [
        "weights"
      ],
      "execution_count": 115,
      "outputs": [
        {
          "output_type": "execute_result",
          "data": {
            "text/plain": [
              "array([[-0.03082101, -0.02269322,  0.08911093, ...,  0.03810149,\n",
              "        -0.05755454, -0.10734405],\n",
              "       [-0.0797624 ,  0.08614623,  0.00297145, ..., -0.01464582,\n",
              "        -0.00871284, -0.10593427],\n",
              "       [-0.11369836,  0.10165171,  0.07550151, ...,  0.01275932,\n",
              "         0.0881192 ,  0.08594295],\n",
              "       ...,\n",
              "       [ 0.03468842,  0.05353511,  0.07433157, ...,  0.10151464,\n",
              "        -0.0477954 ,  0.04444558],\n",
              "       [-0.01828641, -0.0886441 ,  0.0938135 , ..., -0.09728456,\n",
              "         0.00788685,  0.09753562],\n",
              "       [ 0.03693355, -0.04561049, -0.08978858, ..., -0.02788843,\n",
              "        -0.04227289, -0.03195012]], dtype=float32)"
            ]
          },
          "metadata": {
            "tags": []
          },
          "execution_count": 115
        }
      ]
    },
    {
      "cell_type": "code",
      "metadata": {
        "colab": {
          "base_uri": "https://localhost:8080/"
        },
        "id": "E0jwiAbJtSiD",
        "outputId": "4c26711a-9895-4f32-8a84-c40616d9eade"
      },
      "source": [
        "weights.shape"
      ],
      "execution_count": 116,
      "outputs": [
        {
          "output_type": "execute_result",
          "data": {
            "text/plain": [
              "(300, 100)"
            ]
          },
          "metadata": {
            "tags": []
          },
          "execution_count": 116
        }
      ]
    },
    {
      "cell_type": "code",
      "metadata": {
        "colab": {
          "base_uri": "https://localhost:8080/"
        },
        "id": "qCTzMqF-tVoe",
        "outputId": "93dc865e-bfe8-4aeb-8217-2c8fedc66050"
      },
      "source": [
        "biases"
      ],
      "execution_count": 117,
      "outputs": [
        {
          "output_type": "execute_result",
          "data": {
            "text/plain": [
              "array([0., 0., 0., 0., 0., 0., 0., 0., 0., 0., 0., 0., 0., 0., 0., 0., 0.,\n",
              "       0., 0., 0., 0., 0., 0., 0., 0., 0., 0., 0., 0., 0., 0., 0., 0., 0.,\n",
              "       0., 0., 0., 0., 0., 0., 0., 0., 0., 0., 0., 0., 0., 0., 0., 0., 0.,\n",
              "       0., 0., 0., 0., 0., 0., 0., 0., 0., 0., 0., 0., 0., 0., 0., 0., 0.,\n",
              "       0., 0., 0., 0., 0., 0., 0., 0., 0., 0., 0., 0., 0., 0., 0., 0., 0.,\n",
              "       0., 0., 0., 0., 0., 0., 0., 0., 0., 0., 0., 0., 0., 0., 0.],\n",
              "      dtype=float32)"
            ]
          },
          "metadata": {
            "tags": []
          },
          "execution_count": 117
        }
      ]
    },
    {
      "cell_type": "code",
      "metadata": {
        "id": "o3urGOg8tdQR"
      },
      "source": [
        "model.compile(loss=\"sparse_categorical_crossentropy\",\n",
        "              optimizer=\"sgd\",\n",
        "              metrics=[\"accuracy\"])"
      ],
      "execution_count": 118,
      "outputs": []
    },
    {
      "cell_type": "code",
      "metadata": {
        "colab": {
          "base_uri": "https://localhost:8080/"
        },
        "id": "wmQKKAoatgEs",
        "outputId": "20507744-a93f-4724-d679-0d0ee537b64f"
      },
      "source": [
        "history2 = model.fit(X_train, y_train, batch_size=32, epochs=30,\n",
        "                    validation_data=(X_valid, y_valid))\n",
        "\n"
      ],
      "execution_count": 119,
      "outputs": [
        {
          "output_type": "stream",
          "text": [
            "Epoch 1/30\n",
            "1719/1719 [==============================] - 5s 3ms/step - loss: 0.7306 - accuracy: 0.7577 - val_loss: 0.5108 - val_accuracy: 0.8300\n",
            "Epoch 2/30\n",
            "1719/1719 [==============================] - 5s 3ms/step - loss: 0.5058 - accuracy: 0.8242 - val_loss: 0.4426 - val_accuracy: 0.8482\n",
            "Epoch 3/30\n",
            "1719/1719 [==============================] - 5s 3ms/step - loss: 0.4539 - accuracy: 0.8408 - val_loss: 0.4135 - val_accuracy: 0.8606\n",
            "Epoch 4/30\n",
            "1719/1719 [==============================] - 5s 3ms/step - loss: 0.4219 - accuracy: 0.8512 - val_loss: 0.4007 - val_accuracy: 0.8646\n",
            "Epoch 5/30\n",
            "1719/1719 [==============================] - 5s 3ms/step - loss: 0.3987 - accuracy: 0.8588 - val_loss: 0.3820 - val_accuracy: 0.8680\n",
            "Epoch 6/30\n",
            "1719/1719 [==============================] - 5s 3ms/step - loss: 0.3820 - accuracy: 0.8639 - val_loss: 0.3825 - val_accuracy: 0.8660\n",
            "Epoch 7/30\n",
            "1719/1719 [==============================] - 5s 3ms/step - loss: 0.3675 - accuracy: 0.8684 - val_loss: 0.3525 - val_accuracy: 0.8760\n",
            "Epoch 8/30\n",
            "1719/1719 [==============================] - 5s 3ms/step - loss: 0.3547 - accuracy: 0.8734 - val_loss: 0.3488 - val_accuracy: 0.8786\n",
            "Epoch 9/30\n",
            "1719/1719 [==============================] - 5s 3ms/step - loss: 0.3443 - accuracy: 0.8760 - val_loss: 0.3380 - val_accuracy: 0.8784\n",
            "Epoch 10/30\n",
            "1719/1719 [==============================] - 6s 3ms/step - loss: 0.3345 - accuracy: 0.8797 - val_loss: 0.3453 - val_accuracy: 0.8768\n",
            "Epoch 11/30\n",
            "1719/1719 [==============================] - 6s 3ms/step - loss: 0.3266 - accuracy: 0.8824 - val_loss: 0.3388 - val_accuracy: 0.8794\n",
            "Epoch 12/30\n",
            "1719/1719 [==============================] - 5s 3ms/step - loss: 0.3187 - accuracy: 0.8851 - val_loss: 0.3249 - val_accuracy: 0.8832\n",
            "Epoch 13/30\n",
            "1719/1719 [==============================] - 5s 3ms/step - loss: 0.3117 - accuracy: 0.8885 - val_loss: 0.3198 - val_accuracy: 0.8854\n",
            "Epoch 14/30\n",
            "1719/1719 [==============================] - 5s 3ms/step - loss: 0.3065 - accuracy: 0.8883 - val_loss: 0.3159 - val_accuracy: 0.8862\n",
            "Epoch 15/30\n",
            "1719/1719 [==============================] - 5s 3ms/step - loss: 0.2988 - accuracy: 0.8927 - val_loss: 0.3112 - val_accuracy: 0.8888\n",
            "Epoch 16/30\n",
            "1719/1719 [==============================] - 5s 3ms/step - loss: 0.2926 - accuracy: 0.8932 - val_loss: 0.3139 - val_accuracy: 0.8880\n",
            "Epoch 17/30\n",
            "1719/1719 [==============================] - 5s 3ms/step - loss: 0.2864 - accuracy: 0.8967 - val_loss: 0.3163 - val_accuracy: 0.8876\n",
            "Epoch 18/30\n",
            "1719/1719 [==============================] - 5s 3ms/step - loss: 0.2810 - accuracy: 0.8979 - val_loss: 0.3213 - val_accuracy: 0.8842\n",
            "Epoch 19/30\n",
            "1719/1719 [==============================] - 5s 3ms/step - loss: 0.2771 - accuracy: 0.8998 - val_loss: 0.3036 - val_accuracy: 0.8896\n",
            "Epoch 20/30\n",
            "1719/1719 [==============================] - 5s 3ms/step - loss: 0.2712 - accuracy: 0.9017 - val_loss: 0.3061 - val_accuracy: 0.8878\n",
            "Epoch 21/30\n",
            "1719/1719 [==============================] - 5s 3ms/step - loss: 0.2657 - accuracy: 0.9029 - val_loss: 0.3141 - val_accuracy: 0.8912\n",
            "Epoch 22/30\n",
            "1719/1719 [==============================] - 5s 3ms/step - loss: 0.2599 - accuracy: 0.9069 - val_loss: 0.3004 - val_accuracy: 0.8948\n",
            "Epoch 23/30\n",
            "1719/1719 [==============================] - 5s 3ms/step - loss: 0.2578 - accuracy: 0.9061 - val_loss: 0.3087 - val_accuracy: 0.8918\n",
            "Epoch 24/30\n",
            "1719/1719 [==============================] - 5s 3ms/step - loss: 0.2531 - accuracy: 0.9094 - val_loss: 0.3037 - val_accuracy: 0.8928\n",
            "Epoch 25/30\n",
            "1719/1719 [==============================] - 5s 3ms/step - loss: 0.2495 - accuracy: 0.9098 - val_loss: 0.2980 - val_accuracy: 0.8932\n",
            "Epoch 26/30\n",
            "1719/1719 [==============================] - 5s 3ms/step - loss: 0.2445 - accuracy: 0.9110 - val_loss: 0.3071 - val_accuracy: 0.8940\n",
            "Epoch 27/30\n",
            "1719/1719 [==============================] - 5s 3ms/step - loss: 0.2420 - accuracy: 0.9113 - val_loss: 0.2968 - val_accuracy: 0.8964\n",
            "Epoch 28/30\n",
            "1719/1719 [==============================] - 5s 3ms/step - loss: 0.2371 - accuracy: 0.9135 - val_loss: 0.2941 - val_accuracy: 0.8934\n",
            "Epoch 29/30\n",
            "1719/1719 [==============================] - 5s 3ms/step - loss: 0.2350 - accuracy: 0.9139 - val_loss: 0.3028 - val_accuracy: 0.8892\n",
            "Epoch 30/30\n",
            "1719/1719 [==============================] - 5s 3ms/step - loss: 0.2312 - accuracy: 0.9158 - val_loss: 0.2925 - val_accuracy: 0.8952\n"
          ],
          "name": "stdout"
        }
      ]
    },
    {
      "cell_type": "code",
      "metadata": {
        "colab": {
          "base_uri": "https://localhost:8080/"
        },
        "id": "0XghaY3buQgb",
        "outputId": "cd476e03-c109-46a1-ce07-c6e0db1da8c6"
      },
      "source": [
        "eval1 = model.evaluate(X_test, y_test)"
      ],
      "execution_count": 120,
      "outputs": [
        {
          "output_type": "stream",
          "text": [
            "313/313 [==============================] - 0s 1ms/step - loss: 0.3220 - accuracy: 0.8835\n"
          ],
          "name": "stdout"
        }
      ]
    },
    {
      "cell_type": "code",
      "metadata": {
        "colab": {
          "base_uri": "https://localhost:8080/",
          "height": 328
        },
        "id": "_E6cyAmxuLGe",
        "outputId": "69ed1583-3aed-42bd-e06e-16e1b9fc92fa"
      },
      "source": [
        "pd.DataFrame(history2.history).plot(figsize=(8, 5))\n",
        "plt.grid(True)\n",
        "plt.gca().set_ylim(0, 1)\n",
        "plt.show()"
      ],
      "execution_count": 121,
      "outputs": [
        {
          "output_type": "display_data",
          "data": {
            "image/png": "[encoded data removed]",
            "text/plain": [
              "<Figure size 576x360 with 1 Axes>"
            ]
          },
          "metadata": {
            "tags": [],
            "needs_background": "light"
          }
        }
      ]
    },
    {
      "cell_type": "markdown",
      "metadata": {
        "id": "I_QQXlTKumBk"
      },
      "source": [
        "**5) Use Batch Normalisation**"
      ]
    },
    {
      "cell_type": "code",
      "metadata": {
        "id": "l6n3wyo9uj_I"
      },
      "source": [
        "model = keras.models.Sequential()\n",
        "model.add(keras.layers.Flatten(input_shape=[28, 28]))\n",
        "model.add(keras.layers.Dense(300, activation=\"relu\"))\n",
        "model.add((keras.layers.Dropout(0.1)))\n",
        "model.add(keras.layers.Dense(100, activation=\"relu\"))\n",
        "model.add(keras.layers.BatchNormalization())\n",
        "model.add(keras.layers.Dense(10, activation=\"softmax\"))"
      ],
      "execution_count": 122,
      "outputs": []
    },
    {
      "cell_type": "code",
      "metadata": {
        "colab": {
          "base_uri": "https://localhost:8080/"
        },
        "id": "zzEW7f5wup0T",
        "outputId": "36d79ba2-62da-4c84-8f41-d2741f4b177c"
      },
      "source": [
        "model.layers"
      ],
      "execution_count": 123,
      "outputs": [
        {
          "output_type": "execute_result",
          "data": {
            "text/plain": [
              "[<tensorflow.python.keras.layers.core.Flatten at 0x7f8b87d21860>,\n",
              " <tensorflow.python.keras.layers.core.Dense at 0x7f8b7b7262e8>,\n",
              " <tensorflow.python.keras.layers.core.Dropout at 0x7f8b83437710>,\n",
              " <tensorflow.python.keras.layers.core.Dense at 0x7f8b8a44c208>,\n",
              " <tensorflow.python.keras.layers.normalization_v2.BatchNormalization at 0x7f8b7b726668>,\n",
              " <tensorflow.python.keras.layers.core.Dense at 0x7f8b83419668>]"
            ]
          },
          "metadata": {
            "tags": []
          },
          "execution_count": 123
        }
      ]
    },
    {
      "cell_type": "code",
      "metadata": {
        "id": "GLEqzMLTuxjN"
      },
      "source": [
        "model.compile(loss=\"sparse_categorical_crossentropy\",\n",
        "              optimizer=\"sgd\",\n",
        "              metrics=[\"accuracy\"])"
      ],
      "execution_count": 124,
      "outputs": []
    },
    {
      "cell_type": "code",
      "metadata": {
        "colab": {
          "base_uri": "https://localhost:8080/"
        },
        "id": "NN21sYJuu4Gn",
        "outputId": "c4ae6363-061e-4c82-a119-d22efe1a033d"
      },
      "source": [
        "history3 = model.fit(X_train, y_train, batch_size=32, epochs=30,\n",
        "                    validation_data=(X_valid, y_valid))"
      ],
      "execution_count": 125,
      "outputs": [
        {
          "output_type": "stream",
          "text": [
            "Epoch 1/30\n",
            "1719/1719 [==============================] - 6s 3ms/step - loss: 0.5841 - accuracy: 0.7981 - val_loss: 0.4292 - val_accuracy: 0.8490\n",
            "Epoch 2/30\n",
            "1719/1719 [==============================] - 6s 3ms/step - loss: 0.4320 - accuracy: 0.8470 - val_loss: 0.3688 - val_accuracy: 0.8696\n",
            "Epoch 3/30\n",
            "1719/1719 [==============================] - 6s 3ms/step - loss: 0.3923 - accuracy: 0.8594 - val_loss: 0.3570 - val_accuracy: 0.8732\n",
            "Epoch 4/30\n",
            "1719/1719 [==============================] - 6s 3ms/step - loss: 0.3650 - accuracy: 0.8686 - val_loss: 0.3457 - val_accuracy: 0.8740\n",
            "Epoch 5/30\n",
            "1719/1719 [==============================] - 5s 3ms/step - loss: 0.3465 - accuracy: 0.8752 - val_loss: 0.3521 - val_accuracy: 0.8724\n",
            "Epoch 6/30\n",
            "1719/1719 [==============================] - 6s 3ms/step - loss: 0.3300 - accuracy: 0.8795 - val_loss: 0.3457 - val_accuracy: 0.8756\n",
            "Epoch 7/30\n",
            "1719/1719 [==============================] - 5s 3ms/step - loss: 0.3152 - accuracy: 0.8842 - val_loss: 0.3244 - val_accuracy: 0.8814\n",
            "Epoch 8/30\n",
            "1719/1719 [==============================] - 5s 3ms/step - loss: 0.3062 - accuracy: 0.8883 - val_loss: 0.3175 - val_accuracy: 0.8826\n",
            "Epoch 9/30\n",
            "1719/1719 [==============================] - 6s 3ms/step - loss: 0.2964 - accuracy: 0.8923 - val_loss: 0.3113 - val_accuracy: 0.8882\n",
            "Epoch 10/30\n",
            "1719/1719 [==============================] - 6s 3ms/step - loss: 0.2869 - accuracy: 0.8951 - val_loss: 0.3045 - val_accuracy: 0.8876\n",
            "Epoch 11/30\n",
            "1719/1719 [==============================] - 6s 3ms/step - loss: 0.2785 - accuracy: 0.8979 - val_loss: 0.3047 - val_accuracy: 0.8894\n",
            "Epoch 12/30\n",
            "1719/1719 [==============================] - 6s 3ms/step - loss: 0.2688 - accuracy: 0.9014 - val_loss: 0.2965 - val_accuracy: 0.8914\n",
            "Epoch 13/30\n",
            "1719/1719 [==============================] - 6s 3ms/step - loss: 0.2636 - accuracy: 0.9034 - val_loss: 0.2913 - val_accuracy: 0.8956\n",
            "Epoch 14/30\n",
            "1719/1719 [==============================] - 6s 3ms/step - loss: 0.2566 - accuracy: 0.9047 - val_loss: 0.2927 - val_accuracy: 0.8954\n",
            "Epoch 15/30\n",
            "1719/1719 [==============================] - 6s 3ms/step - loss: 0.2514 - accuracy: 0.9073 - val_loss: 0.2961 - val_accuracy: 0.8940\n",
            "Epoch 16/30\n",
            "1719/1719 [==============================] - 6s 3ms/step - loss: 0.2440 - accuracy: 0.9092 - val_loss: 0.3042 - val_accuracy: 0.8866\n",
            "Epoch 17/30\n",
            "1719/1719 [==============================] - 6s 3ms/step - loss: 0.2399 - accuracy: 0.9104 - val_loss: 0.3052 - val_accuracy: 0.8916\n",
            "Epoch 18/30\n",
            "1719/1719 [==============================] - 6s 3ms/step - loss: 0.2335 - accuracy: 0.9138 - val_loss: 0.3122 - val_accuracy: 0.8870\n",
            "Epoch 19/30\n",
            "1719/1719 [==============================] - 6s 3ms/step - loss: 0.2301 - accuracy: 0.9154 - val_loss: 0.2990 - val_accuracy: 0.8932\n",
            "Epoch 20/30\n",
            "1719/1719 [==============================] - 6s 3ms/step - loss: 0.2240 - accuracy: 0.9170 - val_loss: 0.2849 - val_accuracy: 0.8978\n",
            "Epoch 21/30\n",
            "1719/1719 [==============================] - 5s 3ms/step - loss: 0.2207 - accuracy: 0.9175 - val_loss: 0.3304 - val_accuracy: 0.8876\n",
            "Epoch 22/30\n",
            "1719/1719 [==============================] - 6s 3ms/step - loss: 0.2176 - accuracy: 0.9204 - val_loss: 0.2971 - val_accuracy: 0.8928\n",
            "Epoch 23/30\n",
            "1719/1719 [==============================] - 6s 3ms/step - loss: 0.2139 - accuracy: 0.9205 - val_loss: 0.3104 - val_accuracy: 0.8900\n",
            "Epoch 24/30\n",
            "1719/1719 [==============================] - 6s 3ms/step - loss: 0.2091 - accuracy: 0.9223 - val_loss: 0.3017 - val_accuracy: 0.8926\n",
            "Epoch 25/30\n",
            "1719/1719 [==============================] - 6s 3ms/step - loss: 0.2045 - accuracy: 0.9240 - val_loss: 0.2904 - val_accuracy: 0.8950\n",
            "Epoch 26/30\n",
            "1719/1719 [==============================] - 5s 3ms/step - loss: 0.2011 - accuracy: 0.9250 - val_loss: 0.3068 - val_accuracy: 0.8922\n",
            "Epoch 27/30\n",
            "1719/1719 [==============================] - 5s 3ms/step - loss: 0.1991 - accuracy: 0.9256 - val_loss: 0.3199 - val_accuracy: 0.8894\n",
            "Epoch 28/30\n",
            "1719/1719 [==============================] - 5s 3ms/step - loss: 0.1957 - accuracy: 0.9268 - val_loss: 0.3046 - val_accuracy: 0.8940\n",
            "Epoch 29/30\n",
            "1719/1719 [==============================] - 5s 3ms/step - loss: 0.1918 - accuracy: 0.9285 - val_loss: 0.2890 - val_accuracy: 0.8990\n",
            "Epoch 30/30\n",
            "1719/1719 [==============================] - 6s 3ms/step - loss: 0.1873 - accuracy: 0.9297 - val_loss: 0.2893 - val_accuracy: 0.8980\n"
          ],
          "name": "stdout"
        }
      ]
    },
    {
      "cell_type": "code",
      "metadata": {
        "colab": {
          "base_uri": "https://localhost:8080/"
        },
        "id": "MVRDycpbvhfR",
        "outputId": "72943909-cf28-4205-ca00-b78e6e39e9c3"
      },
      "source": [
        "zval2 = model.evaluate(X_test, y_test)"
      ],
      "execution_count": 126,
      "outputs": [
        {
          "output_type": "stream",
          "text": [
            "313/313 [==============================] - 1s 2ms/step - loss: 0.3233 - accuracy: 0.8902\n"
          ],
          "name": "stdout"
        }
      ]
    },
    {
      "cell_type": "code",
      "metadata": {
        "colab": {
          "base_uri": "https://localhost:8080/",
          "height": 328
        },
        "id": "7d9sRkZ0vpSc",
        "outputId": "24f6500a-a2bd-4e09-888a-2a90d4b38cfc"
      },
      "source": [
        "pd.DataFrame(history3.history).plot(figsize=(8, 5))\n",
        "plt.grid(True)\n",
        "plt.gca().set_ylim(0, 1)\n",
        "plt.show()"
      ],
      "execution_count": 127,
      "outputs": [
        {
          "output_type": "display_data",
          "data": {
            "image/png": "[encoded data removed]",
            "text/plain": [
              "<Figure size 576x360 with 1 Axes>"
            ]
          },
          "metadata": {
            "tags": [],
            "needs_background": "light"
          }
        }
      ]
    },
    {
      "cell_type": "markdown",
      "metadata": {
        "id": "Iy_Y1wybv_Ds"
      },
      "source": [
        "**6) repeat with more layers**"
      ]
    },
    {
      "cell_type": "code",
      "metadata": {
        "id": "jrg9tw7Yv_tV"
      },
      "source": [
        "model = keras.models.Sequential()\n",
        "model.add(keras.layers.Flatten(input_shape=[28, 28]))\n",
        "model.add(keras.layers.Dense(300, activation=\"relu\"))\n",
        "model.add((keras.layers.Dropout(0.3)))\n",
        "model.add(keras.layers.Dense(180, activation=\"relu\"))\n",
        "model.add((keras.layers.Dropout(0.3)))\n",
        "model.add(keras.layers.Dense(90, activation=\"relu\"))\n",
        "model.add(keras.layers.BatchNormalization())\n",
        "model.add(keras.layers.Dense(10, activation=\"softmax\"))"
      ],
      "execution_count": 129,
      "outputs": []
    },
    {
      "cell_type": "code",
      "metadata": {
        "colab": {
          "base_uri": "https://localhost:8080/"
        },
        "id": "YUmYnt9zw1s8",
        "outputId": "36b32e3e-aee3-4de7-ae66-66a23854415f"
      },
      "source": [
        "model.layers"
      ],
      "execution_count": 130,
      "outputs": [
        {
          "output_type": "execute_result",
          "data": {
            "text/plain": [
              "[<tensorflow.python.keras.layers.core.Flatten at 0x7f8b7969f320>,\n",
              " <tensorflow.python.keras.layers.core.Dense at 0x7f8b7969f400>,\n",
              " <tensorflow.python.keras.layers.core.Dropout at 0x7f8b7861c9b0>,\n",
              " <tensorflow.python.keras.layers.core.Dense at 0x7f8b7861c4e0>,\n",
              " <tensorflow.python.keras.layers.core.Dropout at 0x7f8b7861c358>,\n",
              " <tensorflow.python.keras.layers.core.Dense at 0x7f8b78622a20>,\n",
              " <tensorflow.python.keras.layers.normalization_v2.BatchNormalization at 0x7f8b785bf8d0>,\n",
              " <tensorflow.python.keras.layers.core.Dense at 0x7f8b785b3c18>]"
            ]
          },
          "metadata": {
            "tags": []
          },
          "execution_count": 130
        }
      ]
    },
    {
      "cell_type": "code",
      "metadata": {
        "id": "dOw9qo86w4ww"
      },
      "source": [
        "model.compile(loss=\"sparse_categorical_crossentropy\",\n",
        "              optimizer=\"sgd\",\n",
        "              metrics=[\"accuracy\"])"
      ],
      "execution_count": 131,
      "outputs": []
    },
    {
      "cell_type": "code",
      "metadata": {
        "colab": {
          "base_uri": "https://localhost:8080/"
        },
        "id": "qUTkUefNxBr5",
        "outputId": "0c126ae2-59f2-4c64-a0e9-715d12e4c7c3"
      },
      "source": [
        "history4 = model.fit(X_train, y_train, batch_size=32, epochs=30,\n",
        "                    validation_data=(X_valid, y_valid))"
      ],
      "execution_count": 132,
      "outputs": [
        {
          "output_type": "stream",
          "text": [
            "Epoch 1/30\n",
            "1719/1719 [==============================] - 6s 4ms/step - loss: 0.7618 - accuracy: 0.7351 - val_loss: 0.4415 - val_accuracy: 0.8452\n",
            "Epoch 2/30\n",
            "1719/1719 [==============================] - 6s 4ms/step - loss: 0.5250 - accuracy: 0.8161 - val_loss: 0.3942 - val_accuracy: 0.8576\n",
            "Epoch 3/30\n",
            "1719/1719 [==============================] - 6s 3ms/step - loss: 0.4765 - accuracy: 0.8286 - val_loss: 0.3631 - val_accuracy: 0.8660\n",
            "Epoch 4/30\n",
            "1719/1719 [==============================] - 6s 4ms/step - loss: 0.4431 - accuracy: 0.8409 - val_loss: 0.3510 - val_accuracy: 0.8744\n",
            "Epoch 5/30\n",
            "1719/1719 [==============================] - 6s 3ms/step - loss: 0.4179 - accuracy: 0.8497 - val_loss: 0.3417 - val_accuracy: 0.8754\n",
            "Epoch 6/30\n",
            "1719/1719 [==============================] - 6s 4ms/step - loss: 0.4032 - accuracy: 0.8557 - val_loss: 0.3284 - val_accuracy: 0.8810\n",
            "Epoch 7/30\n",
            "1719/1719 [==============================] - 6s 4ms/step - loss: 0.3940 - accuracy: 0.8581 - val_loss: 0.3372 - val_accuracy: 0.8740\n",
            "Epoch 8/30\n",
            "1719/1719 [==============================] - 6s 3ms/step - loss: 0.3798 - accuracy: 0.8627 - val_loss: 0.3207 - val_accuracy: 0.8804\n",
            "Epoch 9/30\n",
            "1719/1719 [==============================] - 6s 3ms/step - loss: 0.3681 - accuracy: 0.8661 - val_loss: 0.3162 - val_accuracy: 0.8840\n",
            "Epoch 10/30\n",
            "1719/1719 [==============================] - 6s 3ms/step - loss: 0.3564 - accuracy: 0.8708 - val_loss: 0.3112 - val_accuracy: 0.8828\n",
            "Epoch 11/30\n",
            "1719/1719 [==============================] - 6s 3ms/step - loss: 0.3516 - accuracy: 0.8723 - val_loss: 0.3199 - val_accuracy: 0.8796\n",
            "Epoch 12/30\n",
            "1719/1719 [==============================] - 6s 4ms/step - loss: 0.3431 - accuracy: 0.8747 - val_loss: 0.3024 - val_accuracy: 0.8878\n",
            "Epoch 13/30\n",
            "1719/1719 [==============================] - 6s 4ms/step - loss: 0.3381 - accuracy: 0.8767 - val_loss: 0.3042 - val_accuracy: 0.8890\n",
            "Epoch 14/30\n",
            "1719/1719 [==============================] - 6s 4ms/step - loss: 0.3312 - accuracy: 0.8791 - val_loss: 0.3078 - val_accuracy: 0.8878\n",
            "Epoch 15/30\n",
            "1719/1719 [==============================] - 6s 3ms/step - loss: 0.3254 - accuracy: 0.8809 - val_loss: 0.3023 - val_accuracy: 0.8886\n",
            "Epoch 16/30\n",
            "1719/1719 [==============================] - 6s 4ms/step - loss: 0.3204 - accuracy: 0.8817 - val_loss: 0.3070 - val_accuracy: 0.8874\n",
            "Epoch 17/30\n",
            "1719/1719 [==============================] - 6s 4ms/step - loss: 0.3177 - accuracy: 0.8836 - val_loss: 0.3008 - val_accuracy: 0.8922\n",
            "Epoch 18/30\n",
            "1719/1719 [==============================] - 6s 4ms/step - loss: 0.3117 - accuracy: 0.8863 - val_loss: 0.2915 - val_accuracy: 0.8908\n",
            "Epoch 19/30\n",
            "1719/1719 [==============================] - 6s 4ms/step - loss: 0.3075 - accuracy: 0.8868 - val_loss: 0.2987 - val_accuracy: 0.8880\n",
            "Epoch 20/30\n",
            "1719/1719 [==============================] - 6s 4ms/step - loss: 0.3045 - accuracy: 0.8901 - val_loss: 0.2939 - val_accuracy: 0.8928\n",
            "Epoch 21/30\n",
            "1719/1719 [==============================] - 6s 4ms/step - loss: 0.3000 - accuracy: 0.8885 - val_loss: 0.2970 - val_accuracy: 0.8894\n",
            "Epoch 22/30\n",
            "1719/1719 [==============================] - 6s 3ms/step - loss: 0.2976 - accuracy: 0.8913 - val_loss: 0.2901 - val_accuracy: 0.8920\n",
            "Epoch 23/30\n",
            "1719/1719 [==============================] - 6s 3ms/step - loss: 0.2912 - accuracy: 0.8935 - val_loss: 0.2859 - val_accuracy: 0.8954\n",
            "Epoch 24/30\n",
            "1719/1719 [==============================] - 6s 3ms/step - loss: 0.2886 - accuracy: 0.8941 - val_loss: 0.2871 - val_accuracy: 0.8914\n",
            "Epoch 25/30\n",
            "1719/1719 [==============================] - 6s 3ms/step - loss: 0.2837 - accuracy: 0.8957 - val_loss: 0.2841 - val_accuracy: 0.8944\n",
            "Epoch 26/30\n",
            "1719/1719 [==============================] - 6s 3ms/step - loss: 0.2803 - accuracy: 0.8955 - val_loss: 0.2904 - val_accuracy: 0.8940\n",
            "Epoch 27/30\n",
            "1719/1719 [==============================] - 6s 3ms/step - loss: 0.2773 - accuracy: 0.8970 - val_loss: 0.2958 - val_accuracy: 0.8904\n",
            "Epoch 28/30\n",
            "1719/1719 [==============================] - 6s 3ms/step - loss: 0.2753 - accuracy: 0.8968 - val_loss: 0.2832 - val_accuracy: 0.8934\n",
            "Epoch 29/30\n",
            "1719/1719 [==============================] - 6s 4ms/step - loss: 0.2730 - accuracy: 0.8980 - val_loss: 0.2787 - val_accuracy: 0.8984\n",
            "Epoch 30/30\n",
            "1719/1719 [==============================] - 6s 4ms/step - loss: 0.2707 - accuracy: 0.8999 - val_loss: 0.2866 - val_accuracy: 0.8970\n"
          ],
          "name": "stdout"
        }
      ]
    },
    {
      "cell_type": "code",
      "metadata": {
        "colab": {
          "base_uri": "https://localhost:8080/"
        },
        "id": "XP8HwQ-myDZK",
        "outputId": "1eb6ca4d-8a0e-4d09-b35e-0278206f2298"
      },
      "source": [
        "eval3 = model.evaluate(X_test, y_test)"
      ],
      "execution_count": 133,
      "outputs": [
        {
          "output_type": "stream",
          "text": [
            "313/313 [==============================] - 1s 2ms/step - loss: 0.3208 - accuracy: 0.8836\n"
          ],
          "name": "stdout"
        }
      ]
    },
    {
      "cell_type": "code",
      "metadata": {
        "colab": {
          "base_uri": "https://localhost:8080/",
          "height": 328
        },
        "id": "HclZL6nQyR-G",
        "outputId": "3116a14c-4fb0-438d-8147-65e7688aab68"
      },
      "source": [
        "pd.DataFrame(history4.history).plot(figsize=(8, 5))\n",
        "plt.grid(True)\n",
        "plt.gca().set_ylim(0, 1)\n",
        "plt.show()"
      ],
      "execution_count": 134,
      "outputs": [
        {
          "output_type": "display_data",
          "data": {
            "image/png": "[encoded data removed]",
            "text/plain": [
              "<Figure size 576x360 with 1 Axes>"
            ]
          },
          "metadata": {
            "tags": [],
            "needs_background": "light"
          }
        }
      ]
    },
    {
      "cell_type": "code",
      "metadata": {
        "colab": {
          "base_uri": "https://localhost:8080/"
        },
        "id": "M_yECpGRzEnH",
        "outputId": "2a5ea23d-513a-4cdf-bb78-5d514ef090d0"
      },
      "source": [
        "minist = keras.datasets.mnist\n",
        "(X_train_full, y_train_full), (X_test, y_test) = minist.load_data()"
      ],
      "execution_count": 139,
      "outputs": [
        {
          "output_type": "stream",
          "text": [
            "Downloading data from https://storage.googleapis.com/tensorflow/tf-keras-datasets/mnist.npz\n",
            "11493376/11490434 [==============================] - 0s 0us/step\n"
          ],
          "name": "stdout"
        }
      ]
    },
    {
      "cell_type": "code",
      "metadata": {
        "colab": {
          "base_uri": "https://localhost:8080/"
        },
        "id": "L1Xs6pKv2ifT",
        "outputId": "b910c7af-11fd-4ee5-c736-c8b929ee8bd9"
      },
      "source": [
        "X_train_full.shape"
      ],
      "execution_count": 140,
      "outputs": [
        {
          "output_type": "execute_result",
          "data": {
            "text/plain": [
              "(60000, 28, 28)"
            ]
          },
          "metadata": {
            "tags": []
          },
          "execution_count": 140
        }
      ]
    },
    {
      "cell_type": "code",
      "metadata": {
        "colab": {
          "base_uri": "https://localhost:8080/"
        },
        "id": "wDF2rHRM2mr8",
        "outputId": "a54b460e-342d-4ea5-b253-96e2906ef38a"
      },
      "source": [
        "y_train_full"
      ],
      "execution_count": 141,
      "outputs": [
        {
          "output_type": "execute_result",
          "data": {
            "text/plain": [
              "array([5, 0, 4, ..., 5, 6, 8], dtype=uint8)"
            ]
          },
          "metadata": {
            "tags": []
          },
          "execution_count": 141
        }
      ]
    },
    {
      "cell_type": "code",
      "metadata": {
        "id": "AZDHZIFs2w9N"
      },
      "source": [
        "X_valid, X_train = X_train_full[:5000] / 255., X_train_full[5000:] / 255.\n",
        "y_valid, y_train = y_train_full[:5000], y_train_full[5000:]\n",
        "X_test = X_test / 255."
      ],
      "execution_count": 142,
      "outputs": []
    },
    {
      "cell_type": "code",
      "metadata": {
        "colab": {
          "base_uri": "https://localhost:8080/"
        },
        "id": "lZoB9JVS2zOg",
        "outputId": "01e7a430-92f3-4fca-9204-741dd7263162"
      },
      "source": [
        "y_train"
      ],
      "execution_count": 143,
      "outputs": [
        {
          "output_type": "execute_result",
          "data": {
            "text/plain": [
              "array([7, 3, 4, ..., 5, 6, 8], dtype=uint8)"
            ]
          },
          "metadata": {
            "tags": []
          },
          "execution_count": 143
        }
      ]
    },
    {
      "cell_type": "code",
      "metadata": {
        "colab": {
          "base_uri": "https://localhost:8080/"
        },
        "id": "dWyo5U9R22so",
        "outputId": "b8020cf7-2a77-4b25-dc83-87a9d40bafc4"
      },
      "source": [
        "X_train"
      ],
      "execution_count": 144,
      "outputs": [
        {
          "output_type": "execute_result",
          "data": {
            "text/plain": [
              "array([[[0., 0., 0., ..., 0., 0., 0.],\n",
              "        [0., 0., 0., ..., 0., 0., 0.],\n",
              "        [0., 0., 0., ..., 0., 0., 0.],\n",
              "        ...,\n",
              "        [0., 0., 0., ..., 0., 0., 0.],\n",
              "        [0., 0., 0., ..., 0., 0., 0.],\n",
              "        [0., 0., 0., ..., 0., 0., 0.]],\n",
              "\n",
              "       [[0., 0., 0., ..., 0., 0., 0.],\n",
              "        [0., 0., 0., ..., 0., 0., 0.],\n",
              "        [0., 0., 0., ..., 0., 0., 0.],\n",
              "        ...,\n",
              "        [0., 0., 0., ..., 0., 0., 0.],\n",
              "        [0., 0., 0., ..., 0., 0., 0.],\n",
              "        [0., 0., 0., ..., 0., 0., 0.]],\n",
              "\n",
              "       [[0., 0., 0., ..., 0., 0., 0.],\n",
              "        [0., 0., 0., ..., 0., 0., 0.],\n",
              "        [0., 0., 0., ..., 0., 0., 0.],\n",
              "        ...,\n",
              "        [0., 0., 0., ..., 0., 0., 0.],\n",
              "        [0., 0., 0., ..., 0., 0., 0.],\n",
              "        [0., 0., 0., ..., 0., 0., 0.]],\n",
              "\n",
              "       ...,\n",
              "\n",
              "       [[0., 0., 0., ..., 0., 0., 0.],\n",
              "        [0., 0., 0., ..., 0., 0., 0.],\n",
              "        [0., 0., 0., ..., 0., 0., 0.],\n",
              "        ...,\n",
              "        [0., 0., 0., ..., 0., 0., 0.],\n",
              "        [0., 0., 0., ..., 0., 0., 0.],\n",
              "        [0., 0., 0., ..., 0., 0., 0.]],\n",
              "\n",
              "       [[0., 0., 0., ..., 0., 0., 0.],\n",
              "        [0., 0., 0., ..., 0., 0., 0.],\n",
              "        [0., 0., 0., ..., 0., 0., 0.],\n",
              "        ...,\n",
              "        [0., 0., 0., ..., 0., 0., 0.],\n",
              "        [0., 0., 0., ..., 0., 0., 0.],\n",
              "        [0., 0., 0., ..., 0., 0., 0.]],\n",
              "\n",
              "       [[0., 0., 0., ..., 0., 0., 0.],\n",
              "        [0., 0., 0., ..., 0., 0., 0.],\n",
              "        [0., 0., 0., ..., 0., 0., 0.],\n",
              "        ...,\n",
              "        [0., 0., 0., ..., 0., 0., 0.],\n",
              "        [0., 0., 0., ..., 0., 0., 0.],\n",
              "        [0., 0., 0., ..., 0., 0., 0.]]])"
            ]
          },
          "metadata": {
            "tags": []
          },
          "execution_count": 144
        }
      ]
    },
    {
      "cell_type": "code",
      "metadata": {
        "id": "giRg4LlZ26Hy"
      },
      "source": [
        "class_names = [\"0\", \"1\", \"2\", \"3\", \"4\",\"5\", \"6\", \"7\", \"8\", \"9\"]"
      ],
      "execution_count": 145,
      "outputs": []
    },
    {
      "cell_type": "code",
      "metadata": {
        "colab": {
          "base_uri": "https://localhost:8080/",
          "height": 36
        },
        "id": "_RG7IRZm3Dhi",
        "outputId": "0e1303a9-b2e4-49c6-efaf-374c1b3a20da"
      },
      "source": [
        "class_names[y_train[4]]"
      ],
      "execution_count": 147,
      "outputs": [
        {
          "output_type": "execute_result",
          "data": {
            "application/vnd.google.colaboratory.intrinsic+json": {
              "type": "string"
            },
            "text/plain": [
              "'1'"
            ]
          },
          "metadata": {
            "tags": []
          },
          "execution_count": 147
        }
      ]
    },
    {
      "cell_type": "code",
      "metadata": {
        "colab": {
          "base_uri": "https://localhost:8080/",
          "height": 308
        },
        "id": "b5-g9l3s3Pu7",
        "outputId": "729f1385-0630-4375-fdd6-87d24b38bb83"
      },
      "source": [
        "n_rows = 4\n",
        "n_cols = 4\n",
        "plt.figure(figsize=(n_cols * 1.2, n_rows * 1.2))\n",
        "for row in range(n_rows):\n",
        "    for col in range(n_cols):\n",
        "        index = n_cols * row + col\n",
        "        plt.subplot(n_rows, n_cols, index + 1)\n",
        "        plt.imshow(X_train[index], cmap=\"binary\", interpolation=\"nearest\")\n",
        "        plt.axis('off')\n",
        "        plt.title(class_names[y_train[index]], fontsize=12)\n",
        "plt.subplots_adjust(wspace=0.2, hspace=0.5)\n",
        "plt.show()"
      ],
      "execution_count": 150,
      "outputs": [
        {
          "output_type": "display_data",
          "data": {
            "image/png": "[encoded data removed]",
            "text/plain": [
              "<Figure size 345.6x345.6 with 16 Axes>"
            ]
          },
          "metadata": {
            "tags": [],
            "needs_background": "light"
          }
        }
      ]
    },
    {
      "cell_type": "code",
      "metadata": {
        "colab": {
          "base_uri": "https://localhost:8080/",
          "height": 248
        },
        "id": "2GhFNsrJ3iul",
        "outputId": "dd7f3d8b-d891-4da8-f4ec-7bdbcf6c9070"
      },
      "source": [
        "plt.imshow(X_train[0], cmap=\"binary\")\n",
        "plt.axis('off')\n",
        "plt.show()"
      ],
      "execution_count": 151,
      "outputs": [
        {
          "output_type": "display_data",
          "data": {
            "image/png": "[encoded data removed]",
            "text/plain": [
              "<Figure size 432x288 with 1 Axes>"
            ]
          },
          "metadata": {
            "tags": [],
            "needs_background": "light"
          }
        }
      ]
    },
    {
      "cell_type": "code",
      "metadata": {
        "colab": {
          "base_uri": "https://localhost:8080/",
          "height": 248
        },
        "id": "51rQu9Af3pOH",
        "outputId": "3116f44a-7b92-4322-adb8-b6fa6c940e72"
      },
      "source": [
        "plt.imshow(X_train[7], cmap=\"binary\")\n",
        "plt.axis('off')\n",
        "plt.show()"
      ],
      "execution_count": 152,
      "outputs": [
        {
          "output_type": "display_data",
          "data": {
            "image/png": "[encoded data removed]",
            "text/plain": [
              "<Figure size 432x288 with 1 Axes>"
            ]
          },
          "metadata": {
            "tags": [],
            "needs_background": "light"
          }
        }
      ]
    },
    {
      "cell_type": "code",
      "metadata": {
        "id": "8mbED8Dx3sYF"
      },
      "source": [
        "model = keras.models.Sequential()\n",
        "model.add(keras.layers.Flatten(input_shape=[28, 28]))\n",
        "model.add(keras.layers.Dense(300, activation=\"relu\"))\n",
        "model.add((keras.layers.Dropout(0.3)))\n",
        "model.add(keras.layers.Dense(180, activation=\"relu\"))\n",
        "model.add((keras.layers.Dropout(0.3)))\n",
        "model.add(keras.layers.Dense(90, activation=\"relu\"))\n",
        "model.add(keras.layers.BatchNormalization())\n",
        "model.add(keras.layers.Dense(10, activation=\"softmax\"))"
      ],
      "execution_count": 153,
      "outputs": []
    },
    {
      "cell_type": "code",
      "metadata": {
        "colab": {
          "base_uri": "https://localhost:8080/"
        },
        "id": "nFkMplLb3_Ac",
        "outputId": "e158bde9-4729-4c39-8611-7d8bb155b102"
      },
      "source": [
        "model.layers"
      ],
      "execution_count": 154,
      "outputs": [
        {
          "output_type": "execute_result",
          "data": {
            "text/plain": [
              "[<tensorflow.python.keras.layers.core.Flatten at 0x7f8b8039e940>,\n",
              " <tensorflow.python.keras.layers.core.Dense at 0x7f8b8039eb70>,\n",
              " <tensorflow.python.keras.layers.core.Dropout at 0x7f8bc7345cf8>,\n",
              " <tensorflow.python.keras.layers.core.Dense at 0x7f8b7b79b518>,\n",
              " <tensorflow.python.keras.layers.core.Dropout at 0x7f8b773c9d30>,\n",
              " <tensorflow.python.keras.layers.core.Dense at 0x7f8b7968b5f8>,\n",
              " <tensorflow.python.keras.layers.normalization_v2.BatchNormalization at 0x7f8b7b6cdeb8>,\n",
              " <tensorflow.python.keras.layers.core.Dense at 0x7f8b7b6cd828>]"
            ]
          },
          "metadata": {
            "tags": []
          },
          "execution_count": 154
        }
      ]
    },
    {
      "cell_type": "code",
      "metadata": {
        "colab": {
          "base_uri": "https://localhost:8080/"
        },
        "id": "CPkBMPZO4Alv",
        "outputId": "067a723f-a558-4726-81df-e89f9714bf03"
      },
      "source": [
        "model.summary()"
      ],
      "execution_count": 155,
      "outputs": [
        {
          "output_type": "stream",
          "text": [
            "Model: \"sequential_5\"\n",
            "_________________________________________________________________\n",
            "Layer (type)                 Output Shape              Param #   \n",
            "=================================================================\n",
            "flatten_5 (Flatten)          (None, 784)               0         \n",
            "_________________________________________________________________\n",
            "dense_17 (Dense)             (None, 300)               235500    \n",
            "_________________________________________________________________\n",
            "dropout_6 (Dropout)          (None, 300)               0         \n",
            "_________________________________________________________________\n",
            "dense_18 (Dense)             (None, 180)               54180     \n",
            "_________________________________________________________________\n",
            "dropout_7 (Dropout)          (None, 180)               0         \n",
            "_________________________________________________________________\n",
            "dense_19 (Dense)             (None, 90)                16290     \n",
            "_________________________________________________________________\n",
            "batch_normalization_3 (Batch (None, 90)                360       \n",
            "_________________________________________________________________\n",
            "dense_20 (Dense)             (None, 10)                910       \n",
            "=================================================================\n",
            "Total params: 307,240\n",
            "Trainable params: 307,060\n",
            "Non-trainable params: 180\n",
            "_________________________________________________________________\n"
          ],
          "name": "stdout"
        }
      ]
    },
    {
      "cell_type": "code",
      "metadata": {
        "colab": {
          "base_uri": "https://localhost:8080/",
          "height": 36
        },
        "id": "kLRlDIhX4KPC",
        "outputId": "ab755f32-1491-4492-e538-6a5797452844"
      },
      "source": [
        "hidden1 = model.layers[3]\n",
        "hidden1.name"
      ],
      "execution_count": 156,
      "outputs": [
        {
          "output_type": "execute_result",
          "data": {
            "application/vnd.google.colaboratory.intrinsic+json": {
              "type": "string"
            },
            "text/plain": [
              "'dense_18'"
            ]
          },
          "metadata": {
            "tags": []
          },
          "execution_count": 156
        }
      ]
    },
    {
      "cell_type": "code",
      "metadata": {
        "colab": {
          "base_uri": "https://localhost:8080/"
        },
        "id": "ThRKk2IF4Di0",
        "outputId": "e2d96c01-e0ad-4f46-a7aa-f3182a8fb8ab"
      },
      "source": [
        "model.get_layer(hidden1.name) is hidden1"
      ],
      "execution_count": 157,
      "outputs": [
        {
          "output_type": "execute_result",
          "data": {
            "text/plain": [
              "True"
            ]
          },
          "metadata": {
            "tags": []
          },
          "execution_count": 157
        }
      ]
    },
    {
      "cell_type": "code",
      "metadata": {
        "id": "neP_jQzK4T9-"
      },
      "source": [
        "weights, biases = hidden1.get_weights()"
      ],
      "execution_count": 158,
      "outputs": []
    },
    {
      "cell_type": "code",
      "metadata": {
        "colab": {
          "base_uri": "https://localhost:8080/"
        },
        "id": "LU0K7Hbc4YGk",
        "outputId": "8f04a076-67f5-49b3-dd1f-426544cabe9d"
      },
      "source": [
        "weights"
      ],
      "execution_count": 159,
      "outputs": [
        {
          "output_type": "execute_result",
          "data": {
            "text/plain": [
              "array([[ 0.00861768,  0.02491942, -0.05415845, ..., -0.05272148,\n",
              "         0.00309245, -0.08093777],\n",
              "       [-0.02886537,  0.07962069, -0.08836792, ...,  0.05434731,\n",
              "         0.05253091,  0.03567757],\n",
              "       [ 0.02215625, -0.05146134, -0.08521081, ..., -0.02138585,\n",
              "         0.04999168,  0.07195511],\n",
              "       ...,\n",
              "       [-0.00815005, -0.04938604,  0.08716935, ..., -0.05934779,\n",
              "        -0.0143195 ,  0.08128305],\n",
              "       [ 0.02675629,  0.05019395,  0.00461994, ...,  0.03650966,\n",
              "         0.08062853,  0.0824666 ],\n",
              "       [ 0.03867584,  0.01762369, -0.09385164, ...,  0.00244289,\n",
              "         0.07034339,  0.06795157]], dtype=float32)"
            ]
          },
          "metadata": {
            "tags": []
          },
          "execution_count": 159
        }
      ]
    },
    {
      "cell_type": "code",
      "metadata": {
        "id": "I1SB2jQQ4cjL"
      },
      "source": [
        "model.compile(loss=\"sparse_categorical_crossentropy\",\n",
        "              optimizer=\"sgd\",\n",
        "              metrics=[\"accuracy\"])"
      ],
      "execution_count": 160,
      "outputs": []
    },
    {
      "cell_type": "code",
      "metadata": {
        "colab": {
          "base_uri": "https://localhost:8080/"
        },
        "id": "ke3XrmUG4gZh",
        "outputId": "28ff7390-df89-4efe-b918-bee5414d819d"
      },
      "source": [
        "history7 = model.fit(X_train, y_train, batch_size=32, epochs=5,\n",
        "                    validation_data=(X_valid, y_valid))"
      ],
      "execution_count": 161,
      "outputs": [
        {
          "output_type": "stream",
          "text": [
            "Epoch 1/5\n",
            "1719/1719 [==============================] - 7s 4ms/step - loss: 0.5908 - accuracy: 0.8168 - val_loss: 0.2064 - val_accuracy: 0.9410\n",
            "Epoch 2/5\n",
            "1719/1719 [==============================] - 6s 4ms/step - loss: 0.2982 - accuracy: 0.9104 - val_loss: 0.1496 - val_accuracy: 0.9556\n",
            "Epoch 3/5\n",
            "1719/1719 [==============================] - 6s 4ms/step - loss: 0.2333 - accuracy: 0.9299 - val_loss: 0.1235 - val_accuracy: 0.9654\n",
            "Epoch 4/5\n",
            "1719/1719 [==============================] - 7s 4ms/step - loss: 0.1954 - accuracy: 0.9408 - val_loss: 0.1100 - val_accuracy: 0.9686\n",
            "Epoch 5/5\n",
            "1719/1719 [==============================] - 6s 4ms/step - loss: 0.1704 - accuracy: 0.9488 - val_loss: 0.1030 - val_accuracy: 0.9712\n"
          ],
          "name": "stdout"
        }
      ]
    },
    {
      "cell_type": "code",
      "metadata": {
        "colab": {
          "base_uri": "https://localhost:8080/"
        },
        "id": "r2DCBbKT4mmC",
        "outputId": "01d05ba5-2f2a-4545-93b2-55178a069827"
      },
      "source": [
        "eval = model.evaluate(X_test, y_test)"
      ],
      "execution_count": 162,
      "outputs": [
        {
          "output_type": "stream",
          "text": [
            "313/313 [==============================] - 0s 2ms/step - loss: 0.0997 - accuracy: 0.9691\n"
          ],
          "name": "stdout"
        }
      ]
    },
    {
      "cell_type": "code",
      "metadata": {
        "colab": {
          "base_uri": "https://localhost:8080/",
          "height": 328
        },
        "id": "EQYvIEO-4vuS",
        "outputId": "7a672b51-a45a-4d7a-9cb3-be27d4b4f0b8"
      },
      "source": [
        "pd.DataFrame(history7.history).plot(figsize=(8, 5))\n",
        "plt.grid(True)\n",
        "plt.gca().set_ylim(0, 1)\n",
        "plt.show()"
      ],
      "execution_count": 163,
      "outputs": [
        {
          "output_type": "display_data",
          "data": {
            "image/png": "[encoded data removed]",
            "text/plain": [
              "<Figure size 576x360 with 1 Axes>"
            ]
          },
          "metadata": {
            "tags": [],
            "needs_background": "light"
          }
        }
      ]
    }
  ]
}